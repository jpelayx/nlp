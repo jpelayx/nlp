{
 "cells": [
  {
   "cell_type": "code",
   "execution_count": 4,
   "metadata": {},
   "outputs": [],
   "source": [
    "import pandas as pd\n",
    "import numpy as np\n",
    "\n",
    "import torch\n",
    "from transformers import BertTokenizer, BertConfig, BertModel\n",
    "\n",
    "device = \"cuda\" if torch.cuda.is_available() else \"cpu\""
   ]
  },
  {
   "cell_type": "code",
   "execution_count": 5,
   "metadata": {},
   "outputs": [
    {
     "data": {
      "text/plain": [
       "Data(edge_index=[2, 111276], edge_attr=[111276], token_ids=[91294, 147], token_mask=[91294, 147], token_type_ids=[91294, 147])"
      ]
     },
     "execution_count": 5,
     "metadata": {},
     "output_type": "execute_result"
    }
   ],
   "source": [
    "from dataset import RelationsDS\n",
    "\n",
    "data = RelationsDS(root=\"./data\").to(device=device)\n",
    "data[0]"
   ]
  },
  {
   "cell_type": "markdown",
   "metadata": {},
   "source": [
    "# BERT encoder"
   ]
  },
  {
   "cell_type": "code",
   "execution_count": 10,
   "metadata": {},
   "outputs": [
    {
     "data": {
      "text/plain": [
       "torch.Size([91294, 3, 147])"
      ]
     },
     "execution_count": 10,
     "metadata": {},
     "output_type": "execute_result"
    }
   ],
   "source": [
    "from torch.utils.data import DataLoader\n",
    "\n",
    "g = data[0].to(device)\n",
    "tokens = torch.stack([g.token_ids, g.token_mask, g.token_type_ids], dim=1)\n",
    "tokens.shape"
   ]
  },
  {
   "cell_type": "code",
   "execution_count": 11,
   "metadata": {},
   "outputs": [
    {
     "name": "stderr",
     "output_type": "stream",
     "text": [
      "A parameter name that contains `beta` will be renamed internally to `bias`. Please use a different name to suppress this warning.\n",
      "A parameter name that contains `gamma` will be renamed internally to `weight`. Please use a different name to suppress this warning.\n",
      "A parameter name that contains `beta` will be renamed internally to `bias`. Please use a different name to suppress this warning.\n",
      "A parameter name that contains `gamma` will be renamed internally to `weight`. Please use a different name to suppress this warning.\n",
      "A parameter name that contains `beta` will be renamed internally to `bias`. Please use a different name to suppress this warning.\n",
      "A parameter name that contains `gamma` will be renamed internally to `weight`. Please use a different name to suppress this warning.\n",
      "A parameter name that contains `beta` will be renamed internally to `bias`. Please use a different name to suppress this warning.\n",
      "A parameter name that contains `gamma` will be renamed internally to `weight`. Please use a different name to suppress this warning.\n",
      "A parameter name that contains `beta` will be renamed internally to `bias`. Please use a different name to suppress this warning.\n",
      "A parameter name that contains `gamma` will be renamed internally to `weight`. Please use a different name to suppress this warning.\n",
      "A parameter name that contains `beta` will be renamed internally to `bias`. Please use a different name to suppress this warning.\n",
      "A parameter name that contains `gamma` will be renamed internally to `weight`. Please use a different name to suppress this warning.\n",
      "A parameter name that contains `beta` will be renamed internally to `bias`. Please use a different name to suppress this warning.\n",
      "A parameter name that contains `gamma` will be renamed internally to `weight`. Please use a different name to suppress this warning.\n",
      "A parameter name that contains `beta` will be renamed internally to `bias`. Please use a different name to suppress this warning.\n",
      "A parameter name that contains `gamma` will be renamed internally to `weight`. Please use a different name to suppress this warning.\n",
      "A parameter name that contains `beta` will be renamed internally to `bias`. Please use a different name to suppress this warning.\n",
      "A parameter name that contains `gamma` will be renamed internally to `weight`. Please use a different name to suppress this warning.\n",
      "A parameter name that contains `beta` will be renamed internally to `bias`. Please use a different name to suppress this warning.\n",
      "A parameter name that contains `gamma` will be renamed internally to `weight`. Please use a different name to suppress this warning.\n",
      "A parameter name that contains `beta` will be renamed internally to `bias`. Please use a different name to suppress this warning.\n",
      "A parameter name that contains `gamma` will be renamed internally to `weight`. Please use a different name to suppress this warning.\n",
      "A parameter name that contains `beta` will be renamed internally to `bias`. Please use a different name to suppress this warning.\n",
      "A parameter name that contains `gamma` will be renamed internally to `weight`. Please use a different name to suppress this warning.\n",
      "A parameter name that contains `beta` will be renamed internally to `bias`. Please use a different name to suppress this warning.\n",
      "A parameter name that contains `gamma` will be renamed internally to `weight`. Please use a different name to suppress this warning.\n",
      "A parameter name that contains `beta` will be renamed internally to `bias`. Please use a different name to suppress this warning.\n",
      "A parameter name that contains `gamma` will be renamed internally to `weight`. Please use a different name to suppress this warning.\n",
      "A parameter name that contains `beta` will be renamed internally to `bias`. Please use a different name to suppress this warning.\n",
      "A parameter name that contains `gamma` will be renamed internally to `weight`. Please use a different name to suppress this warning.\n",
      "A parameter name that contains `beta` will be renamed internally to `bias`. Please use a different name to suppress this warning.\n",
      "A parameter name that contains `gamma` will be renamed internally to `weight`. Please use a different name to suppress this warning.\n",
      "A parameter name that contains `beta` will be renamed internally to `bias`. Please use a different name to suppress this warning.\n",
      "A parameter name that contains `gamma` will be renamed internally to `weight`. Please use a different name to suppress this warning.\n",
      "A parameter name that contains `beta` will be renamed internally to `bias`. Please use a different name to suppress this warning.\n",
      "A parameter name that contains `gamma` will be renamed internally to `weight`. Please use a different name to suppress this warning.\n",
      "A parameter name that contains `beta` will be renamed internally to `bias`. Please use a different name to suppress this warning.\n",
      "A parameter name that contains `gamma` will be renamed internally to `weight`. Please use a different name to suppress this warning.\n",
      "A parameter name that contains `beta` will be renamed internally to `bias`. Please use a different name to suppress this warning.\n",
      "A parameter name that contains `gamma` will be renamed internally to `weight`. Please use a different name to suppress this warning.\n",
      "A parameter name that contains `beta` will be renamed internally to `bias`. Please use a different name to suppress this warning.\n",
      "A parameter name that contains `gamma` will be renamed internally to `weight`. Please use a different name to suppress this warning.\n",
      "A parameter name that contains `beta` will be renamed internally to `bias`. Please use a different name to suppress this warning.\n",
      "A parameter name that contains `gamma` will be renamed internally to `weight`. Please use a different name to suppress this warning.\n",
      "A parameter name that contains `beta` will be renamed internally to `bias`. Please use a different name to suppress this warning.\n",
      "A parameter name that contains `gamma` will be renamed internally to `weight`. Please use a different name to suppress this warning.\n",
      "A parameter name that contains `beta` will be renamed internally to `bias`. Please use a different name to suppress this warning.\n",
      "A parameter name that contains `gamma` will be renamed internally to `weight`. Please use a different name to suppress this warning.\n",
      "A parameter name that contains `beta` will be renamed internally to `bias`. Please use a different name to suppress this warning.\n",
      "A parameter name that contains `gamma` will be renamed internally to `weight`. Please use a different name to suppress this warning.\n",
      "A parameter name that contains `beta` will be renamed internally to `bias`. Please use a different name to suppress this warning.\n",
      "A parameter name that contains `gamma` will be renamed internally to `weight`. Please use a different name to suppress this warning.\n"
     ]
    }
   ],
   "source": [
    "model = BertModel.from_pretrained(\"bert-base-uncased\").to(device)"
   ]
  },
  {
   "cell_type": "code",
   "execution_count": 36,
   "metadata": {},
   "outputs": [
    {
     "data": {
      "text/plain": [
       "(45647.0, 6521.0)"
      ]
     },
     "execution_count": 36,
     "metadata": {},
     "output_type": "execute_result"
    }
   ],
   "source": [
    "91294 / 2, 45647 / 7"
   ]
  },
  {
   "cell_type": "code",
   "execution_count": 15,
   "metadata": {},
   "outputs": [
    {
     "data": {
      "text/plain": [
       "torch.Size([91294, 3, 147])"
      ]
     },
     "execution_count": 15,
     "metadata": {},
     "output_type": "execute_result"
    }
   ],
   "source": [
    "tokens.shape"
   ]
  },
  {
   "cell_type": "code",
   "execution_count": 19,
   "metadata": {},
   "outputs": [
    {
     "name": "stdout",
     "output_type": "stream",
     "text": [
      "batch 0/90\n",
      "batch 10/90\n",
      "batch 20/90\n",
      "batch 30/90\n",
      "batch 40/90\n",
      "batch 50/90\n",
      "batch 60/90\n",
      "batch 70/90\n",
      "batch 80/90\n"
     ]
    }
   ],
   "source": [
    "batch_size = 1024\n",
    "token_loader = DataLoader(tokens, batch_size=batch_size)\n",
    "\n",
    "encoding_size = 768\n",
    "x = None\n",
    "\n",
    "with torch.no_grad():\n",
    "    for batch_num, token_batch in enumerate(token_loader):\n",
    "        if batch_num % 10 * batch_size == 0:\n",
    "            print(f\"batch {batch_num}/{len(token_loader)}\")\n",
    "        batch_encoding = model(\n",
    "            token_batch[:, 0, :], token_batch[:, 1, :], token_batch[:, 2, :]\n",
    "        ).last_hidden_state[:, 0, :]\n",
    "        if x is None:\n",
    "            x = batch_encoding\n",
    "        else:\n",
    "            x = torch.concat([x, batch_encoding])"
   ]
  },
  {
   "cell_type": "code",
   "execution_count": 20,
   "metadata": {},
   "outputs": [
    {
     "data": {
      "text/plain": [
       "torch.Size([91294, 768])"
      ]
     },
     "execution_count": 20,
     "metadata": {},
     "output_type": "execute_result"
    }
   ],
   "source": [
    "x.shape"
   ]
  },
  {
   "cell_type": "code",
   "execution_count": 7,
   "metadata": {},
   "outputs": [
    {
     "name": "stdout",
     "output_type": "stream",
     "text": [
      "torch.Size([1, 138]) torch.Size([1, 138]) torch.Size([1, 138])\n"
     ]
    }
   ],
   "source": [
    "with torch.no_grad():\n",
    "    idx = 0\n",
    "    id = g.token_ids[idx].unsqueeze(0)\n",
    "    mask = g.token_mask[idx].unsqueeze(0)\n",
    "    type_ids = g.token_type_ids[idx].unsqueeze(0)\n",
    "    print(id.shape, mask.shape, type_ids.shape)\n",
    "\n",
    "    encoding = model(id, mask, type_ids)"
   ]
  },
  {
   "cell_type": "code",
   "execution_count": 5,
   "metadata": {},
   "outputs": [
    {
     "name": "stdout",
     "output_type": "stream",
     "text": [
      "torch.Size([10, 138]) torch.Size([10, 138]) torch.Size([10, 138])\n"
     ]
    }
   ],
   "source": [
    "with torch.no_grad():\n",
    "    num = 10\n",
    "    id = g.token_ids[:num]\n",
    "    mask = g.token_mask[:num]\n",
    "    type_ids = g.token_type_ids[:num]\n",
    "    print(id.shape, mask.shape, type_ids.shape)\n",
    "\n",
    "    encoding = model(id, mask, type_ids)"
   ]
  },
  {
   "cell_type": "code",
   "execution_count": 10,
   "metadata": {},
   "outputs": [
    {
     "name": "stdout",
     "output_type": "stream",
     "text": [
      "torch.Size([10, 768]) <class 'torch.Tensor'>\n",
      "tensor(-0.0102, device='cuda:0') tensor(0.5358, device='cuda:0')\n"
     ]
    }
   ],
   "source": [
    "lhs = encoding.last_hidden_state\n",
    "lhs = lhs[:, 0, :]\n",
    "lhs = lhs.flatten(start_dim=1)\n",
    "print(lhs.shape, type(lhs))\n",
    "print(lhs.mean(), lhs.std())"
   ]
  },
  {
   "cell_type": "markdown",
   "metadata": {},
   "source": [
    "# Model\n",
    "\n",
    "adapted from [Online Link Prediction with Graph Neural Networks](https://medium.com/stanford-cs224w/online-link-prediction-with-graph-neural-networks-46c1054f2aa4)"
   ]
  },
  {
   "cell_type": "code",
   "execution_count": 14,
   "metadata": {},
   "outputs": [],
   "source": [
    "from model import Model, LinkPredictor, NodeEmbedder\n",
    "import torch\n",
    "from torch.nn import functional as F"
   ]
  },
  {
   "cell_type": "code",
   "execution_count": 2,
   "metadata": {},
   "outputs": [
    {
     "name": "stderr",
     "output_type": "stream",
     "text": [
      "Processing...\n",
      "Done!\n"
     ]
    }
   ],
   "source": [
    "from dataset import WN18RR\n",
    "\n",
    "data = WN18RR(root=\"./data/wn18rr\")\n",
    "g = data[0]\n",
    "g.edge_attr = F.one_hot(g.edge_attr, num_classes=12).float().squeeze(1)"
   ]
  },
  {
   "cell_type": "code",
   "execution_count": 15,
   "metadata": {},
   "outputs": [],
   "source": [
    "device = \"cpu\"\n",
    "g = g.to(device)\n",
    "\n",
    "node_embedder = NodeEmbedder(\n",
    "    input_dim=768, hidden_dim=256, output_dim=256, edge_dim=12, num_heads=1, num_layers=2\n",
    ").to(device)\n",
    "\n",
    "link_pred = LinkPredictor(\n",
    "    input_dim=256, hidden_dim=128, output_dim=1, edge_dim=12, num_layers=3\n",
    ").to(device)\n",
    "\n",
    "model = Model(node_embedder, link_pred)"
   ]
  },
  {
   "cell_type": "code",
   "execution_count": 5,
   "metadata": {},
   "outputs": [],
   "source": [
    "emb = node_embedder(g.x, g.edge_index, g.edge_attr)"
   ]
  },
  {
   "cell_type": "code",
   "execution_count": 6,
   "metadata": {},
   "outputs": [],
   "source": [
    "batch = [1,4,8]\n",
    "edge_index = g.edge_index[:, batch]\n",
    "xr = g.edge_attr[batch]\n",
    "xs = emb[edge_index[0]]\n",
    "xo = emb[edge_index[1]]\n",
    "\n",
    "# link_pred(xs, xr, xo)"
   ]
  },
  {
   "cell_type": "code",
   "execution_count": 7,
   "metadata": {},
   "outputs": [
    {
     "data": {
      "text/plain": [
       "tensor([[-0.0201],\n",
       "        [-0.7071],\n",
       "        [ 0.6641]], grad_fn=<AddmmBackward0>)"
      ]
     },
     "execution_count": 7,
     "metadata": {},
     "output_type": "execute_result"
    }
   ],
   "source": [
    "link_pred(xs, xr, xo)"
   ]
  },
  {
   "cell_type": "markdown",
   "metadata": {},
   "source": [
    "# Train procedure"
   ]
  },
  {
   "cell_type": "code",
   "execution_count": 1,
   "metadata": {},
   "outputs": [
    {
     "name": "stderr",
     "output_type": "stream",
     "text": [
      "/home/julia/miniconda3/envs/nlp/lib/python3.12/site-packages/torch/cuda/__init__.py:619: UserWarning: Can't initialize NVML\n",
      "  warnings.warn(\"Can't initialize NVML\")\n"
     ]
    }
   ],
   "source": [
    "from model import Model, LinkPredictor, NodeEmbedder\n",
    "import torch\n",
    "from torch.nn import functional as F\n",
    "\n",
    "node_embedder = NodeEmbedder(\n",
    "    input_dim=768, hidden_dim=256, output_dim=256, edge_dim=12, num_heads=1, num_layers=2\n",
    ")\n",
    "\n",
    "link_pred = LinkPredictor(\n",
    "    input_dim=256, hidden_dim=128, output_dim=1, edge_dim=12, num_layers=3\n",
    ")\n",
    "\n",
    "model = Model(node_embedder, link_pred)"
   ]
  },
  {
   "cell_type": "code",
   "execution_count": 2,
   "metadata": {},
   "outputs": [
    {
     "name": "stderr",
     "output_type": "stream",
     "text": [
      "Processing...\n",
      "Done!\n"
     ]
    }
   ],
   "source": [
    "from dataset import WN18RR\n",
    "from torch_geometric.utils import remove_self_loops, contains_self_loops, structured_negative_sampling\n",
    "from torch.utils.data import TensorDataset\n",
    "\n",
    "data = WN18RR(root=\"./data/wn18rr\")\n",
    "g = data[0]\n",
    "g.edge_attr = F.one_hot(g.edge_attr, 12).float().squeeze(1)\n",
    "\n",
    "target_edges, target_attrs = remove_self_loops(g.edge_index, g.edge_attr)\n",
    "target_labels = torch.ones(target_edges.shape[1], dtype=torch.float)\n",
    "\n",
    "i, _, k = structured_negative_sampling(target_edges, g.num_nodes, contains_neg_self_loops=False)\n",
    "negative_edges = torch.stack([i,k])\n",
    "\n",
    "target_edges = torch.cat([target_edges, negative_edges], dim=1)\n",
    "target_attrs = target_attrs.repeat(2, 1)\n",
    "target_labels = torch.cat([target_labels, torch.zeros_like(target_labels)])\n",
    "\n",
    "targets = TensorDataset(target_edges.T, target_attrs, target_labels)"
   ]
  },
  {
   "cell_type": "code",
   "execution_count": 3,
   "metadata": {},
   "outputs": [
    {
     "name": "stdout",
     "output_type": "stream",
     "text": [
      "torch.Size([2, 10]) torch.Size([10, 12]) tensor([1., 1., 1., 1., 1., 1., 1., 1., 1., 1.])\n"
     ]
    }
   ],
   "source": [
    "from torch.utils.data import DataLoader\n",
    "loader = DataLoader(targets, batch_size=10)\n",
    "for e, a, l in loader:\n",
    "    print(e.T.shape, a.shape, l)\n",
    "    model(g.x, g.edge_index, g.edge_attr, e.T, a)\n",
    "    break"
   ]
  },
  {
   "cell_type": "code",
   "execution_count": 4,
   "metadata": {},
   "outputs": [
    {
     "ename": "KeyboardInterrupt",
     "evalue": "",
     "output_type": "error",
     "traceback": [
      "\u001b[0;31m---------------------------------------------------------------------------\u001b[0m",
      "\u001b[0;31mKeyboardInterrupt\u001b[0m                         Traceback (most recent call last)",
      "Cell \u001b[0;32mIn[4], line 6\u001b[0m\n\u001b[1;32m      2\u001b[0m \u001b[38;5;28;01mfrom\u001b[39;00m \u001b[38;5;21;01mtorch\u001b[39;00m\u001b[38;5;21;01m.\u001b[39;00m\u001b[38;5;21;01moptim\u001b[39;00m \u001b[38;5;28;01mimport\u001b[39;00m Adam\n\u001b[1;32m      4\u001b[0m optimizer \u001b[38;5;241m=\u001b[39m Adam(model\u001b[38;5;241m.\u001b[39mparameters())\n\u001b[0;32m----> 6\u001b[0m mean_loss \u001b[38;5;241m=\u001b[39m \u001b[43mtrain\u001b[49m\u001b[43m(\u001b[49m\u001b[43mmodel\u001b[49m\u001b[43m,\u001b[49m\u001b[43m \u001b[49m\u001b[43moptimizer\u001b[49m\u001b[43m,\u001b[49m\u001b[43m \u001b[49m\u001b[43mg\u001b[49m\u001b[43m,\u001b[49m\u001b[43m \u001b[49m\u001b[43mtargets\u001b[49m\u001b[43m,\u001b[49m\u001b[43m \u001b[49m\u001b[43mbatch_size\u001b[49m\u001b[38;5;241;43m=\u001b[39;49m\u001b[38;5;241;43m1024\u001b[39;49m\u001b[43m)\u001b[49m\n",
      "File \u001b[0;32m~/Documents/nlp/train.py:29\u001b[0m, in \u001b[0;36mtrain\u001b[0;34m(model, optimizer, g, targets, batch_size, scheduler)\u001b[0m\n\u001b[1;32m     27\u001b[0m total_loss \u001b[38;5;241m=\u001b[39m \u001b[38;5;241m0\u001b[39m\n\u001b[1;32m     28\u001b[0m \u001b[38;5;28;01mfor\u001b[39;00m edges, attrs, labels \u001b[38;5;129;01min\u001b[39;00m link_loader:\n\u001b[0;32m---> 29\u001b[0m     preds \u001b[38;5;241m=\u001b[39m \u001b[43mmodel\u001b[49m\u001b[43m(\u001b[49m\u001b[43mg\u001b[49m\u001b[38;5;241;43m.\u001b[39;49m\u001b[43mx\u001b[49m\u001b[43m,\u001b[49m\u001b[43m \u001b[49m\u001b[43mg\u001b[49m\u001b[38;5;241;43m.\u001b[39;49m\u001b[43medge_index\u001b[49m\u001b[43m,\u001b[49m\u001b[43m \u001b[49m\u001b[43mg\u001b[49m\u001b[38;5;241;43m.\u001b[39;49m\u001b[43medge_attr\u001b[49m\u001b[43m,\u001b[49m\u001b[43m \u001b[49m\u001b[43medges\u001b[49m\u001b[38;5;241;43m.\u001b[39;49m\u001b[43mT\u001b[49m\u001b[43m,\u001b[49m\u001b[43m \u001b[49m\u001b[43mattrs\u001b[49m\u001b[43m)\u001b[49m\n\u001b[1;32m     30\u001b[0m     loss \u001b[38;5;241m=\u001b[39m F\u001b[38;5;241m.\u001b[39mbinary_cross_entropy_with_logits(preds\u001b[38;5;241m.\u001b[39mflatten(), labels)\n\u001b[1;32m     31\u001b[0m     loss\u001b[38;5;241m.\u001b[39mbackward()\n",
      "File \u001b[0;32m~/miniconda3/envs/nlp/lib/python3.12/site-packages/torch/nn/modules/module.py:1532\u001b[0m, in \u001b[0;36mModule._wrapped_call_impl\u001b[0;34m(self, *args, **kwargs)\u001b[0m\n\u001b[1;32m   1530\u001b[0m     \u001b[38;5;28;01mreturn\u001b[39;00m \u001b[38;5;28mself\u001b[39m\u001b[38;5;241m.\u001b[39m_compiled_call_impl(\u001b[38;5;241m*\u001b[39margs, \u001b[38;5;241m*\u001b[39m\u001b[38;5;241m*\u001b[39mkwargs)  \u001b[38;5;66;03m# type: ignore[misc]\u001b[39;00m\n\u001b[1;32m   1531\u001b[0m \u001b[38;5;28;01melse\u001b[39;00m:\n\u001b[0;32m-> 1532\u001b[0m     \u001b[38;5;28;01mreturn\u001b[39;00m \u001b[38;5;28;43mself\u001b[39;49m\u001b[38;5;241;43m.\u001b[39;49m\u001b[43m_call_impl\u001b[49m\u001b[43m(\u001b[49m\u001b[38;5;241;43m*\u001b[39;49m\u001b[43margs\u001b[49m\u001b[43m,\u001b[49m\u001b[43m \u001b[49m\u001b[38;5;241;43m*\u001b[39;49m\u001b[38;5;241;43m*\u001b[39;49m\u001b[43mkwargs\u001b[49m\u001b[43m)\u001b[49m\n",
      "File \u001b[0;32m~/miniconda3/envs/nlp/lib/python3.12/site-packages/torch/nn/modules/module.py:1541\u001b[0m, in \u001b[0;36mModule._call_impl\u001b[0;34m(self, *args, **kwargs)\u001b[0m\n\u001b[1;32m   1536\u001b[0m \u001b[38;5;66;03m# If we don't have any hooks, we want to skip the rest of the logic in\u001b[39;00m\n\u001b[1;32m   1537\u001b[0m \u001b[38;5;66;03m# this function, and just call forward.\u001b[39;00m\n\u001b[1;32m   1538\u001b[0m \u001b[38;5;28;01mif\u001b[39;00m \u001b[38;5;129;01mnot\u001b[39;00m (\u001b[38;5;28mself\u001b[39m\u001b[38;5;241m.\u001b[39m_backward_hooks \u001b[38;5;129;01mor\u001b[39;00m \u001b[38;5;28mself\u001b[39m\u001b[38;5;241m.\u001b[39m_backward_pre_hooks \u001b[38;5;129;01mor\u001b[39;00m \u001b[38;5;28mself\u001b[39m\u001b[38;5;241m.\u001b[39m_forward_hooks \u001b[38;5;129;01mor\u001b[39;00m \u001b[38;5;28mself\u001b[39m\u001b[38;5;241m.\u001b[39m_forward_pre_hooks\n\u001b[1;32m   1539\u001b[0m         \u001b[38;5;129;01mor\u001b[39;00m _global_backward_pre_hooks \u001b[38;5;129;01mor\u001b[39;00m _global_backward_hooks\n\u001b[1;32m   1540\u001b[0m         \u001b[38;5;129;01mor\u001b[39;00m _global_forward_hooks \u001b[38;5;129;01mor\u001b[39;00m _global_forward_pre_hooks):\n\u001b[0;32m-> 1541\u001b[0m     \u001b[38;5;28;01mreturn\u001b[39;00m \u001b[43mforward_call\u001b[49m\u001b[43m(\u001b[49m\u001b[38;5;241;43m*\u001b[39;49m\u001b[43margs\u001b[49m\u001b[43m,\u001b[49m\u001b[43m \u001b[49m\u001b[38;5;241;43m*\u001b[39;49m\u001b[38;5;241;43m*\u001b[39;49m\u001b[43mkwargs\u001b[49m\u001b[43m)\u001b[49m\n\u001b[1;32m   1543\u001b[0m \u001b[38;5;28;01mtry\u001b[39;00m:\n\u001b[1;32m   1544\u001b[0m     result \u001b[38;5;241m=\u001b[39m \u001b[38;5;28;01mNone\u001b[39;00m\n",
      "File \u001b[0;32m~/Documents/nlp/model.py:152\u001b[0m, in \u001b[0;36mModel.forward\u001b[0;34m(self, x, edge_index, edge_attr, target_edges, target_edge_attrs)\u001b[0m\n\u001b[1;32m    151\u001b[0m \u001b[38;5;28;01mdef\u001b[39;00m \u001b[38;5;21mforward\u001b[39m(\u001b[38;5;28mself\u001b[39m, x, edge_index, edge_attr, target_edges, target_edge_attrs):\n\u001b[0;32m--> 152\u001b[0m     emb \u001b[38;5;241m=\u001b[39m \u001b[38;5;28;43mself\u001b[39;49m\u001b[38;5;241;43m.\u001b[39;49m\u001b[43mnode_embedder\u001b[49m\u001b[43m(\u001b[49m\u001b[43mx\u001b[49m\u001b[43m,\u001b[49m\u001b[43m \u001b[49m\u001b[43medge_index\u001b[49m\u001b[43m,\u001b[49m\u001b[43m \u001b[49m\u001b[43medge_attr\u001b[49m\u001b[43m)\u001b[49m\n\u001b[1;32m    154\u001b[0m     xs \u001b[38;5;241m=\u001b[39m emb[target_edges[\u001b[38;5;241m0\u001b[39m]]\n\u001b[1;32m    155\u001b[0m     xo \u001b[38;5;241m=\u001b[39m emb[target_edges[\u001b[38;5;241m1\u001b[39m]]\n",
      "File \u001b[0;32m~/miniconda3/envs/nlp/lib/python3.12/site-packages/torch/nn/modules/module.py:1532\u001b[0m, in \u001b[0;36mModule._wrapped_call_impl\u001b[0;34m(self, *args, **kwargs)\u001b[0m\n\u001b[1;32m   1530\u001b[0m     \u001b[38;5;28;01mreturn\u001b[39;00m \u001b[38;5;28mself\u001b[39m\u001b[38;5;241m.\u001b[39m_compiled_call_impl(\u001b[38;5;241m*\u001b[39margs, \u001b[38;5;241m*\u001b[39m\u001b[38;5;241m*\u001b[39mkwargs)  \u001b[38;5;66;03m# type: ignore[misc]\u001b[39;00m\n\u001b[1;32m   1531\u001b[0m \u001b[38;5;28;01melse\u001b[39;00m:\n\u001b[0;32m-> 1532\u001b[0m     \u001b[38;5;28;01mreturn\u001b[39;00m \u001b[38;5;28;43mself\u001b[39;49m\u001b[38;5;241;43m.\u001b[39;49m\u001b[43m_call_impl\u001b[49m\u001b[43m(\u001b[49m\u001b[38;5;241;43m*\u001b[39;49m\u001b[43margs\u001b[49m\u001b[43m,\u001b[49m\u001b[43m \u001b[49m\u001b[38;5;241;43m*\u001b[39;49m\u001b[38;5;241;43m*\u001b[39;49m\u001b[43mkwargs\u001b[49m\u001b[43m)\u001b[49m\n",
      "File \u001b[0;32m~/miniconda3/envs/nlp/lib/python3.12/site-packages/torch/nn/modules/module.py:1541\u001b[0m, in \u001b[0;36mModule._call_impl\u001b[0;34m(self, *args, **kwargs)\u001b[0m\n\u001b[1;32m   1536\u001b[0m \u001b[38;5;66;03m# If we don't have any hooks, we want to skip the rest of the logic in\u001b[39;00m\n\u001b[1;32m   1537\u001b[0m \u001b[38;5;66;03m# this function, and just call forward.\u001b[39;00m\n\u001b[1;32m   1538\u001b[0m \u001b[38;5;28;01mif\u001b[39;00m \u001b[38;5;129;01mnot\u001b[39;00m (\u001b[38;5;28mself\u001b[39m\u001b[38;5;241m.\u001b[39m_backward_hooks \u001b[38;5;129;01mor\u001b[39;00m \u001b[38;5;28mself\u001b[39m\u001b[38;5;241m.\u001b[39m_backward_pre_hooks \u001b[38;5;129;01mor\u001b[39;00m \u001b[38;5;28mself\u001b[39m\u001b[38;5;241m.\u001b[39m_forward_hooks \u001b[38;5;129;01mor\u001b[39;00m \u001b[38;5;28mself\u001b[39m\u001b[38;5;241m.\u001b[39m_forward_pre_hooks\n\u001b[1;32m   1539\u001b[0m         \u001b[38;5;129;01mor\u001b[39;00m _global_backward_pre_hooks \u001b[38;5;129;01mor\u001b[39;00m _global_backward_hooks\n\u001b[1;32m   1540\u001b[0m         \u001b[38;5;129;01mor\u001b[39;00m _global_forward_hooks \u001b[38;5;129;01mor\u001b[39;00m _global_forward_pre_hooks):\n\u001b[0;32m-> 1541\u001b[0m     \u001b[38;5;28;01mreturn\u001b[39;00m \u001b[43mforward_call\u001b[49m\u001b[43m(\u001b[49m\u001b[38;5;241;43m*\u001b[39;49m\u001b[43margs\u001b[49m\u001b[43m,\u001b[49m\u001b[43m \u001b[49m\u001b[38;5;241;43m*\u001b[39;49m\u001b[38;5;241;43m*\u001b[39;49m\u001b[43mkwargs\u001b[49m\u001b[43m)\u001b[49m\n\u001b[1;32m   1543\u001b[0m \u001b[38;5;28;01mtry\u001b[39;00m:\n\u001b[1;32m   1544\u001b[0m     result \u001b[38;5;241m=\u001b[39m \u001b[38;5;28;01mNone\u001b[39;00m\n",
      "File \u001b[0;32m~/Documents/nlp/model.py:84\u001b[0m, in \u001b[0;36mNodeEmbedder.forward\u001b[0;34m(self, x, edge_index, edge_attr)\u001b[0m\n\u001b[1;32m     82\u001b[0m \u001b[38;5;28;01mfor\u001b[39;00m l \u001b[38;5;129;01min\u001b[39;00m \u001b[38;5;28mrange\u001b[39m(\u001b[38;5;28mself\u001b[39m\u001b[38;5;241m.\u001b[39mnum_layers):\n\u001b[1;32m     83\u001b[0m     x \u001b[38;5;241m=\u001b[39m \u001b[38;5;28mself\u001b[39m\u001b[38;5;241m.\u001b[39mnorm_layers[l](x)\n\u001b[0;32m---> 84\u001b[0m     x \u001b[38;5;241m=\u001b[39m \u001b[38;5;28;43mself\u001b[39;49m\u001b[38;5;241;43m.\u001b[39;49m\u001b[43mconv_layers\u001b[49m\u001b[43m[\u001b[49m\u001b[43ml\u001b[49m\u001b[43m]\u001b[49m\u001b[43m(\u001b[49m\u001b[43mx\u001b[49m\u001b[43m,\u001b[49m\u001b[43m \u001b[49m\u001b[43medge_index\u001b[49m\u001b[43m,\u001b[49m\u001b[43m \u001b[49m\u001b[43medge_attr\u001b[49m\u001b[43m)\u001b[49m\n\u001b[1;32m     85\u001b[0m     x \u001b[38;5;241m=\u001b[39m \u001b[38;5;28mself\u001b[39m\u001b[38;5;241m.\u001b[39mlin_layers[l](x)\n\u001b[1;32m     86\u001b[0m     x \u001b[38;5;241m=\u001b[39m F\u001b[38;5;241m.\u001b[39mrelu(x)\n",
      "File \u001b[0;32m~/miniconda3/envs/nlp/lib/python3.12/site-packages/torch/nn/modules/module.py:1532\u001b[0m, in \u001b[0;36mModule._wrapped_call_impl\u001b[0;34m(self, *args, **kwargs)\u001b[0m\n\u001b[1;32m   1530\u001b[0m     \u001b[38;5;28;01mreturn\u001b[39;00m \u001b[38;5;28mself\u001b[39m\u001b[38;5;241m.\u001b[39m_compiled_call_impl(\u001b[38;5;241m*\u001b[39margs, \u001b[38;5;241m*\u001b[39m\u001b[38;5;241m*\u001b[39mkwargs)  \u001b[38;5;66;03m# type: ignore[misc]\u001b[39;00m\n\u001b[1;32m   1531\u001b[0m \u001b[38;5;28;01melse\u001b[39;00m:\n\u001b[0;32m-> 1532\u001b[0m     \u001b[38;5;28;01mreturn\u001b[39;00m \u001b[38;5;28;43mself\u001b[39;49m\u001b[38;5;241;43m.\u001b[39;49m\u001b[43m_call_impl\u001b[49m\u001b[43m(\u001b[49m\u001b[38;5;241;43m*\u001b[39;49m\u001b[43margs\u001b[49m\u001b[43m,\u001b[49m\u001b[43m \u001b[49m\u001b[38;5;241;43m*\u001b[39;49m\u001b[38;5;241;43m*\u001b[39;49m\u001b[43mkwargs\u001b[49m\u001b[43m)\u001b[49m\n",
      "File \u001b[0;32m~/miniconda3/envs/nlp/lib/python3.12/site-packages/torch/nn/modules/module.py:1541\u001b[0m, in \u001b[0;36mModule._call_impl\u001b[0;34m(self, *args, **kwargs)\u001b[0m\n\u001b[1;32m   1536\u001b[0m \u001b[38;5;66;03m# If we don't have any hooks, we want to skip the rest of the logic in\u001b[39;00m\n\u001b[1;32m   1537\u001b[0m \u001b[38;5;66;03m# this function, and just call forward.\u001b[39;00m\n\u001b[1;32m   1538\u001b[0m \u001b[38;5;28;01mif\u001b[39;00m \u001b[38;5;129;01mnot\u001b[39;00m (\u001b[38;5;28mself\u001b[39m\u001b[38;5;241m.\u001b[39m_backward_hooks \u001b[38;5;129;01mor\u001b[39;00m \u001b[38;5;28mself\u001b[39m\u001b[38;5;241m.\u001b[39m_backward_pre_hooks \u001b[38;5;129;01mor\u001b[39;00m \u001b[38;5;28mself\u001b[39m\u001b[38;5;241m.\u001b[39m_forward_hooks \u001b[38;5;129;01mor\u001b[39;00m \u001b[38;5;28mself\u001b[39m\u001b[38;5;241m.\u001b[39m_forward_pre_hooks\n\u001b[1;32m   1539\u001b[0m         \u001b[38;5;129;01mor\u001b[39;00m _global_backward_pre_hooks \u001b[38;5;129;01mor\u001b[39;00m _global_backward_hooks\n\u001b[1;32m   1540\u001b[0m         \u001b[38;5;129;01mor\u001b[39;00m _global_forward_hooks \u001b[38;5;129;01mor\u001b[39;00m _global_forward_pre_hooks):\n\u001b[0;32m-> 1541\u001b[0m     \u001b[38;5;28;01mreturn\u001b[39;00m \u001b[43mforward_call\u001b[49m\u001b[43m(\u001b[49m\u001b[38;5;241;43m*\u001b[39;49m\u001b[43margs\u001b[49m\u001b[43m,\u001b[49m\u001b[43m \u001b[49m\u001b[38;5;241;43m*\u001b[39;49m\u001b[38;5;241;43m*\u001b[39;49m\u001b[43mkwargs\u001b[49m\u001b[43m)\u001b[49m\n\u001b[1;32m   1543\u001b[0m \u001b[38;5;28;01mtry\u001b[39;00m:\n\u001b[1;32m   1544\u001b[0m     result \u001b[38;5;241m=\u001b[39m \u001b[38;5;28;01mNone\u001b[39;00m\n",
      "File \u001b[0;32m~/miniconda3/envs/nlp/lib/python3.12/site-packages/torch_geometric/nn/conv/gatv2_conv.py:263\u001b[0m, in \u001b[0;36mGATv2Conv.forward\u001b[0;34m(self, x, edge_index, edge_attr, return_attention_weights)\u001b[0m\n\u001b[1;32m    261\u001b[0m \u001b[38;5;28;01mif\u001b[39;00m \u001b[38;5;28misinstance\u001b[39m(x, Tensor):\n\u001b[1;32m    262\u001b[0m     \u001b[38;5;28;01massert\u001b[39;00m x\u001b[38;5;241m.\u001b[39mdim() \u001b[38;5;241m==\u001b[39m \u001b[38;5;241m2\u001b[39m\n\u001b[0;32m--> 263\u001b[0m     x_l \u001b[38;5;241m=\u001b[39m \u001b[38;5;28;43mself\u001b[39;49m\u001b[38;5;241;43m.\u001b[39;49m\u001b[43mlin_l\u001b[49m\u001b[43m(\u001b[49m\u001b[43mx\u001b[49m\u001b[43m)\u001b[49m\u001b[38;5;241m.\u001b[39mview(\u001b[38;5;241m-\u001b[39m\u001b[38;5;241m1\u001b[39m, H, C)\n\u001b[1;32m    264\u001b[0m     \u001b[38;5;28;01mif\u001b[39;00m \u001b[38;5;28mself\u001b[39m\u001b[38;5;241m.\u001b[39mshare_weights:\n\u001b[1;32m    265\u001b[0m         x_r \u001b[38;5;241m=\u001b[39m x_l\n",
      "File \u001b[0;32m~/miniconda3/envs/nlp/lib/python3.12/site-packages/torch/nn/modules/module.py:1532\u001b[0m, in \u001b[0;36mModule._wrapped_call_impl\u001b[0;34m(self, *args, **kwargs)\u001b[0m\n\u001b[1;32m   1530\u001b[0m     \u001b[38;5;28;01mreturn\u001b[39;00m \u001b[38;5;28mself\u001b[39m\u001b[38;5;241m.\u001b[39m_compiled_call_impl(\u001b[38;5;241m*\u001b[39margs, \u001b[38;5;241m*\u001b[39m\u001b[38;5;241m*\u001b[39mkwargs)  \u001b[38;5;66;03m# type: ignore[misc]\u001b[39;00m\n\u001b[1;32m   1531\u001b[0m \u001b[38;5;28;01melse\u001b[39;00m:\n\u001b[0;32m-> 1532\u001b[0m     \u001b[38;5;28;01mreturn\u001b[39;00m \u001b[38;5;28;43mself\u001b[39;49m\u001b[38;5;241;43m.\u001b[39;49m\u001b[43m_call_impl\u001b[49m\u001b[43m(\u001b[49m\u001b[38;5;241;43m*\u001b[39;49m\u001b[43margs\u001b[49m\u001b[43m,\u001b[49m\u001b[43m \u001b[49m\u001b[38;5;241;43m*\u001b[39;49m\u001b[38;5;241;43m*\u001b[39;49m\u001b[43mkwargs\u001b[49m\u001b[43m)\u001b[49m\n",
      "File \u001b[0;32m~/miniconda3/envs/nlp/lib/python3.12/site-packages/torch/nn/modules/module.py:1541\u001b[0m, in \u001b[0;36mModule._call_impl\u001b[0;34m(self, *args, **kwargs)\u001b[0m\n\u001b[1;32m   1536\u001b[0m \u001b[38;5;66;03m# If we don't have any hooks, we want to skip the rest of the logic in\u001b[39;00m\n\u001b[1;32m   1537\u001b[0m \u001b[38;5;66;03m# this function, and just call forward.\u001b[39;00m\n\u001b[1;32m   1538\u001b[0m \u001b[38;5;28;01mif\u001b[39;00m \u001b[38;5;129;01mnot\u001b[39;00m (\u001b[38;5;28mself\u001b[39m\u001b[38;5;241m.\u001b[39m_backward_hooks \u001b[38;5;129;01mor\u001b[39;00m \u001b[38;5;28mself\u001b[39m\u001b[38;5;241m.\u001b[39m_backward_pre_hooks \u001b[38;5;129;01mor\u001b[39;00m \u001b[38;5;28mself\u001b[39m\u001b[38;5;241m.\u001b[39m_forward_hooks \u001b[38;5;129;01mor\u001b[39;00m \u001b[38;5;28mself\u001b[39m\u001b[38;5;241m.\u001b[39m_forward_pre_hooks\n\u001b[1;32m   1539\u001b[0m         \u001b[38;5;129;01mor\u001b[39;00m _global_backward_pre_hooks \u001b[38;5;129;01mor\u001b[39;00m _global_backward_hooks\n\u001b[1;32m   1540\u001b[0m         \u001b[38;5;129;01mor\u001b[39;00m _global_forward_hooks \u001b[38;5;129;01mor\u001b[39;00m _global_forward_pre_hooks):\n\u001b[0;32m-> 1541\u001b[0m     \u001b[38;5;28;01mreturn\u001b[39;00m \u001b[43mforward_call\u001b[49m\u001b[43m(\u001b[49m\u001b[38;5;241;43m*\u001b[39;49m\u001b[43margs\u001b[49m\u001b[43m,\u001b[49m\u001b[43m \u001b[49m\u001b[38;5;241;43m*\u001b[39;49m\u001b[38;5;241;43m*\u001b[39;49m\u001b[43mkwargs\u001b[49m\u001b[43m)\u001b[49m\n\u001b[1;32m   1543\u001b[0m \u001b[38;5;28;01mtry\u001b[39;00m:\n\u001b[1;32m   1544\u001b[0m     result \u001b[38;5;241m=\u001b[39m \u001b[38;5;28;01mNone\u001b[39;00m\n",
      "File \u001b[0;32m~/miniconda3/envs/nlp/lib/python3.12/site-packages/torch_geometric/nn/dense/linear.py:147\u001b[0m, in \u001b[0;36mLinear.forward\u001b[0;34m(self, x)\u001b[0m\n\u001b[1;32m    141\u001b[0m \u001b[38;5;28;01mdef\u001b[39;00m \u001b[38;5;21mforward\u001b[39m(\u001b[38;5;28mself\u001b[39m, x: Tensor) \u001b[38;5;241m-\u001b[39m\u001b[38;5;241m>\u001b[39m Tensor:\n\u001b[1;32m    142\u001b[0m \u001b[38;5;250m    \u001b[39m\u001b[38;5;124mr\u001b[39m\u001b[38;5;124;03m\"\"\"Forward pass.\u001b[39;00m\n\u001b[1;32m    143\u001b[0m \n\u001b[1;32m    144\u001b[0m \u001b[38;5;124;03m    Args:\u001b[39;00m\n\u001b[1;32m    145\u001b[0m \u001b[38;5;124;03m        x (torch.Tensor): The input features.\u001b[39;00m\n\u001b[1;32m    146\u001b[0m \u001b[38;5;124;03m    \"\"\"\u001b[39;00m\n\u001b[0;32m--> 147\u001b[0m     \u001b[38;5;28;01mreturn\u001b[39;00m \u001b[43mF\u001b[49m\u001b[38;5;241;43m.\u001b[39;49m\u001b[43mlinear\u001b[49m\u001b[43m(\u001b[49m\u001b[43mx\u001b[49m\u001b[43m,\u001b[49m\u001b[43m \u001b[49m\u001b[38;5;28;43mself\u001b[39;49m\u001b[38;5;241;43m.\u001b[39;49m\u001b[43mweight\u001b[49m\u001b[43m,\u001b[49m\u001b[43m \u001b[49m\u001b[38;5;28;43mself\u001b[39;49m\u001b[38;5;241;43m.\u001b[39;49m\u001b[43mbias\u001b[49m\u001b[43m)\u001b[49m\n",
      "\u001b[0;31mKeyboardInterrupt\u001b[0m: "
     ]
    }
   ],
   "source": [
    "from train import train\n",
    "from torch.optim import Adam\n",
    "\n",
    "optimizer = Adam(model.parameters())\n",
    "\n",
    "mean_loss = train(model, optimizer, g, targets, batch_size=1024)"
   ]
  },
  {
   "cell_type": "markdown",
   "metadata": {},
   "source": [
    "# Evaluations"
   ]
  },
  {
   "cell_type": "code",
   "execution_count": 20,
   "metadata": {},
   "outputs": [],
   "source": [
    "import pandas as pd\n",
    "import numpy as np\n",
    "import matplotlib.pyplot as plt\n",
    "\n",
    "plt.rcParams.update({\"font.size\": 15})\n",
    "from sklearn.metrics import (\n",
    "    ConfusionMatrixDisplay,\n",
    "    PrecisionRecallDisplay,\n",
    "    f1_score,\n",
    "    precision_score,\n",
    "    recall_score,\n",
    "    accuracy_score,\n",
    ")\n",
    "from sklearn.preprocessing import binarize\n",
    "import torch\n",
    "import torch.nn.functional as F"
   ]
  },
  {
   "cell_type": "code",
   "execution_count": 32,
   "metadata": {},
   "outputs": [
    {
     "data": {
      "text/html": [
       "<div>\n",
       "<style scoped>\n",
       "    .dataframe tbody tr th:only-of-type {\n",
       "        vertical-align: middle;\n",
       "    }\n",
       "\n",
       "    .dataframe tbody tr th {\n",
       "        vertical-align: top;\n",
       "    }\n",
       "\n",
       "    .dataframe thead th {\n",
       "        text-align: right;\n",
       "    }\n",
       "</style>\n",
       "<table border=\"1\" class=\"dataframe\">\n",
       "  <thead>\n",
       "    <tr style=\"text-align: right;\">\n",
       "      <th></th>\n",
       "      <th>Unnamed: 0</th>\n",
       "      <th>y_true</th>\n",
       "      <th>y_pred_neg</th>\n",
       "      <th>y_pred_hyp</th>\n",
       "      <th>y_pred_hol</th>\n",
       "      <th>y_pred</th>\n",
       "      <th>y_pred_neg_u</th>\n",
       "      <th>y_pred_hyp_u</th>\n",
       "      <th>y_pred_hol_u</th>\n",
       "    </tr>\n",
       "  </thead>\n",
       "  <tbody>\n",
       "    <tr>\n",
       "      <th>0</th>\n",
       "      <td>0</td>\n",
       "      <td>1</td>\n",
       "      <td>0.000816</td>\n",
       "      <td>0.980975</td>\n",
       "      <td>0.018208</td>\n",
       "      <td>1</td>\n",
       "      <td>-3.339874</td>\n",
       "      <td>3.751513</td>\n",
       "      <td>-0.235151</td>\n",
       "    </tr>\n",
       "    <tr>\n",
       "      <th>1</th>\n",
       "      <td>1</td>\n",
       "      <td>1</td>\n",
       "      <td>0.001391</td>\n",
       "      <td>0.968139</td>\n",
       "      <td>0.030470</td>\n",
       "      <td>1</td>\n",
       "      <td>-3.196710</td>\n",
       "      <td>3.348395</td>\n",
       "      <td>-0.110240</td>\n",
       "    </tr>\n",
       "    <tr>\n",
       "      <th>2</th>\n",
       "      <td>2</td>\n",
       "      <td>1</td>\n",
       "      <td>0.002252</td>\n",
       "      <td>0.975807</td>\n",
       "      <td>0.021941</td>\n",
       "      <td>1</td>\n",
       "      <td>-2.810284</td>\n",
       "      <td>3.261282</td>\n",
       "      <td>-0.533631</td>\n",
       "    </tr>\n",
       "    <tr>\n",
       "      <th>3</th>\n",
       "      <td>3</td>\n",
       "      <td>2</td>\n",
       "      <td>0.066813</td>\n",
       "      <td>0.017859</td>\n",
       "      <td>0.915327</td>\n",
       "      <td>2</td>\n",
       "      <td>-0.263190</td>\n",
       "      <td>-1.582563</td>\n",
       "      <td>2.354189</td>\n",
       "    </tr>\n",
       "    <tr>\n",
       "      <th>4</th>\n",
       "      <td>4</td>\n",
       "      <td>1</td>\n",
       "      <td>0.001446</td>\n",
       "      <td>0.974539</td>\n",
       "      <td>0.024016</td>\n",
       "      <td>1</td>\n",
       "      <td>-3.093001</td>\n",
       "      <td>3.420441</td>\n",
       "      <td>-0.282821</td>\n",
       "    </tr>\n",
       "  </tbody>\n",
       "</table>\n",
       "</div>"
      ],
      "text/plain": [
       "   Unnamed: 0  y_true  y_pred_neg  y_pred_hyp  y_pred_hol  y_pred  \\\n",
       "0           0       1    0.000816    0.980975    0.018208       1   \n",
       "1           1       1    0.001391    0.968139    0.030470       1   \n",
       "2           2       1    0.002252    0.975807    0.021941       1   \n",
       "3           3       2    0.066813    0.017859    0.915327       2   \n",
       "4           4       1    0.001446    0.974539    0.024016       1   \n",
       "\n",
       "   y_pred_neg_u  y_pred_hyp_u  y_pred_hol_u  \n",
       "0     -3.339874      3.751513     -0.235151  \n",
       "1     -3.196710      3.348395     -0.110240  \n",
       "2     -2.810284      3.261282     -0.533631  \n",
       "3     -0.263190     -1.582563      2.354189  \n",
       "4     -3.093001      3.420441     -0.282821  "
      ]
     },
     "execution_count": 32,
     "metadata": {},
     "output_type": "execute_result"
    }
   ],
   "source": [
    "experiment = \"final1\"\n",
    "res = pd.read_csv(f\"{experiment}-results.csv\")\n",
    "res[\"y_pred\"] = np.argmax(res[[\"y_pred_neg\", \"y_pred_hyp\", \"y_pred_hol\"]], axis=1)\n",
    "res[[\"y_pred_neg_u\", \"y_pred_hyp_u\", \"y_pred_hol_u\"]] = res[\n",
    "    [\"y_pred_neg\", \"y_pred_hyp\", \"y_pred_hol\"]\n",
    "]\n",
    "res[[\"y_pred_neg\", \"y_pred_hyp\", \"y_pred_hol\"]] = res[\n",
    "    [\"y_pred_neg\", \"y_pred_hyp\", \"y_pred_hol\"]\n",
    "].apply(\n",
    "    lambda p: torch.softmax(torch.tensor(p.to_numpy()), dim=0).numpy(),\n",
    "    axis=1,\n",
    "    result_type=\"expand\",\n",
    ")\n",
    "res.head()"
   ]
  },
  {
   "cell_type": "code",
   "execution_count": 9,
   "metadata": {},
   "outputs": [
    {
     "data": {
      "image/png": "[encoded data removed]",
      "text/plain": [
       "<Figure size 640x480 with 1 Axes>"
      ]
     },
     "metadata": {},
     "output_type": "display_data"
    }
   ],
   "source": [
    "_, ax = plt.subplots()\n",
    "PrecisionRecallDisplay.from_predictions(\n",
    "    res[\"y_true\"] == 1, res[\"y_pred_hyp\"], name=\"Hypernyms\", ax=ax\n",
    ")\n",
    "PrecisionRecallDisplay.from_predictions(\n",
    "    res[\"y_true\"] == 2, res[\"y_pred_hol\"], name=\"Holonyms\", ax=ax\n",
    ")\n",
    "plt.title(\"Precision-Recall curve\")\n",
    "plt.savefig(\"imgs/pr.png\", bbox_inches=\"tight\")\n",
    "plt.show()"
   ]
  },
  {
   "cell_type": "code",
   "execution_count": 3,
   "metadata": {},
   "outputs": [
    {
     "data": {
      "image/png": "[encoded data removed]",
      "text/plain": [
       "<Figure size 640x480 with 1 Axes>"
      ]
     },
     "metadata": {},
     "output_type": "display_data"
    }
   ],
   "source": [
    "_, ax = plt.subplots()\n",
    "PrecisionRecallDisplay.from_predictions(\n",
    "    res[\"y_true\"] == 1, res[\"y_pred_hyp\"], name=\"Hypernyms\", ax=ax\n",
    ")\n",
    "PrecisionRecallDisplay.from_predictions(\n",
    "    res[\"y_true\"] == 2, res[\"y_pred_hol\"], name=\"Holonyms\", ax=ax\n",
    ")\n",
    "plt.show()"
   ]
  },
  {
   "cell_type": "code",
   "execution_count": 10,
   "metadata": {},
   "outputs": [
    {
     "data": {
      "image/png": "[encoded data removed]",
      "text/plain": [
       "<Figure size 640x480 with 2 Axes>"
      ]
     },
     "metadata": {},
     "output_type": "display_data"
    }
   ],
   "source": [
    "name_map = {0: \"N/R\", 1: \"Hypernym\", 2: \"Holonym\"}\n",
    "ConfusionMatrixDisplay.from_predictions(\n",
    "    res[\"y_true\"].map(name_map),\n",
    "    res[\"y_pred\"].map(name_map),\n",
    "    cmap=\"inferno\",\n",
    "    values_format=\".2f\",\n",
    "    normalize=\"true\",\n",
    ")\n",
    "plt.title(\"Confusion matrix\")\n",
    "plt.savefig(\"imgs/cm.png\", bbox_inches=\"tight\")\n",
    "plt.show()"
   ]
  },
  {
   "cell_type": "code",
   "execution_count": 11,
   "metadata": {},
   "outputs": [
    {
     "data": {
      "image/png": "[encoded data removed]",
      "text/plain": [
       "<Figure size 640x480 with 1 Axes>"
      ]
     },
     "metadata": {},
     "output_type": "display_data"
    }
   ],
   "source": [
    "class_distribution = pd.DataFrame(\n",
    "    {\n",
    "        \"lab\": [\"Hypernym\", \"Holonym\"],\n",
    "        \"Count\": [(res[\"y_true\"] == 1).sum(), (res[\"y_true\"] == 2).sum()],\n",
    "    }\n",
    ")\n",
    "class_distribution = class_distribution.set_index(\"lab\")\n",
    "class_distribution.plot.pie(y=\"Count\")\n",
    "plt.show()"
   ]
  },
  {
   "cell_type": "code",
   "execution_count": 12,
   "metadata": {},
   "outputs": [
    {
     "data": {
      "image/png": "[encoded data removed]",
      "text/plain": [
       "<Figure size 640x480 with 1 Axes>"
      ]
     },
     "metadata": {},
     "output_type": "display_data"
    }
   ],
   "source": [
    "class_distribution = pd.DataFrame(\n",
    "    {\n",
    "        \"lab\": [\"N/R\", \"Hypernym\", \"Holonym\"],\n",
    "        \"Count\": [\n",
    "            (res[\"y_true\"] == 0).sum(),\n",
    "            (res[\"y_true\"] == 1).sum(),\n",
    "            (res[\"y_true\"] == 2).sum(),\n",
    "        ],\n",
    "    }\n",
    ")\n",
    "class_distribution = class_distribution.set_index(\"lab\")\n",
    "class_distribution.plot.pie(y=\"Count\")\n",
    "plt.show()"
   ]
  },
  {
   "cell_type": "code",
   "execution_count": 33,
   "metadata": {},
   "outputs": [
    {
     "data": {
      "text/plain": [
       "tensor(0.2665)"
      ]
     },
     "execution_count": 33,
     "metadata": {},
     "output_type": "execute_result"
    }
   ],
   "source": [
    "preds = res[[\"y_pred_neg_u\", \"y_pred_hyp_u\", \"y_pred_hol_u\"]]\n",
    "preds = torch.tensor(preds.to_numpy(), dtype=torch.float)\n",
    "labels = torch.tensor(res[\"y_true\"])\n",
    "\n",
    "with torch.no_grad():\n",
    "    loss = F.cross_entropy(preds, labels)\n",
    "loss"
   ]
  },
  {
   "cell_type": "code",
   "execution_count": 5,
   "metadata": {},
   "outputs": [
    {
     "name": "stdout",
     "output_type": "stream",
     "text": [
      "Hypernyms: precision 0.9464150061356863, recall 0.9089684588618251, f1 0.9273138472989608\n",
      "Holonyms: precision 0.8866264454499748, recall 0.7947273546642631, f1 0.8381653992395437\n",
      "Macro: precision 0.9165207257928305, recall 0.8518479067630441, f1 0.8827396232692523\n",
      "Accuracy: 0.924357476635514\n"
     ]
    },
    {
     "data": {
      "text/html": [
       "<div>\n",
       "<style scoped>\n",
       "    .dataframe tbody tr th:only-of-type {\n",
       "        vertical-align: middle;\n",
       "    }\n",
       "\n",
       "    .dataframe tbody tr th {\n",
       "        vertical-align: top;\n",
       "    }\n",
       "\n",
       "    .dataframe thead th {\n",
       "        text-align: right;\n",
       "    }\n",
       "</style>\n",
       "<table border=\"1\" class=\"dataframe\">\n",
       "  <thead>\n",
       "    <tr style=\"text-align: right;\">\n",
       "      <th></th>\n",
       "      <th></th>\n",
       "      <th>Precision</th>\n",
       "      <th>Recall</th>\n",
       "      <th>F1-measure</th>\n",
       "    </tr>\n",
       "  </thead>\n",
       "  <tbody>\n",
       "    <tr>\n",
       "      <th>0</th>\n",
       "      <td>Hypernyms</td>\n",
       "      <td>0.946415</td>\n",
       "      <td>0.908968</td>\n",
       "      <td>0.927314</td>\n",
       "    </tr>\n",
       "    <tr>\n",
       "      <th>1</th>\n",
       "      <td>Holonyms</td>\n",
       "      <td>0.886626</td>\n",
       "      <td>0.794727</td>\n",
       "      <td>0.838165</td>\n",
       "    </tr>\n",
       "    <tr>\n",
       "      <th>2</th>\n",
       "      <td>Macro</td>\n",
       "      <td>0.916521</td>\n",
       "      <td>0.851848</td>\n",
       "      <td>0.882740</td>\n",
       "    </tr>\n",
       "    <tr>\n",
       "      <th>3</th>\n",
       "      <td>Accuracy</td>\n",
       "      <td>0.924357</td>\n",
       "      <td>NaN</td>\n",
       "      <td>NaN</td>\n",
       "    </tr>\n",
       "  </tbody>\n",
       "</table>\n",
       "</div>"
      ],
      "text/plain": [
       "              Precision    Recall  F1-measure\n",
       "0  Hypernyms   0.946415  0.908968    0.927314\n",
       "1   Holonyms   0.886626  0.794727    0.838165\n",
       "2      Macro   0.916521  0.851848    0.882740\n",
       "3   Accuracy   0.924357       NaN         NaN"
      ]
     },
     "execution_count": 5,
     "metadata": {},
     "output_type": "execute_result"
    }
   ],
   "source": [
    "def precision_recall_f1(res, label):\n",
    "    y_true = res[\"y_true\"] == label\n",
    "    pred = res[\"y_pred\"] == label\n",
    "    precision = precision_score(y_true, pred)\n",
    "    recall = recall_score(y_true, pred)\n",
    "    f1 = f1_score(y_true, pred)\n",
    "    return precision, recall, f1\n",
    "\n",
    "\n",
    "ps, rs, f1s = [], [], []\n",
    "p, r, f1 = precision_recall_f1(res, 1)\n",
    "ps.append(p)\n",
    "rs.append(r)\n",
    "f1s.append(f1)\n",
    "print(f\"Hypernyms: precision {p}, recall {r}, f1 {f1}\")\n",
    "\n",
    "p, r, f1 = precision_recall_f1(res, 2)\n",
    "ps.append(p)\n",
    "rs.append(r)\n",
    "f1s.append(f1)\n",
    "print(f\"Holonyms: precision {p}, recall {r}, f1 {f1}\")\n",
    "\n",
    "p = precision_score(res[\"y_true\"], res[\"y_pred\"], average=\"macro\", labels=[1, 2])\n",
    "r = recall_score(res[\"y_true\"], res[\"y_pred\"], average=\"macro\", labels=[1, 2])\n",
    "f1 = f1_score(res[\"y_true\"], res[\"y_pred\"], average=\"macro\", labels=[1, 2])\n",
    "ps.append(p)\n",
    "rs.append(r)\n",
    "f1s.append(f1)\n",
    "acc = accuracy_score(res[\"y_true\"], res[\"y_pred\"])\n",
    "print(f\"Macro: precision {p}, recall {r}, f1 {f1}\")\n",
    "print(f\"Accuracy: {acc}\")\n",
    "\n",
    "latex_tab = pd.DataFrame(\n",
    "    {\n",
    "        \" \": [\"Hypernyms\", \"Holonyms\", \"Macro\", \"Accuracy\"],\n",
    "        \"Precision\": ps + [acc],\n",
    "        \"Recall\": rs + [np.nan],\n",
    "        \"F1-measure\": f1s + [np.nan],\n",
    "    }\n",
    ")\n",
    "\n",
    "latex_tab"
   ]
  },
  {
   "cell_type": "code",
   "execution_count": null,
   "metadata": {},
   "outputs": [],
   "source": [
    "F.cross_entropy()"
   ]
  },
  {
   "cell_type": "code",
   "execution_count": 34,
   "metadata": {},
   "outputs": [
    {
     "data": {
      "text/html": [
       "<div>\n",
       "<style scoped>\n",
       "    .dataframe tbody tr th:only-of-type {\n",
       "        vertical-align: middle;\n",
       "    }\n",
       "\n",
       "    .dataframe tbody tr th {\n",
       "        vertical-align: top;\n",
       "    }\n",
       "\n",
       "    .dataframe thead th {\n",
       "        text-align: right;\n",
       "    }\n",
       "</style>\n",
       "<table border=\"1\" class=\"dataframe\">\n",
       "  <thead>\n",
       "    <tr style=\"text-align: right;\">\n",
       "      <th></th>\n",
       "      <th>Unnamed: 0</th>\n",
       "      <th>epoch</th>\n",
       "      <th>train loss</th>\n",
       "      <th>val loss</th>\n",
       "    </tr>\n",
       "  </thead>\n",
       "  <tbody>\n",
       "    <tr>\n",
       "      <th>0</th>\n",
       "      <td>0</td>\n",
       "      <td>0</td>\n",
       "      <td>1.184071</td>\n",
       "      <td>1.084808</td>\n",
       "    </tr>\n",
       "    <tr>\n",
       "      <th>1</th>\n",
       "      <td>1</td>\n",
       "      <td>1</td>\n",
       "      <td>1.152488</td>\n",
       "      <td>1.085244</td>\n",
       "    </tr>\n",
       "    <tr>\n",
       "      <th>2</th>\n",
       "      <td>2</td>\n",
       "      <td>2</td>\n",
       "      <td>1.124239</td>\n",
       "      <td>1.085589</td>\n",
       "    </tr>\n",
       "    <tr>\n",
       "      <th>3</th>\n",
       "      <td>3</td>\n",
       "      <td>3</td>\n",
       "      <td>1.103392</td>\n",
       "      <td>1.085207</td>\n",
       "    </tr>\n",
       "    <tr>\n",
       "      <th>4</th>\n",
       "      <td>4</td>\n",
       "      <td>4</td>\n",
       "      <td>1.080340</td>\n",
       "      <td>1.084454</td>\n",
       "    </tr>\n",
       "    <tr>\n",
       "      <th>...</th>\n",
       "      <td>...</td>\n",
       "      <td>...</td>\n",
       "      <td>...</td>\n",
       "      <td>...</td>\n",
       "    </tr>\n",
       "    <tr>\n",
       "      <th>595</th>\n",
       "      <td>595</td>\n",
       "      <td>595</td>\n",
       "      <td>0.074698</td>\n",
       "      <td>0.277638</td>\n",
       "    </tr>\n",
       "    <tr>\n",
       "      <th>596</th>\n",
       "      <td>596</td>\n",
       "      <td>596</td>\n",
       "      <td>0.073706</td>\n",
       "      <td>0.278441</td>\n",
       "    </tr>\n",
       "    <tr>\n",
       "      <th>597</th>\n",
       "      <td>597</td>\n",
       "      <td>597</td>\n",
       "      <td>0.074109</td>\n",
       "      <td>0.278463</td>\n",
       "    </tr>\n",
       "    <tr>\n",
       "      <th>598</th>\n",
       "      <td>598</td>\n",
       "      <td>598</td>\n",
       "      <td>0.074676</td>\n",
       "      <td>0.276403</td>\n",
       "    </tr>\n",
       "    <tr>\n",
       "      <th>599</th>\n",
       "      <td>599</td>\n",
       "      <td>599</td>\n",
       "      <td>0.073489</td>\n",
       "      <td>0.275143</td>\n",
       "    </tr>\n",
       "  </tbody>\n",
       "</table>\n",
       "<p>600 rows × 4 columns</p>\n",
       "</div>"
      ],
      "text/plain": [
       "     Unnamed: 0  epoch  train loss  val loss\n",
       "0             0      0    1.184071  1.084808\n",
       "1             1      1    1.152488  1.085244\n",
       "2             2      2    1.124239  1.085589\n",
       "3             3      3    1.103392  1.085207\n",
       "4             4      4    1.080340  1.084454\n",
       "..          ...    ...         ...       ...\n",
       "595         595    595    0.074698  0.277638\n",
       "596         596    596    0.073706  0.278441\n",
       "597         597    597    0.074109  0.278463\n",
       "598         598    598    0.074676  0.276403\n",
       "599         599    599    0.073489  0.275143\n",
       "\n",
       "[600 rows x 4 columns]"
      ]
     },
     "execution_count": 34,
     "metadata": {},
     "output_type": "execute_result"
    }
   ],
   "source": [
    "base = \"multiclass15\"\n",
    "max_cont = 1\n",
    "experiments = [f\"{base}\"] + [f\"{base}_cont{n}\" for n in range(1, max_cont + 1)]\n",
    "experiments = None\n",
    "if experiments is None:\n",
    "    train = pd.read_csv(f\"{experiment}-train_losses.csv\")\n",
    "else:\n",
    "    train = pd.read_csv(f\"{experiments[0]}-train_losses.csv\")\n",
    "    for exp in experiments[1:]:\n",
    "        partial = pd.read_csv(f\"{exp}-train_losses.csv\")\n",
    "        partial[\"epoch\"] = partial[\"epoch\"] + train[\"epoch\"].tail(1).item()\n",
    "        epoch = np.concatenate([train[\"epoch\"], partial[\"epoch\"]])\n",
    "        train_loss = np.concatenate([train[\"train loss\"], partial[\"train loss\"]])\n",
    "        val_loss = np.concatenate([train[\"val loss\"], partial[\"val loss\"]])\n",
    "        train = pd.DataFrame(\n",
    "            {\"epoch\": epoch, \"train loss\": train_loss, \"val loss\": val_loss}\n",
    "        )\n",
    "train"
   ]
  },
  {
   "cell_type": "code",
   "execution_count": 35,
   "metadata": {},
   "outputs": [
    {
     "data": {
      "image/png": "[encoded data removed]",
      "text/plain": [
       "<Figure size 640x480 with 1 Axes>"
      ]
     },
     "metadata": {},
     "output_type": "display_data"
    }
   ],
   "source": [
    "plt.plot(train[\"epoch\"], train[\"train loss\"], label=\"Training\")\n",
    "plt.plot(train[\"epoch\"], train[\"val loss\"], label=\"Validation\")\n",
    "# plt.vlines([190], 0.15, 1.1, linestyles='--')\n",
    "plt.plot(train[\"epoch\"], 0.2665 * np.ones(len(train[\"epoch\"])), \"--\", label=\"Test\")\n",
    "# plt.plot(train['epoch'], 0.20*np.ones(len(train['epoch'])), '--')\n",
    "plt.xlabel(\"Training Epoch\")\n",
    "plt.ylabel(\"Cross-Entropy Loss\")\n",
    "plt.title(\"Loss during training\")\n",
    "plt.legend()\n",
    "plt.savefig(\"imgs/training.png\", bbox_inches=\"tight\")\n",
    "plt.show()"
   ]
  },
  {
   "cell_type": "code",
   "execution_count": 28,
   "metadata": {},
   "outputs": [
    {
     "data": {
      "image/png": "[encoded data removed]",
      "text/plain": [
       "<Figure size 640x480 with 1 Axes>"
      ]
     },
     "metadata": {},
     "output_type": "display_data"
    }
   ],
   "source": [
    "plt.plot(train[\"epoch\"], train[\"train loss\"], label=\"Train loss\")\n",
    "plt.plot(train[\"epoch\"], train[\"val loss\"], label=\"Validation loss\")\n",
    "plt.legend()\n",
    "plt.xlabel(\"Epoch\")\n",
    "plt.ylabel(\"Loss\")\n",
    "plt.plot(train[\"epoch\"], 0.25 * np.ones(len(train[\"epoch\"])), \"--\")\n",
    "# plt.plot(train['epoch'], 0.20*np.ones(len(train['epoch'])), '--')\n",
    "# plt.vlines([ 170], 0.21, 1.1)\n",
    "plt.show()"
   ]
  },
  {
   "cell_type": "markdown",
   "metadata": {},
   "source": [
    "## Qualitative evaluation"
   ]
  },
  {
   "cell_type": "code",
   "execution_count": 3,
   "metadata": {},
   "outputs": [],
   "source": [
    "from dataset import RelationsDS\n",
    "from model import NodeEmbedder, LinkPredictor, Model\n",
    "import torch\n",
    "import torch.nn.functional as F\n",
    "from torch.utils.data import DataLoader\n",
    "import IPython.display\n",
    "\n",
    "import pandas as pd\n",
    "import numpy as np\n",
    "\n",
    "pd.set_option(\"display.max_colwidth\", None)"
   ]
  },
  {
   "cell_type": "code",
   "execution_count": 4,
   "metadata": {},
   "outputs": [],
   "source": [
    "device = \"cpu\"\n",
    "data = RelationsDS(root=\"./data\").to(device)\n",
    "g = data[0]"
   ]
  },
  {
   "cell_type": "code",
   "execution_count": 5,
   "metadata": {},
   "outputs": [
    {
     "data": {
      "text/html": [
       "<div>\n",
       "<style scoped>\n",
       "    .dataframe tbody tr th:only-of-type {\n",
       "        vertical-align: middle;\n",
       "    }\n",
       "\n",
       "    .dataframe tbody tr th {\n",
       "        vertical-align: top;\n",
       "    }\n",
       "\n",
       "    .dataframe thead th {\n",
       "        text-align: right;\n",
       "    }\n",
       "</style>\n",
       "<table border=\"1\" class=\"dataframe\">\n",
       "  <thead>\n",
       "    <tr style=\"text-align: right;\">\n",
       "      <th></th>\n",
       "      <th>y_true</th>\n",
       "      <th>y_pred_neg</th>\n",
       "      <th>y_pred_hyp</th>\n",
       "      <th>y_pred_hol</th>\n",
       "      <th>edge_i</th>\n",
       "      <th>edge_j</th>\n",
       "      <th>y_pred</th>\n",
       "    </tr>\n",
       "  </thead>\n",
       "  <tbody>\n",
       "    <tr>\n",
       "      <th>0</th>\n",
       "      <td>1</td>\n",
       "      <td>0.000816</td>\n",
       "      <td>0.980975</td>\n",
       "      <td>0.018208</td>\n",
       "      <td>84008</td>\n",
       "      <td>91017</td>\n",
       "      <td>1</td>\n",
       "    </tr>\n",
       "    <tr>\n",
       "      <th>1</th>\n",
       "      <td>1</td>\n",
       "      <td>0.001391</td>\n",
       "      <td>0.968139</td>\n",
       "      <td>0.030470</td>\n",
       "      <td>21024</td>\n",
       "      <td>20846</td>\n",
       "      <td>1</td>\n",
       "    </tr>\n",
       "    <tr>\n",
       "      <th>2</th>\n",
       "      <td>1</td>\n",
       "      <td>0.002252</td>\n",
       "      <td>0.975807</td>\n",
       "      <td>0.021941</td>\n",
       "      <td>86657</td>\n",
       "      <td>90963</td>\n",
       "      <td>1</td>\n",
       "    </tr>\n",
       "    <tr>\n",
       "      <th>3</th>\n",
       "      <td>2</td>\n",
       "      <td>0.066813</td>\n",
       "      <td>0.017859</td>\n",
       "      <td>0.915327</td>\n",
       "      <td>9162</td>\n",
       "      <td>9161</td>\n",
       "      <td>2</td>\n",
       "    </tr>\n",
       "    <tr>\n",
       "      <th>4</th>\n",
       "      <td>1</td>\n",
       "      <td>0.001446</td>\n",
       "      <td>0.974539</td>\n",
       "      <td>0.024016</td>\n",
       "      <td>71567</td>\n",
       "      <td>71556</td>\n",
       "      <td>1</td>\n",
       "    </tr>\n",
       "  </tbody>\n",
       "</table>\n",
       "</div>"
      ],
      "text/plain": [
       "   y_true  y_pred_neg  y_pred_hyp  y_pred_hol  edge_i  edge_j  y_pred\n",
       "0       1    0.000816    0.980975    0.018208   84008   91017       1\n",
       "1       1    0.001391    0.968139    0.030470   21024   20846       1\n",
       "2       1    0.002252    0.975807    0.021941   86657   90963       1\n",
       "3       2    0.066813    0.017859    0.915327    9162    9161       2\n",
       "4       1    0.001446    0.974539    0.024016   71567   71556       1"
      ]
     },
     "execution_count": 5,
     "metadata": {},
     "output_type": "execute_result"
    }
   ],
   "source": [
    "experiment = \"final1-links\"\n",
    "res = pd.read_csv(f\"{experiment}-results.csv\")\n",
    "res = res.drop(\"Unnamed: 0\", axis=1)\n",
    "res[\"y_pred\"] = np.argmax(res[[\"y_pred_neg\", \"y_pred_hyp\", \"y_pred_hol\"]], axis=1)\n",
    "res[[\"y_pred_neg\", \"y_pred_hyp\", \"y_pred_hol\"]] = res[\n",
    "    [\"y_pred_neg\", \"y_pred_hyp\", \"y_pred_hol\"]\n",
    "].apply(\n",
    "    lambda p: torch.softmax(torch.tensor(p.to_numpy()), dim=0).numpy(),\n",
    "    axis=1,\n",
    "    result_type=\"expand\",\n",
    ")\n",
    "res.head()"
   ]
  },
  {
   "cell_type": "code",
   "execution_count": 16,
   "metadata": {},
   "outputs": [
    {
     "data": {
      "text/plain": [
       "0                                             the definition of physical entity is an entity that has physical existence\n",
       "1         the definition of abstraction is a general concept formed by extracting common features from specific examples\n",
       "2                                                        the definition of thing is a separate and self-contained entity\n",
       "3                            the definition of object is a tangible and visible entity; an entity that can cast a shadow\n",
       "4                                  the definition of whole is an assemblage of parts that is regarded as a single entity\n",
       "                                                               ...                                                      \n",
       "111129            the definition of range is have a range; be capable of projecting over a certain distance, as of a gun\n",
       "111207                                                                 the definition of precipitate is fall from clouds\n",
       "111221                                                                the definition of burn is cause to burn or combust\n",
       "111245                                                                 the definition of absorb is suck or take up or in\n",
       "111261                                                                  the definition of blow is be blowing or storming\n",
       "Length: 91294, dtype: object"
      ]
     },
     "execution_count": 16,
     "metadata": {},
     "output_type": "execute_result"
    }
   ],
   "source": [
    "def _compose_definition(arg):\n",
    "    import re\n",
    "\n",
    "    id, definition = arg\n",
    "    clean_id = re.sub(r\"\\..\\.[0-9][0-9]\", \"\", id)\n",
    "    clean_id = re.sub(r\"_\", \" \", clean_id)\n",
    "\n",
    "    new_def = f\"the definition of {clean_id} is {definition}\"\n",
    "    return new_def\n",
    "\n",
    "\n",
    "defs = pd.read_csv(\"data/direct_relations.csv\")\n",
    "all_ids = pd.concat([defs[\"ID_Synset\"], defs[\"ID_Relacionada\"]])\n",
    "all_definitions = pd.concat([defs[\"Definição_Synset\"], defs[\"Definição_Relacionada\"]])\n",
    "\n",
    "entities = pd.DataFrame({\"ID\": all_ids, \"Definição\": all_definitions}).drop_duplicates()\n",
    "definitions = entities.apply(_compose_definition, axis=1)\n",
    "mapping = lambda idx: definitions.iloc[idx]\n",
    "definitions"
   ]
  },
  {
   "cell_type": "code",
   "execution_count": 17,
   "metadata": {},
   "outputs": [],
   "source": [
    "res[\"definition\"] = res[\"edge_i\"].map(mapping)\n",
    "res[\"related_definition\"] = res[\"edge_j\"].map(mapping)\n",
    "res = res.drop([\"edge_i\", \"edge_j\"], axis=1)\n",
    "incorrect = res[res[\"y_true\"] != res[\"y_pred\"]]\n",
    "incorrect_hyp = incorrect[incorrect[\"y_true\"] == 1]\n",
    "incorrect_hol = incorrect[incorrect[\"y_true\"] == 2]\n",
    "incorrect_neg = incorrect[incorrect[\"y_true\"] == 0]"
   ]
  },
  {
   "cell_type": "code",
   "execution_count": 18,
   "metadata": {},
   "outputs": [
    {
     "data": {
      "text/html": [
       "<div>\n",
       "<style scoped>\n",
       "    .dataframe tbody tr th:only-of-type {\n",
       "        vertical-align: middle;\n",
       "    }\n",
       "\n",
       "    .dataframe tbody tr th {\n",
       "        vertical-align: top;\n",
       "    }\n",
       "\n",
       "    .dataframe thead th {\n",
       "        text-align: right;\n",
       "    }\n",
       "</style>\n",
       "<table border=\"1\" class=\"dataframe\">\n",
       "  <thead>\n",
       "    <tr style=\"text-align: right;\">\n",
       "      <th></th>\n",
       "      <th>y_true</th>\n",
       "      <th>y_pred_neg</th>\n",
       "      <th>y_pred_hyp</th>\n",
       "      <th>y_pred_hol</th>\n",
       "      <th>y_pred</th>\n",
       "      <th>definition</th>\n",
       "      <th>related_definition</th>\n",
       "    </tr>\n",
       "  </thead>\n",
       "  <tbody>\n",
       "    <tr>\n",
       "      <th>18803</th>\n",
       "      <td>2</td>\n",
       "      <td>0.949791</td>\n",
       "      <td>0.004974</td>\n",
       "      <td>0.045235</td>\n",
       "      <td>0</td>\n",
       "      <td>the definition of handle is the appendage to an object that is designed to be held in order to use or move it</td>\n",
       "      <td>the definition of teacup is a cup from which tea is drunk</td>\n",
       "    </tr>\n",
       "    <tr>\n",
       "      <th>21608</th>\n",
       "      <td>2</td>\n",
       "      <td>0.740311</td>\n",
       "      <td>0.129469</td>\n",
       "      <td>0.130220</td>\n",
       "      <td>0</td>\n",
       "      <td>the definition of ramanavami is Hindu lunar holiday (on the 9th day of Caitra) to celebrate the birth of Rama</td>\n",
       "      <td>the definition of chait is the first Hindu calendar month (corresponding to March in the Gregorian calendar)</td>\n",
       "    </tr>\n",
       "    <tr>\n",
       "      <th>20319</th>\n",
       "      <td>2</td>\n",
       "      <td>0.024926</td>\n",
       "      <td>0.917791</td>\n",
       "      <td>0.057283</td>\n",
       "      <td>1</td>\n",
       "      <td>the definition of chalk is a soft whitish calcite</td>\n",
       "      <td>the definition of chalk is a piece of calcite or a similar substance, usually in the shape of a crayon, that is used to write or draw on blackboards or other flat surfaces</td>\n",
       "    </tr>\n",
       "    <tr>\n",
       "      <th>12937</th>\n",
       "      <td>2</td>\n",
       "      <td>0.932211</td>\n",
       "      <td>0.006638</td>\n",
       "      <td>0.061151</td>\n",
       "      <td>0</td>\n",
       "      <td>the definition of candelilla wax is a hard brown wax that occurs as a coating on candelilla shrubs</td>\n",
       "      <td>the definition of candelilla is wax-coated shrub of northern Mexico and southwestern United States</td>\n",
       "    </tr>\n",
       "    <tr>\n",
       "      <th>1650</th>\n",
       "      <td>2</td>\n",
       "      <td>0.878103</td>\n",
       "      <td>0.009287</td>\n",
       "      <td>0.112609</td>\n",
       "      <td>0</td>\n",
       "      <td>the definition of longan is tree of southeastern Asia to Australia grown primarily for its sweet edible fruit resembling litchi nuts; sometimes placed in genera Euphorbia or Nephelium</td>\n",
       "      <td>the definition of dimocarpus is longan</td>\n",
       "    </tr>\n",
       "    <tr>\n",
       "      <th>15443</th>\n",
       "      <td>2</td>\n",
       "      <td>0.928323</td>\n",
       "      <td>0.006022</td>\n",
       "      <td>0.065655</td>\n",
       "      <td>0</td>\n",
       "      <td>the definition of banana is elongated crescent-shaped yellow fruit with soft sweet flesh</td>\n",
       "      <td>the definition of dwarf banana is low-growing Asian banana tree cultivated especially in the West Indies for its clusters of edible yellow fruit</td>\n",
       "    </tr>\n",
       "    <tr>\n",
       "      <th>1125</th>\n",
       "      <td>2</td>\n",
       "      <td>0.003492</td>\n",
       "      <td>0.955009</td>\n",
       "      <td>0.041499</td>\n",
       "      <td>1</td>\n",
       "      <td>the definition of porterhouse is large steak from the thick end of the short loin containing a T-shaped bone and large piece of tenderloin</td>\n",
       "      <td>the definition of beef loin is cut of meat from a loin of beef</td>\n",
       "    </tr>\n",
       "    <tr>\n",
       "      <th>20698</th>\n",
       "      <td>2</td>\n",
       "      <td>0.002201</td>\n",
       "      <td>0.941085</td>\n",
       "      <td>0.056714</td>\n",
       "      <td>1</td>\n",
       "      <td>the definition of golgi body is a netlike structure in the cytoplasm of animal cells (especially in those cells that produce secretions)</td>\n",
       "      <td>the definition of cytoplasm is the protoplasm of a cell excluding the nucleus; is full of proteins that control cell metabolism</td>\n",
       "    </tr>\n",
       "    <tr>\n",
       "      <th>1127</th>\n",
       "      <td>2</td>\n",
       "      <td>0.719173</td>\n",
       "      <td>0.027050</td>\n",
       "      <td>0.253778</td>\n",
       "      <td>0</td>\n",
       "      <td>the definition of limb is the graduated arc that is attached to an instrument for measuring angles</td>\n",
       "      <td>the definition of sextant is a measuring instrument for measuring the angular distance between celestial objects; resembles an octant</td>\n",
       "    </tr>\n",
       "    <tr>\n",
       "      <th>16751</th>\n",
       "      <td>2</td>\n",
       "      <td>0.915875</td>\n",
       "      <td>0.007963</td>\n",
       "      <td>0.076162</td>\n",
       "      <td>0</td>\n",
       "      <td>the definition of rabbitwood is shrub of southeastern United States parasitic on roots of hemlocks having sparse spikes of greenish flowers and pulpy drupes</td>\n",
       "      <td>the definition of pyrularia is small genus of chiefly Asiatic parasitic shrubs</td>\n",
       "    </tr>\n",
       "  </tbody>\n",
       "</table>\n",
       "</div>"
      ],
      "text/plain": [
       "       y_true  y_pred_neg  y_pred_hyp  y_pred_hol  y_pred  \\\n",
       "18803       2    0.949791    0.004974    0.045235       0   \n",
       "21608       2    0.740311    0.129469    0.130220       0   \n",
       "20319       2    0.024926    0.917791    0.057283       1   \n",
       "12937       2    0.932211    0.006638    0.061151       0   \n",
       "1650        2    0.878103    0.009287    0.112609       0   \n",
       "15443       2    0.928323    0.006022    0.065655       0   \n",
       "1125        2    0.003492    0.955009    0.041499       1   \n",
       "20698       2    0.002201    0.941085    0.056714       1   \n",
       "1127        2    0.719173    0.027050    0.253778       0   \n",
       "16751       2    0.915875    0.007963    0.076162       0   \n",
       "\n",
       "                                                                                                                                                                                    definition  \\\n",
       "18803                                                                            the definition of handle is the appendage to an object that is designed to be held in order to use or move it   \n",
       "21608                                                                            the definition of ramanavami is Hindu lunar holiday (on the 9th day of Caitra) to celebrate the birth of Rama   \n",
       "20319                                                                                                                                        the definition of chalk is a soft whitish calcite   \n",
       "12937                                                                                       the definition of candelilla wax is a hard brown wax that occurs as a coating on candelilla shrubs   \n",
       "1650   the definition of longan is tree of southeastern Asia to Australia grown primarily for its sweet edible fruit resembling litchi nuts; sometimes placed in genera Euphorbia or Nephelium   \n",
       "15443                                                                                                 the definition of banana is elongated crescent-shaped yellow fruit with soft sweet flesh   \n",
       "1125                                                the definition of porterhouse is large steak from the thick end of the short loin containing a T-shaped bone and large piece of tenderloin   \n",
       "20698                                                 the definition of golgi body is a netlike structure in the cytoplasm of animal cells (especially in those cells that produce secretions)   \n",
       "1127                                                                                        the definition of limb is the graduated arc that is attached to an instrument for measuring angles   \n",
       "16751                             the definition of rabbitwood is shrub of southeastern United States parasitic on roots of hemlocks having sparse spikes of greenish flowers and pulpy drupes   \n",
       "\n",
       "                                                                                                                                                                related_definition  \n",
       "18803                                                                                                                    the definition of teacup is a cup from which tea is drunk  \n",
       "21608                                                                 the definition of chait is the first Hindu calendar month (corresponding to March in the Gregorian calendar)  \n",
       "20319  the definition of chalk is a piece of calcite or a similar substance, usually in the shape of a crayon, that is used to write or draw on blackboards or other flat surfaces  \n",
       "12937                                                                           the definition of candelilla is wax-coated shrub of northern Mexico and southwestern United States  \n",
       "1650                                                                                                                                        the definition of dimocarpus is longan  \n",
       "15443                             the definition of dwarf banana is low-growing Asian banana tree cultivated especially in the West Indies for its clusters of edible yellow fruit  \n",
       "1125                                                                                                                the definition of beef loin is cut of meat from a loin of beef  \n",
       "20698                                              the definition of cytoplasm is the protoplasm of a cell excluding the nucleus; is full of proteins that control cell metabolism  \n",
       "1127                                         the definition of sextant is a measuring instrument for measuring the angular distance between celestial objects; resembles an octant  \n",
       "16751                                                                                               the definition of pyrularia is small genus of chiefly Asiatic parasitic shrubs  "
      ]
     },
     "execution_count": 18,
     "metadata": {},
     "output_type": "execute_result"
    }
   ],
   "source": [
    "incorrect_hol.sample(10)"
   ]
  },
  {
   "cell_type": "code",
   "execution_count": 55,
   "metadata": {},
   "outputs": [
    {
     "data": {
      "text/html": [
       "<div>\n",
       "<style scoped>\n",
       "    .dataframe tbody tr th:only-of-type {\n",
       "        vertical-align: middle;\n",
       "    }\n",
       "\n",
       "    .dataframe tbody tr th {\n",
       "        vertical-align: top;\n",
       "    }\n",
       "\n",
       "    .dataframe thead th {\n",
       "        text-align: right;\n",
       "    }\n",
       "</style>\n",
       "<table border=\"1\" class=\"dataframe\">\n",
       "  <thead>\n",
       "    <tr style=\"text-align: right;\">\n",
       "      <th></th>\n",
       "      <th>y_true</th>\n",
       "      <th>y_pred_neg</th>\n",
       "      <th>y_pred_hyp</th>\n",
       "      <th>y_pred_hol</th>\n",
       "      <th>y_pred</th>\n",
       "      <th>definition</th>\n",
       "      <th>related_definition</th>\n",
       "    </tr>\n",
       "  </thead>\n",
       "  <tbody>\n",
       "    <tr>\n",
       "      <th>7322</th>\n",
       "      <td>1</td>\n",
       "      <td>0.898313</td>\n",
       "      <td>0.045045</td>\n",
       "      <td>0.056643</td>\n",
       "      <td>0</td>\n",
       "      <td>the definition of quotient verdict is an improper and unacceptable kind of compromise verdict</td>\n",
       "      <td>the definition of compromise verdict is a verdict resulting from improper compromises between jurors on material issues</td>\n",
       "    </tr>\n",
       "    <tr>\n",
       "      <th>3838</th>\n",
       "      <td>1</td>\n",
       "      <td>0.730572</td>\n",
       "      <td>0.217832</td>\n",
       "      <td>0.051596</td>\n",
       "      <td>0</td>\n",
       "      <td>the definition of dphil is a British doctorate</td>\n",
       "      <td>the definition of doctor of philosophy is a doctorate awarded for original contributions to knowledge</td>\n",
       "    </tr>\n",
       "    <tr>\n",
       "      <th>4019</th>\n",
       "      <td>1</td>\n",
       "      <td>0.911294</td>\n",
       "      <td>0.013056</td>\n",
       "      <td>0.075650</td>\n",
       "      <td>0</td>\n",
       "      <td>the definition of bone china is fine porcelain that contains bone ash</td>\n",
       "      <td>the definition of china is high quality porcelain originally made only in China</td>\n",
       "    </tr>\n",
       "    <tr>\n",
       "      <th>6587</th>\n",
       "      <td>1</td>\n",
       "      <td>0.522867</td>\n",
       "      <td>0.257072</td>\n",
       "      <td>0.220061</td>\n",
       "      <td>0</td>\n",
       "      <td>the definition of st.-bruno's-lily is a variety of spiderwort</td>\n",
       "      <td>the definition of spiderwort is any plant of the family Commelinaceae</td>\n",
       "    </tr>\n",
       "    <tr>\n",
       "      <th>6833</th>\n",
       "      <td>1</td>\n",
       "      <td>0.008453</td>\n",
       "      <td>0.294957</td>\n",
       "      <td>0.696591</td>\n",
       "      <td>2</td>\n",
       "      <td>the definition of bar line is a vertical line before the accented beat marking the boundary between musical bars</td>\n",
       "      <td>the definition of musical notation is (music) notation used by musicians</td>\n",
       "    </tr>\n",
       "    <tr>\n",
       "      <th>14997</th>\n",
       "      <td>1</td>\n",
       "      <td>0.910630</td>\n",
       "      <td>0.052456</td>\n",
       "      <td>0.036915</td>\n",
       "      <td>0</td>\n",
       "      <td>the definition of reentry is the act of entering again</td>\n",
       "      <td>the definition of return is the act of going back to a prior location</td>\n",
       "    </tr>\n",
       "    <tr>\n",
       "      <th>21087</th>\n",
       "      <td>1</td>\n",
       "      <td>0.967339</td>\n",
       "      <td>0.008670</td>\n",
       "      <td>0.023991</td>\n",
       "      <td>0</td>\n",
       "      <td>the definition of uniocular dichromat is a person who has normal vision in one eye and dichromacy in the other; very rare but very useful for experiments on color vision</td>\n",
       "      <td>the definition of dichromat is a person with any of the various forms of dichromacy</td>\n",
       "    </tr>\n",
       "    <tr>\n",
       "      <th>7723</th>\n",
       "      <td>1</td>\n",
       "      <td>0.956767</td>\n",
       "      <td>0.011410</td>\n",
       "      <td>0.031823</td>\n",
       "      <td>0</td>\n",
       "      <td>the definition of ethic is the principles of right and wrong that are accepted by an individual or a social group</td>\n",
       "      <td>the definition of principle is a rule or standard especially of good behavior</td>\n",
       "    </tr>\n",
       "    <tr>\n",
       "      <th>19243</th>\n",
       "      <td>1</td>\n",
       "      <td>0.838461</td>\n",
       "      <td>0.113541</td>\n",
       "      <td>0.047998</td>\n",
       "      <td>0</td>\n",
       "      <td>the definition of footing is a relation that provides the foundation for something</td>\n",
       "      <td>the definition of foundation is the basis on which something is grounded</td>\n",
       "    </tr>\n",
       "    <tr>\n",
       "      <th>2103</th>\n",
       "      <td>1</td>\n",
       "      <td>0.469669</td>\n",
       "      <td>0.459281</td>\n",
       "      <td>0.071050</td>\n",
       "      <td>0</td>\n",
       "      <td>the definition of drop is fall or sink into a state of exhaustion or death</td>\n",
       "      <td>the definition of fall is pass suddenly and passively into a state of body or mind</td>\n",
       "    </tr>\n",
       "  </tbody>\n",
       "</table>\n",
       "</div>"
      ],
      "text/plain": [
       "       y_true  y_pred_neg  y_pred_hyp  y_pred_hol  y_pred  \\\n",
       "7322        1    0.898313    0.045045    0.056643       0   \n",
       "3838        1    0.730572    0.217832    0.051596       0   \n",
       "4019        1    0.911294    0.013056    0.075650       0   \n",
       "6587        1    0.522867    0.257072    0.220061       0   \n",
       "6833        1    0.008453    0.294957    0.696591       2   \n",
       "14997       1    0.910630    0.052456    0.036915       0   \n",
       "21087       1    0.967339    0.008670    0.023991       0   \n",
       "7723        1    0.956767    0.011410    0.031823       0   \n",
       "19243       1    0.838461    0.113541    0.047998       0   \n",
       "2103        1    0.469669    0.459281    0.071050       0   \n",
       "\n",
       "                                                                                                                                                                      definition  \\\n",
       "7322                                                                               the definition of quotient verdict is an improper and unacceptable kind of compromise verdict   \n",
       "3838                                                                                                                              the definition of dphil is a British doctorate   \n",
       "4019                                                                                                       the definition of bone china is fine porcelain that contains bone ash   \n",
       "6587                                                                                                               the definition of st.-bruno's-lily is a variety of spiderwort   \n",
       "6833                                                            the definition of bar line is a vertical line before the accented beat marking the boundary between musical bars   \n",
       "14997                                                                                                                     the definition of reentry is the act of entering again   \n",
       "21087  the definition of uniocular dichromat is a person who has normal vision in one eye and dichromacy in the other; very rare but very useful for experiments on color vision   \n",
       "7723                                                           the definition of ethic is the principles of right and wrong that are accepted by an individual or a social group   \n",
       "19243                                                                                         the definition of footing is a relation that provides the foundation for something   \n",
       "2103                                                                                                  the definition of drop is fall or sink into a state of exhaustion or death   \n",
       "\n",
       "                                                                                                            related_definition  \n",
       "7322   the definition of compromise verdict is a verdict resulting from improper compromises between jurors on material issues  \n",
       "3838                     the definition of doctor of philosophy is a doctorate awarded for original contributions to knowledge  \n",
       "4019                                           the definition of china is high quality porcelain originally made only in China  \n",
       "6587                                                     the definition of spiderwort is any plant of the family Commelinaceae  \n",
       "6833                                                  the definition of musical notation is (music) notation used by musicians  \n",
       "14997                                                    the definition of return is the act of going back to a prior location  \n",
       "21087                                      the definition of dichromat is a person with any of the various forms of dichromacy  \n",
       "7723                                             the definition of principle is a rule or standard especially of good behavior  \n",
       "19243                                                 the definition of foundation is the basis on which something is grounded  \n",
       "2103                                        the definition of fall is pass suddenly and passively into a state of body or mind  "
      ]
     },
     "execution_count": 55,
     "metadata": {},
     "output_type": "execute_result"
    }
   ],
   "source": [
    "incorrect_hyp.sample(10)"
   ]
  },
  {
   "cell_type": "code",
   "execution_count": 20,
   "metadata": {},
   "outputs": [
    {
     "data": {
      "text/html": [
       "<div>\n",
       "<style scoped>\n",
       "    .dataframe tbody tr th:only-of-type {\n",
       "        vertical-align: middle;\n",
       "    }\n",
       "\n",
       "    .dataframe tbody tr th {\n",
       "        vertical-align: top;\n",
       "    }\n",
       "\n",
       "    .dataframe thead th {\n",
       "        text-align: right;\n",
       "    }\n",
       "</style>\n",
       "<table border=\"1\" class=\"dataframe\">\n",
       "  <thead>\n",
       "    <tr style=\"text-align: right;\">\n",
       "      <th></th>\n",
       "      <th>y_true</th>\n",
       "      <th>y_pred_neg</th>\n",
       "      <th>y_pred_hyp</th>\n",
       "      <th>y_pred_hol</th>\n",
       "      <th>y_pred</th>\n",
       "      <th>definition</th>\n",
       "      <th>related_definition</th>\n",
       "    </tr>\n",
       "  </thead>\n",
       "  <tbody>\n",
       "    <tr>\n",
       "      <th>31877</th>\n",
       "      <td>0</td>\n",
       "      <td>0.175134</td>\n",
       "      <td>0.045470</td>\n",
       "      <td>0.779396</td>\n",
       "      <td>2</td>\n",
       "      <td>the definition of kung fu is a Chinese martial art</td>\n",
       "      <td>the definition of ontario is a prosperous and industrialized province in central Canada</td>\n",
       "    </tr>\n",
       "    <tr>\n",
       "      <th>28058</th>\n",
       "      <td>0</td>\n",
       "      <td>0.003724</td>\n",
       "      <td>0.968873</td>\n",
       "      <td>0.027403</td>\n",
       "      <td>1</td>\n",
       "      <td>the definition of scaling is ascent by or as if by a ladder</td>\n",
       "      <td>the definition of accretion is an increase by natural growth or addition</td>\n",
       "    </tr>\n",
       "    <tr>\n",
       "      <th>40485</th>\n",
       "      <td>0</td>\n",
       "      <td>0.337792</td>\n",
       "      <td>0.537961</td>\n",
       "      <td>0.124247</td>\n",
       "      <td>1</td>\n",
       "      <td>the definition of leatherwork is work made of leather</td>\n",
       "      <td>the definition of surgical knife is a very sharp knife used in surgery</td>\n",
       "    </tr>\n",
       "    <tr>\n",
       "      <th>26231</th>\n",
       "      <td>0</td>\n",
       "      <td>0.401170</td>\n",
       "      <td>0.524682</td>\n",
       "      <td>0.074148</td>\n",
       "      <td>1</td>\n",
       "      <td>the definition of cleavage is the act of cleaving or splitting</td>\n",
       "      <td>the definition of vacuolization is the state of having become filled with vacuoles</td>\n",
       "    </tr>\n",
       "    <tr>\n",
       "      <th>34217</th>\n",
       "      <td>0</td>\n",
       "      <td>0.123588</td>\n",
       "      <td>0.799734</td>\n",
       "      <td>0.076678</td>\n",
       "      <td>1</td>\n",
       "      <td>the definition of genre painting is a genre depicting everyday life</td>\n",
       "      <td>the definition of whole is an assemblage of parts that is regarded as a single entity</td>\n",
       "    </tr>\n",
       "    <tr>\n",
       "      <th>26234</th>\n",
       "      <td>0</td>\n",
       "      <td>0.277399</td>\n",
       "      <td>0.633875</td>\n",
       "      <td>0.088726</td>\n",
       "      <td>1</td>\n",
       "      <td>the definition of crepe is paper with a crinkled texture; usually colored and used for decorations</td>\n",
       "      <td>the definition of butylene is any of three isomeric hydrocarbons C4H8; all used in making synthetic rubbers</td>\n",
       "    </tr>\n",
       "    <tr>\n",
       "      <th>41382</th>\n",
       "      <td>0</td>\n",
       "      <td>0.007509</td>\n",
       "      <td>0.041628</td>\n",
       "      <td>0.950863</td>\n",
       "      <td>2</td>\n",
       "      <td>the definition of grouper is flesh of a saltwater fish similar to sea bass</td>\n",
       "      <td>the definition of american crayfish is common large crayfishes of eastern North America</td>\n",
       "    </tr>\n",
       "    <tr>\n",
       "      <th>41044</th>\n",
       "      <td>0</td>\n",
       "      <td>0.262933</td>\n",
       "      <td>0.678530</td>\n",
       "      <td>0.058537</td>\n",
       "      <td>1</td>\n",
       "      <td>the definition of sign is mark with one's signature; write one's name (on)</td>\n",
       "      <td>the definition of flare up is ignite quickly and suddenly, especially after having died down</td>\n",
       "    </tr>\n",
       "    <tr>\n",
       "      <th>38707</th>\n",
       "      <td>0</td>\n",
       "      <td>0.030862</td>\n",
       "      <td>0.875208</td>\n",
       "      <td>0.093930</td>\n",
       "      <td>1</td>\n",
       "      <td>the definition of man is the generic use of the word to refer to any human being</td>\n",
       "      <td>the definition of antitype is a person or thing represented or foreshadowed by a type or symbol; especially a figure in the Old Testament having a counterpart in the New Testament</td>\n",
       "    </tr>\n",
       "    <tr>\n",
       "      <th>30790</th>\n",
       "      <td>0</td>\n",
       "      <td>0.037943</td>\n",
       "      <td>0.907671</td>\n",
       "      <td>0.054386</td>\n",
       "      <td>1</td>\n",
       "      <td>the definition of bow leg is outward curvature of the legs</td>\n",
       "      <td>the definition of cut is the act of cutting something into parts</td>\n",
       "    </tr>\n",
       "  </tbody>\n",
       "</table>\n",
       "</div>"
      ],
      "text/plain": [
       "       y_true  y_pred_neg  y_pred_hyp  y_pred_hol  y_pred  \\\n",
       "31877       0    0.175134    0.045470    0.779396       2   \n",
       "28058       0    0.003724    0.968873    0.027403       1   \n",
       "40485       0    0.337792    0.537961    0.124247       1   \n",
       "26231       0    0.401170    0.524682    0.074148       1   \n",
       "34217       0    0.123588    0.799734    0.076678       1   \n",
       "26234       0    0.277399    0.633875    0.088726       1   \n",
       "41382       0    0.007509    0.041628    0.950863       2   \n",
       "41044       0    0.262933    0.678530    0.058537       1   \n",
       "38707       0    0.030862    0.875208    0.093930       1   \n",
       "30790       0    0.037943    0.907671    0.054386       1   \n",
       "\n",
       "                                                                                               definition  \\\n",
       "31877                                                  the definition of kung fu is a Chinese martial art   \n",
       "28058                                         the definition of scaling is ascent by or as if by a ladder   \n",
       "40485                                               the definition of leatherwork is work made of leather   \n",
       "26231                                      the definition of cleavage is the act of cleaving or splitting   \n",
       "34217                                 the definition of genre painting is a genre depicting everyday life   \n",
       "26234  the definition of crepe is paper with a crinkled texture; usually colored and used for decorations   \n",
       "41382                          the definition of grouper is flesh of a saltwater fish similar to sea bass   \n",
       "41044                          the definition of sign is mark with one's signature; write one's name (on)   \n",
       "38707                    the definition of man is the generic use of the word to refer to any human being   \n",
       "30790                                          the definition of bow leg is outward curvature of the legs   \n",
       "\n",
       "                                                                                                                                                                        related_definition  \n",
       "31877                                                                                              the definition of ontario is a prosperous and industrialized province in central Canada  \n",
       "28058                                                                                                             the definition of accretion is an increase by natural growth or addition  \n",
       "40485                                                                                                               the definition of surgical knife is a very sharp knife used in surgery  \n",
       "26231                                                                                                   the definition of vacuolization is the state of having become filled with vacuoles  \n",
       "34217                                                                                                the definition of whole is an assemblage of parts that is regarded as a single entity  \n",
       "26234                                                                          the definition of butylene is any of three isomeric hydrocarbons C4H8; all used in making synthetic rubbers  \n",
       "41382                                                                                              the definition of american crayfish is common large crayfishes of eastern North America  \n",
       "41044                                                                                         the definition of flare up is ignite quickly and suddenly, especially after having died down  \n",
       "38707  the definition of antitype is a person or thing represented or foreshadowed by a type or symbol; especially a figure in the Old Testament having a counterpart in the New Testament  \n",
       "30790                                                                                                                     the definition of cut is the act of cutting something into parts  "
      ]
     },
     "execution_count": 20,
     "metadata": {},
     "output_type": "execute_result"
    }
   ],
   "source": [
    "incorrect_neg.sample(10)"
   ]
  }
 ],
 "metadata": {
  "kernelspec": {
   "display_name": "nlp",
   "language": "python",
   "name": "python3"
  },
  "language_info": {
   "codemirror_mode": {
    "name": "ipython",
    "version": 3
   },
   "file_extension": ".py",
   "mimetype": "text/x-python",
   "name": "python",
   "nbconvert_exporter": "python",
   "pygments_lexer": "ipython3",
   "version": "3.12.4"
  }
 },
 "nbformat": 4,
 "nbformat_minor": 2
}
