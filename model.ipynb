{
 "cells": [
  {
   "cell_type": "code",
   "execution_count": 4,
   "metadata": {},
   "outputs": [],
   "source": [
    "import pandas as pd\n",
    "import numpy as np\n",
    "\n",
    "import torch\n",
    "from transformers import BertTokenizer, BertConfig, BertModel\n",
    "\n",
    "device = 'cuda' if torch.cuda.is_available() else 'cpu'"
   ]
  },
  {
   "cell_type": "code",
   "execution_count": 5,
   "metadata": {},
   "outputs": [
    {
     "data": {
      "text/plain": [
       "Data(edge_index=[2, 111276], edge_attr=[111276], token_ids=[91294, 147], token_mask=[91294, 147], token_type_ids=[91294, 147])"
      ]
     },
     "execution_count": 5,
     "metadata": {},
     "output_type": "execute_result"
    }
   ],
   "source": [
    "from dataset import RelationsDS\n",
    "\n",
    "data = RelationsDS(root='./data').to(device=device)\n",
    "data[0]"
   ]
  },
  {
   "cell_type": "markdown",
   "metadata": {},
   "source": [
    "# BERT encoder"
   ]
  },
  {
   "cell_type": "code",
   "execution_count": 10,
   "metadata": {},
   "outputs": [
    {
     "data": {
      "text/plain": [
       "torch.Size([91294, 3, 147])"
      ]
     },
     "execution_count": 10,
     "metadata": {},
     "output_type": "execute_result"
    }
   ],
   "source": [
    "from torch.utils.data import DataLoader\n",
    "\n",
    "g = data[0].to(device)\n",
    "tokens = torch.stack([g.token_ids, g.token_mask, g.token_type_ids], dim=1)\n",
    "tokens.shape"
   ]
  },
  {
   "cell_type": "code",
   "execution_count": 11,
   "metadata": {},
   "outputs": [
    {
     "name": "stderr",
     "output_type": "stream",
     "text": [
      "A parameter name that contains `beta` will be renamed internally to `bias`. Please use a different name to suppress this warning.\n",
      "A parameter name that contains `gamma` will be renamed internally to `weight`. Please use a different name to suppress this warning.\n",
      "A parameter name that contains `beta` will be renamed internally to `bias`. Please use a different name to suppress this warning.\n",
      "A parameter name that contains `gamma` will be renamed internally to `weight`. Please use a different name to suppress this warning.\n",
      "A parameter name that contains `beta` will be renamed internally to `bias`. Please use a different name to suppress this warning.\n",
      "A parameter name that contains `gamma` will be renamed internally to `weight`. Please use a different name to suppress this warning.\n",
      "A parameter name that contains `beta` will be renamed internally to `bias`. Please use a different name to suppress this warning.\n",
      "A parameter name that contains `gamma` will be renamed internally to `weight`. Please use a different name to suppress this warning.\n",
      "A parameter name that contains `beta` will be renamed internally to `bias`. Please use a different name to suppress this warning.\n",
      "A parameter name that contains `gamma` will be renamed internally to `weight`. Please use a different name to suppress this warning.\n",
      "A parameter name that contains `beta` will be renamed internally to `bias`. Please use a different name to suppress this warning.\n",
      "A parameter name that contains `gamma` will be renamed internally to `weight`. Please use a different name to suppress this warning.\n",
      "A parameter name that contains `beta` will be renamed internally to `bias`. Please use a different name to suppress this warning.\n",
      "A parameter name that contains `gamma` will be renamed internally to `weight`. Please use a different name to suppress this warning.\n",
      "A parameter name that contains `beta` will be renamed internally to `bias`. Please use a different name to suppress this warning.\n",
      "A parameter name that contains `gamma` will be renamed internally to `weight`. Please use a different name to suppress this warning.\n",
      "A parameter name that contains `beta` will be renamed internally to `bias`. Please use a different name to suppress this warning.\n",
      "A parameter name that contains `gamma` will be renamed internally to `weight`. Please use a different name to suppress this warning.\n",
      "A parameter name that contains `beta` will be renamed internally to `bias`. Please use a different name to suppress this warning.\n",
      "A parameter name that contains `gamma` will be renamed internally to `weight`. Please use a different name to suppress this warning.\n",
      "A parameter name that contains `beta` will be renamed internally to `bias`. Please use a different name to suppress this warning.\n",
      "A parameter name that contains `gamma` will be renamed internally to `weight`. Please use a different name to suppress this warning.\n",
      "A parameter name that contains `beta` will be renamed internally to `bias`. Please use a different name to suppress this warning.\n",
      "A parameter name that contains `gamma` will be renamed internally to `weight`. Please use a different name to suppress this warning.\n",
      "A parameter name that contains `beta` will be renamed internally to `bias`. Please use a different name to suppress this warning.\n",
      "A parameter name that contains `gamma` will be renamed internally to `weight`. Please use a different name to suppress this warning.\n",
      "A parameter name that contains `beta` will be renamed internally to `bias`. Please use a different name to suppress this warning.\n",
      "A parameter name that contains `gamma` will be renamed internally to `weight`. Please use a different name to suppress this warning.\n",
      "A parameter name that contains `beta` will be renamed internally to `bias`. Please use a different name to suppress this warning.\n",
      "A parameter name that contains `gamma` will be renamed internally to `weight`. Please use a different name to suppress this warning.\n",
      "A parameter name that contains `beta` will be renamed internally to `bias`. Please use a different name to suppress this warning.\n",
      "A parameter name that contains `gamma` will be renamed internally to `weight`. Please use a different name to suppress this warning.\n",
      "A parameter name that contains `beta` will be renamed internally to `bias`. Please use a different name to suppress this warning.\n",
      "A parameter name that contains `gamma` will be renamed internally to `weight`. Please use a different name to suppress this warning.\n",
      "A parameter name that contains `beta` will be renamed internally to `bias`. Please use a different name to suppress this warning.\n",
      "A parameter name that contains `gamma` will be renamed internally to `weight`. Please use a different name to suppress this warning.\n",
      "A parameter name that contains `beta` will be renamed internally to `bias`. Please use a different name to suppress this warning.\n",
      "A parameter name that contains `gamma` will be renamed internally to `weight`. Please use a different name to suppress this warning.\n",
      "A parameter name that contains `beta` will be renamed internally to `bias`. Please use a different name to suppress this warning.\n",
      "A parameter name that contains `gamma` will be renamed internally to `weight`. Please use a different name to suppress this warning.\n",
      "A parameter name that contains `beta` will be renamed internally to `bias`. Please use a different name to suppress this warning.\n",
      "A parameter name that contains `gamma` will be renamed internally to `weight`. Please use a different name to suppress this warning.\n",
      "A parameter name that contains `beta` will be renamed internally to `bias`. Please use a different name to suppress this warning.\n",
      "A parameter name that contains `gamma` will be renamed internally to `weight`. Please use a different name to suppress this warning.\n",
      "A parameter name that contains `beta` will be renamed internally to `bias`. Please use a different name to suppress this warning.\n",
      "A parameter name that contains `gamma` will be renamed internally to `weight`. Please use a different name to suppress this warning.\n",
      "A parameter name that contains `beta` will be renamed internally to `bias`. Please use a different name to suppress this warning.\n",
      "A parameter name that contains `gamma` will be renamed internally to `weight`. Please use a different name to suppress this warning.\n",
      "A parameter name that contains `beta` will be renamed internally to `bias`. Please use a different name to suppress this warning.\n",
      "A parameter name that contains `gamma` will be renamed internally to `weight`. Please use a different name to suppress this warning.\n",
      "A parameter name that contains `beta` will be renamed internally to `bias`. Please use a different name to suppress this warning.\n",
      "A parameter name that contains `gamma` will be renamed internally to `weight`. Please use a different name to suppress this warning.\n"
     ]
    }
   ],
   "source": [
    "model = BertModel.from_pretrained('bert-base-uncased').to(device)"
   ]
  },
  {
   "cell_type": "code",
   "execution_count": 36,
   "metadata": {},
   "outputs": [
    {
     "data": {
      "text/plain": [
       "(45647.0, 6521.0)"
      ]
     },
     "execution_count": 36,
     "metadata": {},
     "output_type": "execute_result"
    }
   ],
   "source": [
    "91294/2, 45647/7"
   ]
  },
  {
   "cell_type": "code",
   "execution_count": 15,
   "metadata": {},
   "outputs": [
    {
     "data": {
      "text/plain": [
       "torch.Size([91294, 3, 147])"
      ]
     },
     "execution_count": 15,
     "metadata": {},
     "output_type": "execute_result"
    }
   ],
   "source": [
    "tokens.shape"
   ]
  },
  {
   "cell_type": "code",
   "execution_count": 19,
   "metadata": {},
   "outputs": [
    {
     "name": "stdout",
     "output_type": "stream",
     "text": [
      "batch 0/90\n",
      "batch 10/90\n",
      "batch 20/90\n",
      "batch 30/90\n",
      "batch 40/90\n",
      "batch 50/90\n",
      "batch 60/90\n",
      "batch 70/90\n",
      "batch 80/90\n"
     ]
    }
   ],
   "source": [
    "batch_size = 1024\n",
    "token_loader = DataLoader(tokens, batch_size=batch_size)\n",
    "\n",
    "encoding_size = 768\n",
    "x = None\n",
    "\n",
    "with torch.no_grad():\n",
    "    for batch_num, token_batch in enumerate(token_loader):\n",
    "        if batch_num % 10*batch_size == 0:\n",
    "            print(f'batch {batch_num}/{len(token_loader)}')\n",
    "        batch_encoding = model(token_batch[:,0,:],\n",
    "                               token_batch[:,1,:],\n",
    "                               token_batch[:,2,:]).last_hidden_state[:,0,:]\n",
    "        if x is None:\n",
    "            x = batch_encoding\n",
    "        else:\n",
    "            x = torch.concat([x, batch_encoding])"
   ]
  },
  {
   "cell_type": "code",
   "execution_count": 20,
   "metadata": {},
   "outputs": [
    {
     "data": {
      "text/plain": [
       "torch.Size([91294, 768])"
      ]
     },
     "execution_count": 20,
     "metadata": {},
     "output_type": "execute_result"
    }
   ],
   "source": [
    "x.shape"
   ]
  },
  {
   "cell_type": "code",
   "execution_count": 7,
   "metadata": {},
   "outputs": [
    {
     "name": "stdout",
     "output_type": "stream",
     "text": [
      "torch.Size([1, 138]) torch.Size([1, 138]) torch.Size([1, 138])\n"
     ]
    }
   ],
   "source": [
    "with torch.no_grad():\n",
    "    idx = 0\n",
    "    id = g.token_ids[idx].unsqueeze(0)\n",
    "    mask = g.token_mask[idx].unsqueeze(0)\n",
    "    type_ids = g.token_type_ids[idx].unsqueeze(0)\n",
    "    print(id.shape, mask.shape, type_ids.shape)\n",
    "\n",
    "    encoding = model(id, mask, type_ids)"
   ]
  },
  {
   "cell_type": "code",
   "execution_count": 5,
   "metadata": {},
   "outputs": [
    {
     "name": "stdout",
     "output_type": "stream",
     "text": [
      "torch.Size([10, 138]) torch.Size([10, 138]) torch.Size([10, 138])\n"
     ]
    }
   ],
   "source": [
    "with torch.no_grad():\n",
    "    num = 10\n",
    "    id = g.token_ids[:num]\n",
    "    mask = g.token_mask[:num]\n",
    "    type_ids = g.token_type_ids[:num]\n",
    "    print(id.shape, mask.shape, type_ids.shape)\n",
    "\n",
    "    encoding = model(id, mask, type_ids)"
   ]
  },
  {
   "cell_type": "code",
   "execution_count": 10,
   "metadata": {},
   "outputs": [
    {
     "name": "stdout",
     "output_type": "stream",
     "text": [
      "torch.Size([10, 768]) <class 'torch.Tensor'>\n",
      "tensor(-0.0102, device='cuda:0') tensor(0.5358, device='cuda:0')\n"
     ]
    }
   ],
   "source": [
    "lhs = encoding.last_hidden_state\n",
    "lhs = lhs[:, 0, :]\n",
    "lhs = lhs.flatten(start_dim=1)\n",
    "print(lhs.shape, type(lhs))\n",
    "print(lhs.mean(), lhs.std())"
   ]
  },
  {
   "cell_type": "markdown",
   "metadata": {},
   "source": [
    "# Model\n",
    "\n",
    "adapted from [Online Link Prediction with Graph Neural Networks](https://medium.com/stanford-cs224w/online-link-prediction-with-graph-neural-networks-46c1054f2aa4)"
   ]
  },
  {
   "cell_type": "code",
   "execution_count": 2,
   "metadata": {},
   "outputs": [],
   "source": [
    "from model import Model, LinkPredictor, NodeEmbedder"
   ]
  },
  {
   "cell_type": "code",
   "execution_count": 6,
   "metadata": {},
   "outputs": [
    {
     "name": "stderr",
     "output_type": "stream",
     "text": [
      "A parameter name that contains `beta` will be renamed internally to `bias`. Please use a different name to suppress this warning.\n",
      "A parameter name that contains `gamma` will be renamed internally to `weight`. Please use a different name to suppress this warning.\n",
      "A parameter name that contains `beta` will be renamed internally to `bias`. Please use a different name to suppress this warning.\n",
      "A parameter name that contains `gamma` will be renamed internally to `weight`. Please use a different name to suppress this warning.\n",
      "A parameter name that contains `beta` will be renamed internally to `bias`. Please use a different name to suppress this warning.\n",
      "A parameter name that contains `gamma` will be renamed internally to `weight`. Please use a different name to suppress this warning.\n",
      "A parameter name that contains `beta` will be renamed internally to `bias`. Please use a different name to suppress this warning.\n",
      "A parameter name that contains `gamma` will be renamed internally to `weight`. Please use a different name to suppress this warning.\n",
      "A parameter name that contains `beta` will be renamed internally to `bias`. Please use a different name to suppress this warning.\n",
      "A parameter name that contains `gamma` will be renamed internally to `weight`. Please use a different name to suppress this warning.\n",
      "A parameter name that contains `beta` will be renamed internally to `bias`. Please use a different name to suppress this warning.\n",
      "A parameter name that contains `gamma` will be renamed internally to `weight`. Please use a different name to suppress this warning.\n",
      "A parameter name that contains `beta` will be renamed internally to `bias`. Please use a different name to suppress this warning.\n",
      "A parameter name that contains `gamma` will be renamed internally to `weight`. Please use a different name to suppress this warning.\n",
      "A parameter name that contains `beta` will be renamed internally to `bias`. Please use a different name to suppress this warning.\n",
      "A parameter name that contains `gamma` will be renamed internally to `weight`. Please use a different name to suppress this warning.\n",
      "A parameter name that contains `beta` will be renamed internally to `bias`. Please use a different name to suppress this warning.\n",
      "A parameter name that contains `gamma` will be renamed internally to `weight`. Please use a different name to suppress this warning.\n",
      "A parameter name that contains `beta` will be renamed internally to `bias`. Please use a different name to suppress this warning.\n",
      "A parameter name that contains `gamma` will be renamed internally to `weight`. Please use a different name to suppress this warning.\n",
      "A parameter name that contains `beta` will be renamed internally to `bias`. Please use a different name to suppress this warning.\n",
      "A parameter name that contains `gamma` will be renamed internally to `weight`. Please use a different name to suppress this warning.\n",
      "A parameter name that contains `beta` will be renamed internally to `bias`. Please use a different name to suppress this warning.\n",
      "A parameter name that contains `gamma` will be renamed internally to `weight`. Please use a different name to suppress this warning.\n",
      "A parameter name that contains `beta` will be renamed internally to `bias`. Please use a different name to suppress this warning.\n",
      "A parameter name that contains `gamma` will be renamed internally to `weight`. Please use a different name to suppress this warning.\n",
      "A parameter name that contains `beta` will be renamed internally to `bias`. Please use a different name to suppress this warning.\n",
      "A parameter name that contains `gamma` will be renamed internally to `weight`. Please use a different name to suppress this warning.\n",
      "A parameter name that contains `beta` will be renamed internally to `bias`. Please use a different name to suppress this warning.\n",
      "A parameter name that contains `gamma` will be renamed internally to `weight`. Please use a different name to suppress this warning.\n",
      "A parameter name that contains `beta` will be renamed internally to `bias`. Please use a different name to suppress this warning.\n",
      "A parameter name that contains `gamma` will be renamed internally to `weight`. Please use a different name to suppress this warning.\n",
      "A parameter name that contains `beta` will be renamed internally to `bias`. Please use a different name to suppress this warning.\n",
      "A parameter name that contains `gamma` will be renamed internally to `weight`. Please use a different name to suppress this warning.\n",
      "A parameter name that contains `beta` will be renamed internally to `bias`. Please use a different name to suppress this warning.\n",
      "A parameter name that contains `gamma` will be renamed internally to `weight`. Please use a different name to suppress this warning.\n",
      "A parameter name that contains `beta` will be renamed internally to `bias`. Please use a different name to suppress this warning.\n",
      "A parameter name that contains `gamma` will be renamed internally to `weight`. Please use a different name to suppress this warning.\n",
      "A parameter name that contains `beta` will be renamed internally to `bias`. Please use a different name to suppress this warning.\n",
      "A parameter name that contains `gamma` will be renamed internally to `weight`. Please use a different name to suppress this warning.\n",
      "A parameter name that contains `beta` will be renamed internally to `bias`. Please use a different name to suppress this warning.\n",
      "A parameter name that contains `gamma` will be renamed internally to `weight`. Please use a different name to suppress this warning.\n",
      "A parameter name that contains `beta` will be renamed internally to `bias`. Please use a different name to suppress this warning.\n",
      "A parameter name that contains `gamma` will be renamed internally to `weight`. Please use a different name to suppress this warning.\n",
      "A parameter name that contains `beta` will be renamed internally to `bias`. Please use a different name to suppress this warning.\n",
      "A parameter name that contains `gamma` will be renamed internally to `weight`. Please use a different name to suppress this warning.\n",
      "A parameter name that contains `beta` will be renamed internally to `bias`. Please use a different name to suppress this warning.\n",
      "A parameter name that contains `gamma` will be renamed internally to `weight`. Please use a different name to suppress this warning.\n",
      "A parameter name that contains `beta` will be renamed internally to `bias`. Please use a different name to suppress this warning.\n",
      "A parameter name that contains `gamma` will be renamed internally to `weight`. Please use a different name to suppress this warning.\n",
      "A parameter name that contains `beta` will be renamed internally to `bias`. Please use a different name to suppress this warning.\n",
      "A parameter name that contains `gamma` will be renamed internally to `weight`. Please use a different name to suppress this warning.\n"
     ]
    }
   ],
   "source": [
    "device = 'cuda'\n",
    "g = data[0].to(device)\n",
    "tokens = torch.stack([g.token_ids, g.token_mask, g.token_type_ids], dim=1)\n",
    "\n",
    "node_embedder = NodeEmbedder(input_dim=768,\n",
    "                                hidden_dim=256,\n",
    "                                output_dim=256,\n",
    "                                num_heads=1,\n",
    "                                num_layers=2).to(device)\n",
    "link_pred = LinkPredictor(input_dim=256, \n",
    "                            hidden_dim=128,\n",
    "                            output_dim=1,\n",
    "                            num_layers=3).to(device)\n",
    "model = Model(node_embedder, link_pred)\n",
    "\n",
    "node_encodings = node_embedder.load_input_encodings('data/input_encoding.pt').to(device)"
   ]
  },
  {
   "cell_type": "code",
   "execution_count": 7,
   "metadata": {},
   "outputs": [],
   "source": [
    "from dataset import split_data_stratified\n",
    "from torch.nn.functional import one_hot\n",
    "g.x = node_encodings\n",
    "g = split_data_stratified(g, data.num_nodes) # create neg samples and train/val/test splits \n",
    "g.edge_attr = one_hot(g.edge_attr).float()"
   ]
  },
  {
   "cell_type": "code",
   "execution_count": 29,
   "metadata": {},
   "outputs": [
    {
     "data": {
      "text/plain": [
       "tensor([[0., 0., 1.],\n",
       "        [0., 1., 0.],\n",
       "        [0., 0., 1.],\n",
       "        ...,\n",
       "        [1., 0., 0.],\n",
       "        [1., 0., 0.],\n",
       "        [1., 0., 0.]])"
      ]
     },
     "execution_count": 29,
     "metadata": {},
     "output_type": "execute_result"
    }
   ],
   "source": [
    "g.edge_attr"
   ]
  },
  {
   "cell_type": "code",
   "execution_count": 64,
   "metadata": {},
   "outputs": [],
   "source": [
    "from torch_geometric.nn import GATv2Conv\n",
    "import torch.nn.functional as F\n",
    "input_dim=768\n",
    "hidden_dim=256\n",
    "output_dim=256\n",
    "num_heads=2\n",
    "conv1 = GATv2Conv(input_dim, hidden_dim, num_heads, edge_dim=3, add_self_loops=False).to(device)\n",
    "conv2 = GATv2Conv(hidden_dim*num_heads, hidden_dim, num_heads, edge_dim=3, add_self_loops=False).to(device)"
   ]
  },
  {
   "cell_type": "code",
   "execution_count": 58,
   "metadata": {},
   "outputs": [
    {
     "name": "stdout",
     "output_type": "stream",
     "text": [
      "torch.float32 torch.int64 torch.float32\n",
      "torch.Size([91294, 768]) torch.Size([2, 162510]) torch.Size([162510, 3])\n"
     ]
    }
   ],
   "source": [
    "print(g.x.dtype, g.edge_index.dtype, g.edge_attr.dtype)\n",
    "print(g.x.shape, g.edge_index.shape, g.edge_attr.shape)"
   ]
  },
  {
   "cell_type": "code",
   "execution_count": 68,
   "metadata": {},
   "outputs": [
    {
     "data": {
      "text/plain": [
       "2"
      ]
     },
     "execution_count": 68,
     "metadata": {},
     "output_type": "execute_result"
    }
   ],
   "source": [
    "x = g.x\n",
    "x.dim()"
   ]
  },
  {
   "cell_type": "code",
   "execution_count": 11,
   "metadata": {},
   "outputs": [
    {
     "data": {
      "text/plain": [
       "(torch.Size([2, 111276]), tensor(111275, device='cuda:0'))"
      ]
     },
     "execution_count": 11,
     "metadata": {},
     "output_type": "execute_result"
    }
   ],
   "source": [
    "g.pos_samples.shape, g.train_mask.max()"
   ]
  },
  {
   "cell_type": "code",
   "execution_count": 65,
   "metadata": {},
   "outputs": [],
   "source": [
    "x = conv1(g.x, g.edge_index, g.edge_attr)"
   ]
  },
  {
   "cell_type": "code",
   "execution_count": 66,
   "metadata": {},
   "outputs": [],
   "source": [
    "x = F.relu(x)"
   ]
  },
  {
   "cell_type": "code",
   "execution_count": 50,
   "metadata": {},
   "outputs": [],
   "source": [
    "x = conv2(x, g.edge_index, g.edge_attr)"
   ]
  },
  {
   "cell_type": "code",
   "execution_count": 52,
   "metadata": {},
   "outputs": [
    {
     "data": {
      "text/plain": [
       "torch.Size([91294, 512])"
      ]
     },
     "execution_count": 52,
     "metadata": {},
     "output_type": "execute_result"
    }
   ],
   "source": [
    "x.shape"
   ]
  },
  {
   "cell_type": "code",
   "execution_count": 12,
   "metadata": {},
   "outputs": [],
   "source": [
    "from torch.utils.data import DataLoader\n",
    "link_loader = DataLoader(g.train_mask,\n",
    "                         batch_size=1024,\n",
    "                         shuffle=True)\n"
   ]
  },
  {
   "cell_type": "code",
   "execution_count": 57,
   "metadata": {},
   "outputs": [
    {
     "name": "stdout",
     "output_type": "stream",
     "text": [
      "tensor(111274, device='cuda:0') torch.Size([2, 111276])\n"
     ]
    }
   ],
   "source": [
    "for l in link_loader:\n",
    "    print(l.max(), g.pos_samples.shape)\n",
    "    pos_samples = g.pos\n",
    "    break"
   ]
  },
  {
   "cell_type": "code",
   "execution_count": 9,
   "metadata": {},
   "outputs": [],
   "source": [
    "with torch.no_grad():\n",
    "    node_embeddings = model.encode_inputs(tokens) "
   ]
  },
  {
   "cell_type": "code",
   "execution_count": 18,
   "metadata": {},
   "outputs": [],
   "source": [
    "torch.save(node_embeddings, 'data/input_encodings.pt')"
   ]
  },
  {
   "cell_type": "code",
   "execution_count": 6,
   "metadata": {},
   "outputs": [],
   "source": [
    "node_embeddings = model.load_input_encodings().to(device)"
   ]
  },
  {
   "cell_type": "code",
   "execution_count": 9,
   "metadata": {},
   "outputs": [
    {
     "data": {
      "text/plain": [
       "Data(edge_index=[2, 111276], edge_type=[111276], token_ids=[91294, 147], token_mask=[91294, 147], token_type_ids=[91294, 147])"
      ]
     },
     "execution_count": 9,
     "metadata": {},
     "output_type": "execute_result"
    }
   ],
   "source": []
  },
  {
   "cell_type": "markdown",
   "metadata": {},
   "source": [
    "# Evaluations"
   ]
  },
  {
   "cell_type": "code",
   "execution_count": 17,
   "metadata": {},
   "outputs": [],
   "source": [
    "import pandas as pd\n",
    "import numpy as np\n",
    "import matplotlib.pyplot as plt\n",
    "from sklearn.metrics import PrecisionRecallDisplay, f1_score, precision_score, recall_score\n",
    "from sklearn.preprocessing import binarize\n",
    "import torch\n",
    "from torch.nn.functional import softmax"
   ]
  },
  {
   "cell_type": "code",
   "execution_count": 178,
   "metadata": {},
   "outputs": [
    {
     "data": {
      "text/html": [
       "<div>\n",
       "<style scoped>\n",
       "    .dataframe tbody tr th:only-of-type {\n",
       "        vertical-align: middle;\n",
       "    }\n",
       "\n",
       "    .dataframe tbody tr th {\n",
       "        vertical-align: top;\n",
       "    }\n",
       "\n",
       "    .dataframe thead th {\n",
       "        text-align: right;\n",
       "    }\n",
       "</style>\n",
       "<table border=\"1\" class=\"dataframe\">\n",
       "  <thead>\n",
       "    <tr style=\"text-align: right;\">\n",
       "      <th></th>\n",
       "      <th>Unnamed: 0</th>\n",
       "      <th>y_true</th>\n",
       "      <th>y_pred_neg</th>\n",
       "      <th>y_pred_hyp</th>\n",
       "      <th>y_pred_hol</th>\n",
       "      <th>y_pred</th>\n",
       "    </tr>\n",
       "  </thead>\n",
       "  <tbody>\n",
       "    <tr>\n",
       "      <th>0</th>\n",
       "      <td>0</td>\n",
       "      <td>2</td>\n",
       "      <td>0.124415</td>\n",
       "      <td>0.067224</td>\n",
       "      <td>0.808361</td>\n",
       "      <td>2</td>\n",
       "    </tr>\n",
       "    <tr>\n",
       "      <th>1</th>\n",
       "      <td>1</td>\n",
       "      <td>1</td>\n",
       "      <td>0.003523</td>\n",
       "      <td>0.905623</td>\n",
       "      <td>0.090853</td>\n",
       "      <td>1</td>\n",
       "    </tr>\n",
       "    <tr>\n",
       "      <th>2</th>\n",
       "      <td>2</td>\n",
       "      <td>1</td>\n",
       "      <td>0.000434</td>\n",
       "      <td>0.999456</td>\n",
       "      <td>0.000110</td>\n",
       "      <td>1</td>\n",
       "    </tr>\n",
       "    <tr>\n",
       "      <th>3</th>\n",
       "      <td>3</td>\n",
       "      <td>1</td>\n",
       "      <td>0.012003</td>\n",
       "      <td>0.968775</td>\n",
       "      <td>0.019222</td>\n",
       "      <td>1</td>\n",
       "    </tr>\n",
       "    <tr>\n",
       "      <th>4</th>\n",
       "      <td>4</td>\n",
       "      <td>1</td>\n",
       "      <td>0.229545</td>\n",
       "      <td>0.724221</td>\n",
       "      <td>0.046234</td>\n",
       "      <td>1</td>\n",
       "    </tr>\n",
       "  </tbody>\n",
       "</table>\n",
       "</div>"
      ],
      "text/plain": [
       "   Unnamed: 0  y_true  y_pred_neg  y_pred_hyp  y_pred_hol  y_pred\n",
       "0           0       2    0.124415    0.067224    0.808361       2\n",
       "1           1       1    0.003523    0.905623    0.090853       1\n",
       "2           2       1    0.000434    0.999456    0.000110       1\n",
       "3           3       1    0.012003    0.968775    0.019222       1\n",
       "4           4       1    0.229545    0.724221    0.046234       1"
      ]
     },
     "execution_count": 178,
     "metadata": {},
     "output_type": "execute_result"
    }
   ],
   "source": [
    "experiment = 'multiclass4_cont2'\n",
    "res = pd.read_csv(f'{experiment}-results.csv')\n",
    "res['y_pred'] = np.argmax(res[['y_pred_neg', 'y_pred_hyp', 'y_pred_hol']], axis=1)\n",
    "res[['y_pred_neg', 'y_pred_hyp', 'y_pred_hol']] = res[['y_pred_neg', 'y_pred_hyp', 'y_pred_hol']].apply(lambda p: torch.softmax(torch.tensor(p.to_numpy()), dim=0).numpy(), axis=1, result_type='expand')\n",
    "res.head()"
   ]
  },
  {
   "cell_type": "code",
   "execution_count": 121,
   "metadata": {},
   "outputs": [
    {
     "data": {
      "image/png": "[encoded data removed]",
      "text/plain": [
       "<Figure size 640x480 with 1 Axes>"
      ]
     },
     "metadata": {},
     "output_type": "display_data"
    }
   ],
   "source": [
    "_, ax = plt.subplots()\n",
    "PrecisionRecallDisplay.from_predictions(res['y_true']==1, res['y_pred_hyp'], name='Hypernyms', ax=ax)\n",
    "PrecisionRecallDisplay.from_predictions(res['y_true']==2, res['y_pred_hol'], name='Holonyms', ax=ax)\n",
    "plt.show()"
   ]
  },
  {
   "cell_type": "code",
   "execution_count": 179,
   "metadata": {},
   "outputs": [
    {
     "data": {
      "image/png": "[encoded data removed]",
      "text/plain": [
       "<Figure size 640x480 with 1 Axes>"
      ]
     },
     "metadata": {},
     "output_type": "display_data"
    }
   ],
   "source": [
    "_, ax = plt.subplots()\n",
    "PrecisionRecallDisplay.from_predictions(res['y_true']==1, res['y_pred_hyp'], name='Hypernyms', ax=ax)\n",
    "PrecisionRecallDisplay.from_predictions(res['y_true']==2, res['y_pred_hol'], name='Holonyms', ax=ax)\n",
    "plt.show()"
   ]
  },
  {
   "cell_type": "code",
   "execution_count": 45,
   "metadata": {},
   "outputs": [
    {
     "data": {
      "image/png": "[encoded data removed]",
      "text/plain": [
       "<Figure size 640x480 with 1 Axes>"
      ]
     },
     "metadata": {},
     "output_type": "display_data"
    }
   ],
   "source": [
    "class_distribution = pd.DataFrame({'lab':['Hypernym', 'Holonym'], \n",
    "                                   'count': [(res['y_true']==1).sum(), (res['y_true']==2).sum()]})\n",
    "class_distribution.plot.bar(x='lab', y='count')\n",
    "plt.show()"
   ]
  },
  {
   "cell_type": "code",
   "execution_count": 180,
   "metadata": {},
   "outputs": [
    {
     "name": "stdout",
     "output_type": "stream",
     "text": [
      "Hypernyms: precision 0.8378733979825544, recall 0.9649792344819845, f1 0.8969456689011189\n",
      "Holonyms: precision 0.8405623691295244, recall 0.6331680937359171, f1 0.7222722015165146\n",
      "Macro: precision 0.8392178835560394, recall 0.7990736641089509, f1 0.8096089352088167\n"
     ]
    }
   ],
   "source": [
    "def precision_recall_f1(res, label):\n",
    "    y_true = res['y_true']==label         \n",
    "    pred = res['y_pred']==label\n",
    "    precision = precision_score(y_true, pred)\n",
    "    recall = recall_score(y_true, pred)\n",
    "    f1 = f1_score(y_true, pred)\n",
    "    return precision, recall, f1\n",
    "\n",
    "p, r, f1 = precision_recall_f1(res, 1)\n",
    "print(f'Hypernyms: precision {p}, recall {r}, f1 {f1}')\n",
    "\n",
    "p, r, f1 = precision_recall_f1(res, 2)\n",
    "print(f'Holonyms: precision {p}, recall {r}, f1 {f1}')\n",
    "\n",
    "p = precision_score(res['y_true'], res['y_pred'], average='macro', labels=[1,2])\n",
    "r = recall_score(res['y_true'], res['y_pred'], average='macro', labels=[1,2])\n",
    "f1 = f1_score(res['y_true'], res['y_pred'], average='macro', labels=[1,2])\n",
    "print(f'Macro: precision {p}, recall {r}, f1 {f1}')"
   ]
  },
  {
   "cell_type": "code",
   "execution_count": 176,
   "metadata": {},
   "outputs": [
    {
     "data": {
      "text/html": [
       "<div>\n",
       "<style scoped>\n",
       "    .dataframe tbody tr th:only-of-type {\n",
       "        vertical-align: middle;\n",
       "    }\n",
       "\n",
       "    .dataframe tbody tr th {\n",
       "        vertical-align: top;\n",
       "    }\n",
       "\n",
       "    .dataframe thead th {\n",
       "        text-align: right;\n",
       "    }\n",
       "</style>\n",
       "<table border=\"1\" class=\"dataframe\">\n",
       "  <thead>\n",
       "    <tr style=\"text-align: right;\">\n",
       "      <th></th>\n",
       "      <th>epoch</th>\n",
       "      <th>train loss</th>\n",
       "      <th>val loss</th>\n",
       "    </tr>\n",
       "  </thead>\n",
       "  <tbody>\n",
       "    <tr>\n",
       "      <th>0</th>\n",
       "      <td>0</td>\n",
       "      <td>1.088252</td>\n",
       "      <td>1.087249</td>\n",
       "    </tr>\n",
       "    <tr>\n",
       "      <th>1</th>\n",
       "      <td>1</td>\n",
       "      <td>1.087262</td>\n",
       "      <td>1.086217</td>\n",
       "    </tr>\n",
       "    <tr>\n",
       "      <th>2</th>\n",
       "      <td>2</td>\n",
       "      <td>1.086212</td>\n",
       "      <td>1.085174</td>\n",
       "    </tr>\n",
       "    <tr>\n",
       "      <th>3</th>\n",
       "      <td>3</td>\n",
       "      <td>1.085196</td>\n",
       "      <td>1.084111</td>\n",
       "    </tr>\n",
       "    <tr>\n",
       "      <th>4</th>\n",
       "      <td>4</td>\n",
       "      <td>1.084215</td>\n",
       "      <td>1.083025</td>\n",
       "    </tr>\n",
       "    <tr>\n",
       "      <th>...</th>\n",
       "      <td>...</td>\n",
       "      <td>...</td>\n",
       "      <td>...</td>\n",
       "    </tr>\n",
       "    <tr>\n",
       "      <th>2495</th>\n",
       "      <td>2492</td>\n",
       "      <td>0.118426</td>\n",
       "      <td>0.348299</td>\n",
       "    </tr>\n",
       "    <tr>\n",
       "      <th>2496</th>\n",
       "      <td>2493</td>\n",
       "      <td>0.119512</td>\n",
       "      <td>0.348787</td>\n",
       "    </tr>\n",
       "    <tr>\n",
       "      <th>2497</th>\n",
       "      <td>2494</td>\n",
       "      <td>0.118458</td>\n",
       "      <td>0.346233</td>\n",
       "    </tr>\n",
       "    <tr>\n",
       "      <th>2498</th>\n",
       "      <td>2495</td>\n",
       "      <td>0.118042</td>\n",
       "      <td>0.345175</td>\n",
       "    </tr>\n",
       "    <tr>\n",
       "      <th>2499</th>\n",
       "      <td>2496</td>\n",
       "      <td>0.119045</td>\n",
       "      <td>0.344905</td>\n",
       "    </tr>\n",
       "  </tbody>\n",
       "</table>\n",
       "<p>2500 rows × 3 columns</p>\n",
       "</div>"
      ],
      "text/plain": [
       "      epoch  train loss  val loss\n",
       "0         0    1.088252  1.087249\n",
       "1         1    1.087262  1.086217\n",
       "2         2    1.086212  1.085174\n",
       "3         3    1.085196  1.084111\n",
       "4         4    1.084215  1.083025\n",
       "...     ...         ...       ...\n",
       "2495   2492    0.118426  0.348299\n",
       "2496   2493    0.119512  0.348787\n",
       "2497   2494    0.118458  0.346233\n",
       "2498   2495    0.118042  0.345175\n",
       "2499   2496    0.119045  0.344905\n",
       "\n",
       "[2500 rows x 3 columns]"
      ]
     },
     "execution_count": 176,
     "metadata": {},
     "output_type": "execute_result"
    }
   ],
   "source": [
    "base = 'multiclass4'\n",
    "max_cont = 3\n",
    "experiments = [f'{base}', f'{base}_cont'] + [f'{base}_cont{n}' for n in range(1,max_cont+1)]\n",
    "# experiments = None\n",
    "if experiments is None:\n",
    "    train = pd.read_csv(f'{experiment}-train_losses.csv')\n",
    "else:\n",
    "    train = pd.read_csv(f'{experiments[0]}-train_losses.csv')\n",
    "    for exp in experiments[1:]:\n",
    "        partial = pd.read_csv(f'{exp}-train_losses.csv')\n",
    "        partial['epoch'] = partial['epoch'] + train['epoch'].tail(1).item()\n",
    "        epoch = np.concatenate([train['epoch'], partial['epoch']])\n",
    "        train_loss = np.concatenate([train['train loss'], partial['train loss']])\n",
    "        val_loss = np.concatenate([train['val loss'], partial['val loss']])\n",
    "        train = pd.DataFrame({'epoch':epoch, \n",
    "                              'train loss': train_loss,\n",
    "                              'val loss': val_loss})\n",
    "train"
   ]
  },
  {
   "cell_type": "code",
   "execution_count": 162,
   "metadata": {},
   "outputs": [
    {
     "data": {
      "image/png": "[encoded data removed]",
      "text/plain": [
       "<Figure size 640x480 with 1 Axes>"
      ]
     },
     "metadata": {},
     "output_type": "display_data"
    }
   ],
   "source": [
    "plt.plot(train['epoch'], train['train loss'])\n",
    "plt.plot(train['epoch'], train['val loss'])\n",
    "plt.vlines([150, 1300], 0.15, 1.1, linestyles='--')\n",
    "plt.plot(train['epoch'], 0.20*np.ones(len(train['epoch'])), '--')\n",
    "plt.plot(train['epoch'], 0.4*np.ones(len(train['epoch'])), '--')\n",
    "plt.show()"
   ]
  },
  {
   "cell_type": "code",
   "execution_count": 181,
   "metadata": {},
   "outputs": [
    {
     "data": {
      "image/png": "[encoded data removed]",
      "text/plain": [
       "<Figure size 640x480 with 1 Axes>"
      ]
     },
     "metadata": {},
     "output_type": "display_data"
    }
   ],
   "source": [
    "plt.plot(train['epoch'], train['train loss'])\n",
    "plt.plot(train['epoch'], train['val loss'])\n",
    "plt.plot(train['epoch'], 0.34*np.ones(len(train['epoch'])), '--')\n",
    "# plt.vlines([150, 300], 0.21, 1.1)\n",
    "plt.show()"
   ]
  }
 ],
 "metadata": {
  "kernelspec": {
   "display_name": "nlp",
   "language": "python",
   "name": "python3"
  },
  "language_info": {
   "codemirror_mode": {
    "name": "ipython",
    "version": 3
   },
   "file_extension": ".py",
   "mimetype": "text/x-python",
   "name": "python",
   "nbconvert_exporter": "python",
   "pygments_lexer": "ipython3",
   "version": "3.12.4"
  }
 },
 "nbformat": 4,
 "nbformat_minor": 2
}
