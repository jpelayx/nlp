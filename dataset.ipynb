{
 "cells": [
  {
   "cell_type": "code",
   "execution_count": 1,
   "metadata": {},
   "outputs": [],
   "source": [
    "import pandas as pd"
   ]
  },
  {
   "cell_type": "code",
   "execution_count": 2,
   "metadata": {},
   "outputs": [
    {
     "data": {
      "text/html": [
       "<div>\n",
       "<style scoped>\n",
       "    .dataframe tbody tr th:only-of-type {\n",
       "        vertical-align: middle;\n",
       "    }\n",
       "\n",
       "    .dataframe tbody tr th {\n",
       "        vertical-align: top;\n",
       "    }\n",
       "\n",
       "    .dataframe thead th {\n",
       "        text-align: right;\n",
       "    }\n",
       "</style>\n",
       "<table border=\"1\" class=\"dataframe\">\n",
       "  <thead>\n",
       "    <tr style=\"text-align: right;\">\n",
       "      <th></th>\n",
       "      <th>Definição_Synset</th>\n",
       "      <th>ID_Synset</th>\n",
       "      <th>Definição_Relacionada</th>\n",
       "      <th>ID_Relacionada</th>\n",
       "      <th>Relacao</th>\n",
       "    </tr>\n",
       "  </thead>\n",
       "  <tbody>\n",
       "    <tr>\n",
       "      <th>0</th>\n",
       "      <td>an entity that has physical existence</td>\n",
       "      <td>physical_entity.n.01</td>\n",
       "      <td>that which is perceived or known or inferred t...</td>\n",
       "      <td>entity.n.01</td>\n",
       "      <td>Hypernyms</td>\n",
       "    </tr>\n",
       "    <tr>\n",
       "      <th>1</th>\n",
       "      <td>a general concept formed by extracting common ...</td>\n",
       "      <td>abstraction.n.06</td>\n",
       "      <td>that which is perceived or known or inferred t...</td>\n",
       "      <td>entity.n.01</td>\n",
       "      <td>Hypernyms</td>\n",
       "    </tr>\n",
       "    <tr>\n",
       "      <th>2</th>\n",
       "      <td>a separate and self-contained entity</td>\n",
       "      <td>thing.n.12</td>\n",
       "      <td>an entity that has physical existence</td>\n",
       "      <td>physical_entity.n.01</td>\n",
       "      <td>Hypernyms</td>\n",
       "    </tr>\n",
       "    <tr>\n",
       "      <th>3</th>\n",
       "      <td>a tangible and visible entity; an entity that ...</td>\n",
       "      <td>object.n.01</td>\n",
       "      <td>an entity that has physical existence</td>\n",
       "      <td>physical_entity.n.01</td>\n",
       "      <td>Hypernyms</td>\n",
       "    </tr>\n",
       "    <tr>\n",
       "      <th>4</th>\n",
       "      <td>an assemblage of parts that is regarded as a s...</td>\n",
       "      <td>whole.n.02</td>\n",
       "      <td>a tangible and visible entity; an entity that ...</td>\n",
       "      <td>object.n.01</td>\n",
       "      <td>Hypernyms</td>\n",
       "    </tr>\n",
       "    <tr>\n",
       "      <th>...</th>\n",
       "      <td>...</td>\n",
       "      <td>...</td>\n",
       "      <td>...</td>\n",
       "      <td>...</td>\n",
       "      <td>...</td>\n",
       "    </tr>\n",
       "    <tr>\n",
       "      <th>111271</th>\n",
       "      <td>become empty of water</td>\n",
       "      <td>run_dry.v.01</td>\n",
       "      <td>become dry or drier</td>\n",
       "      <td>dry.v.02</td>\n",
       "      <td>Hypernyms</td>\n",
       "    </tr>\n",
       "    <tr>\n",
       "      <th>111272</th>\n",
       "      <td>get foggy</td>\n",
       "      <td>fog_up.v.01</td>\n",
       "      <td>make overcast or cloudy</td>\n",
       "      <td>overcast.v.01</td>\n",
       "      <td>Hypernyms</td>\n",
       "    </tr>\n",
       "    <tr>\n",
       "      <th>111273</th>\n",
       "      <td>burn to charcoal</td>\n",
       "      <td>char.v.01</td>\n",
       "      <td>cause to burn or combust</td>\n",
       "      <td>burn.v.05</td>\n",
       "      <td>Hypernyms</td>\n",
       "    </tr>\n",
       "    <tr>\n",
       "      <th>111274</th>\n",
       "      <td>become hazy, dull, or cloudy</td>\n",
       "      <td>haze.v.01</td>\n",
       "      <td>make overcast or cloudy</td>\n",
       "      <td>overcast.v.01</td>\n",
       "      <td>Hypernyms</td>\n",
       "    </tr>\n",
       "    <tr>\n",
       "      <th>111275</th>\n",
       "      <td>cause to burn rapidly and with great intensity</td>\n",
       "      <td>deflagrate.v.01</td>\n",
       "      <td>cause to burn or combust</td>\n",
       "      <td>burn.v.05</td>\n",
       "      <td>Hypernyms</td>\n",
       "    </tr>\n",
       "  </tbody>\n",
       "</table>\n",
       "<p>111276 rows × 5 columns</p>\n",
       "</div>"
      ],
      "text/plain": [
       "                                         Definição_Synset  \\\n",
       "0                   an entity that has physical existence   \n",
       "1       a general concept formed by extracting common ...   \n",
       "2                    a separate and self-contained entity   \n",
       "3       a tangible and visible entity; an entity that ...   \n",
       "4       an assemblage of parts that is regarded as a s...   \n",
       "...                                                   ...   \n",
       "111271                              become empty of water   \n",
       "111272                                          get foggy   \n",
       "111273                                   burn to charcoal   \n",
       "111274                       become hazy, dull, or cloudy   \n",
       "111275     cause to burn rapidly and with great intensity   \n",
       "\n",
       "                   ID_Synset  \\\n",
       "0       physical_entity.n.01   \n",
       "1           abstraction.n.06   \n",
       "2                 thing.n.12   \n",
       "3                object.n.01   \n",
       "4                 whole.n.02   \n",
       "...                      ...   \n",
       "111271          run_dry.v.01   \n",
       "111272           fog_up.v.01   \n",
       "111273             char.v.01   \n",
       "111274             haze.v.01   \n",
       "111275       deflagrate.v.01   \n",
       "\n",
       "                                    Definição_Relacionada  \\\n",
       "0       that which is perceived or known or inferred t...   \n",
       "1       that which is perceived or known or inferred t...   \n",
       "2                   an entity that has physical existence   \n",
       "3                   an entity that has physical existence   \n",
       "4       a tangible and visible entity; an entity that ...   \n",
       "...                                                   ...   \n",
       "111271                                become dry or drier   \n",
       "111272                            make overcast or cloudy   \n",
       "111273                           cause to burn or combust   \n",
       "111274                            make overcast or cloudy   \n",
       "111275                           cause to burn or combust   \n",
       "\n",
       "              ID_Relacionada    Relacao  \n",
       "0                entity.n.01  Hypernyms  \n",
       "1                entity.n.01  Hypernyms  \n",
       "2       physical_entity.n.01  Hypernyms  \n",
       "3       physical_entity.n.01  Hypernyms  \n",
       "4                object.n.01  Hypernyms  \n",
       "...                      ...        ...  \n",
       "111271              dry.v.02  Hypernyms  \n",
       "111272         overcast.v.01  Hypernyms  \n",
       "111273             burn.v.05  Hypernyms  \n",
       "111274         overcast.v.01  Hypernyms  \n",
       "111275             burn.v.05  Hypernyms  \n",
       "\n",
       "[111276 rows x 5 columns]"
      ]
     },
     "execution_count": 2,
     "metadata": {},
     "output_type": "execute_result"
    }
   ],
   "source": [
    "data = pd.read_csv('direct_relations.csv')\n",
    "data"
   ]
  },
  {
   "cell_type": "code",
   "execution_count": 3,
   "metadata": {},
   "outputs": [
    {
     "data": {
      "text/plain": [
       "Relacao\n",
       "Hypernyms    89089\n",
       "Holonyms     22187\n",
       "Name: count, dtype: int64"
      ]
     },
     "execution_count": 3,
     "metadata": {},
     "output_type": "execute_result"
    }
   ],
   "source": [
    "data['Relacao'].value_counts()"
   ]
  },
  {
   "cell_type": "code",
   "execution_count": 7,
   "metadata": {},
   "outputs": [
    {
     "data": {
      "text/plain": [
       "'the unlimited expanse in which everything is located'"
      ]
     },
     "execution_count": 7,
     "metadata": {},
     "output_type": "execute_result"
    }
   ],
   "source": [
    "data.iloc[41]['Definição_Relacionada']"
   ]
  }
 ],
 "metadata": {
  "kernelspec": {
   "display_name": "Python 3",
   "language": "python",
   "name": "python3"
  },
  "language_info": {
   "codemirror_mode": {
    "name": "ipython",
    "version": 3
   },
   "file_extension": ".py",
   "mimetype": "text/x-python",
   "name": "python",
   "nbconvert_exporter": "python",
   "pygments_lexer": "ipython3",
   "version": "3.10.12"
  }
 },
 "nbformat": 4,
 "nbformat_minor": 2
}
