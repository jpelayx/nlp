{
 "cells": [
  {
   "cell_type": "code",
   "execution_count": 1,
   "metadata": {},
   "outputs": [],
   "source": [
    "import pandas as pd\n",
    "import numpy as np\n",
    "\n",
    "import torch\n",
    "from transformers import BertTokenizer, BertConfig, BertModel\n",
    "\n",
    "device = 'cuda' if torch.cuda.is_available() else 'cpu'"
   ]
  },
  {
   "cell_type": "code",
   "execution_count": 2,
   "metadata": {},
   "outputs": [
    {
     "data": {
      "text/plain": [
       "Data(edge_index=[2, 111276], edge_type=[111276], token_ids=[91294, 138], token_mask=[91294, 138], token_type_ids=[91294, 138])"
      ]
     },
     "execution_count": 2,
     "metadata": {},
     "output_type": "execute_result"
    }
   ],
   "source": [
    "from dataset import RelationsDS\n",
    "\n",
    "data = RelationsDS(root='./data').to(device=device)\n",
    "data[0]"
   ]
  },
  {
   "cell_type": "markdown",
   "metadata": {},
   "source": [
    "# BERT encoder"
   ]
  },
  {
   "cell_type": "code",
   "execution_count": 16,
   "metadata": {},
   "outputs": [
    {
     "data": {
      "text/plain": [
       "torch.Size([91294, 3, 138])"
      ]
     },
     "execution_count": 16,
     "metadata": {},
     "output_type": "execute_result"
    }
   ],
   "source": [
    "from torch.utils.data import DataLoader\n",
    "\n",
    "g = data[0].to(device)\n",
    "tokens = torch.stack([g.token_ids, g.token_mask, g.token_type_ids], dim=1)\n",
    "tokens.shape"
   ]
  },
  {
   "cell_type": "code",
   "execution_count": 11,
   "metadata": {},
   "outputs": [],
   "source": [
    "model = BertModel.from_pretrained('bert-base-uncased').to(device)"
   ]
  },
  {
   "cell_type": "code",
   "execution_count": 36,
   "metadata": {},
   "outputs": [
    {
     "data": {
      "text/plain": [
       "(45647.0, 6521.0)"
      ]
     },
     "execution_count": 36,
     "metadata": {},
     "output_type": "execute_result"
    }
   ],
   "source": [
    "91294/2, 45647/7"
   ]
  },
  {
   "cell_type": "code",
   "execution_count": 42,
   "metadata": {},
   "outputs": [
    {
     "name": "stdout",
     "output_type": "stream",
     "text": [
      "batch 0/90.0\n",
      "batch 10/90.0\n"
     ]
    },
    {
     "ename": "KeyboardInterrupt",
     "evalue": "",
     "output_type": "error",
     "traceback": [
      "\u001b[0;31m---------------------------------------------------------------------------\u001b[0m",
      "\u001b[0;31mKeyboardInterrupt\u001b[0m                         Traceback (most recent call last)",
      "Cell \u001b[0;32mIn[42], line 18\u001b[0m\n\u001b[1;32m     16\u001b[0m \u001b[38;5;28;01mif\u001b[39;00m batch_end \u001b[38;5;241m>\u001b[39m tokens\u001b[38;5;241m.\u001b[39mshape[\u001b[38;5;241m0\u001b[39m]\u001b[38;5;241m-\u001b[39m\u001b[38;5;241m1\u001b[39m:\n\u001b[1;32m     17\u001b[0m     batch_end \u001b[38;5;241m=\u001b[39m tokens\u001b[38;5;241m.\u001b[39mshape[\u001b[38;5;241m0\u001b[39m]\u001b[38;5;241m-\u001b[39m\u001b[38;5;241m1\u001b[39m\n\u001b[0;32m---> 18\u001b[0m x[batch_start:batch_end,:] \u001b[38;5;241m=\u001b[39m batch_encoding\n",
      "\u001b[0;31mKeyboardInterrupt\u001b[0m: "
     ]
    }
   ],
   "source": [
    "batch_size = 1024\n",
    "token_loader = DataLoader(tokens, batch_size=batch_size)\n",
    "\n",
    "encoding_size = 768\n",
    "x = torch.zeros((tokens.shape[0], encoding_size), dtype=torch.float)\n",
    "\n",
    "with torch.no_grad():\n",
    "    for batch_num, token_batch in enumerate(token_loader):\n",
    "        if batch_num % 10*batch_size == 0:\n",
    "            print(f'batch {batch_num}/{np.ceil(tokens.shape[0]/batch_size)}')\n",
    "        batch_encoding = model(token_batch[:,0,:],\n",
    "                               token_batch[:,1,:],\n",
    "                               token_batch[:,2,:]).last_hidden_state[:,0,:]\n",
    "        batch_start = batch_num * batch_size\n",
    "        batch_end = (batch_num+1)*batch_size\n",
    "        if batch_end > tokens.shape[0]-1:\n",
    "            batch_end = tokens.shape[0]-1\n",
    "        x[batch_start:batch_end,:] = batch_encoding"
   ]
  },
  {
   "cell_type": "code",
   "execution_count": 7,
   "metadata": {},
   "outputs": [
    {
     "name": "stdout",
     "output_type": "stream",
     "text": [
      "torch.Size([1, 138]) torch.Size([1, 138]) torch.Size([1, 138])\n"
     ]
    }
   ],
   "source": [
    "with torch.no_grad():\n",
    "    idx = 0\n",
    "    id = g.token_ids[idx].unsqueeze(0)\n",
    "    mask = g.token_mask[idx].unsqueeze(0)\n",
    "    type_ids = g.token_type_ids[idx].unsqueeze(0)\n",
    "    print(id.shape, mask.shape, type_ids.shape)\n",
    "\n",
    "    encoding = model(id, mask, type_ids)"
   ]
  },
  {
   "cell_type": "code",
   "execution_count": 5,
   "metadata": {},
   "outputs": [
    {
     "name": "stdout",
     "output_type": "stream",
     "text": [
      "torch.Size([10, 138]) torch.Size([10, 138]) torch.Size([10, 138])\n"
     ]
    }
   ],
   "source": [
    "with torch.no_grad():\n",
    "    num = 10\n",
    "    id = g.token_ids[:num]\n",
    "    mask = g.token_mask[:num]\n",
    "    type_ids = g.token_type_ids[:num]\n",
    "    print(id.shape, mask.shape, type_ids.shape)\n",
    "\n",
    "    encoding = model(id, mask, type_ids)"
   ]
  },
  {
   "cell_type": "code",
   "execution_count": 10,
   "metadata": {},
   "outputs": [
    {
     "name": "stdout",
     "output_type": "stream",
     "text": [
      "torch.Size([10, 768]) <class 'torch.Tensor'>\n",
      "tensor(-0.0102, device='cuda:0') tensor(0.5358, device='cuda:0')\n"
     ]
    }
   ],
   "source": [
    "lhs = encoding.last_hidden_state\n",
    "lhs = lhs[:, 0, :]\n",
    "lhs = lhs.flatten(start_dim=1)\n",
    "print(lhs.shape, type(lhs))\n",
    "print(lhs.mean(), lhs.std())"
   ]
  },
  {
   "cell_type": "markdown",
   "metadata": {},
   "source": [
    "# Model\n",
    "\n",
    "adapted from [Online Link Prediction with Graph Neural Networks](https://medium.com/stanford-cs224w/online-link-prediction-with-graph-neural-networks-46c1054f2aa4)"
   ]
  },
  {
   "cell_type": "code",
   "execution_count": 3,
   "metadata": {},
   "outputs": [],
   "source": [
    "from model import Model, LinkPredictor"
   ]
  },
  {
   "cell_type": "code",
   "execution_count": 4,
   "metadata": {},
   "outputs": [],
   "source": [
    "g = data[0].to(device)\n",
    "tokens = torch.stack([g.token_ids, g.token_mask, g.token_type_ids], dim=1)\n",
    "\n",
    "model = Model(input_dim=768,\n",
    "              hidden_dim=256,\n",
    "              output_dim=256,\n",
    "              num_layers=2     ).to(device)\n",
    "link_pred = LinkPredictor(input_dim=256, \n",
    "                          hidden_dim=128,\n",
    "                          output_dim=1,\n",
    "                          num_layers=3  ).to(device)"
   ]
  },
  {
   "cell_type": "code",
   "execution_count": 9,
   "metadata": {},
   "outputs": [],
   "source": [
    "with torch.no_grad():\n",
    "    node_embeddings = model.encode_inputs(tokens) "
   ]
  },
  {
   "cell_type": "code",
   "execution_count": 18,
   "metadata": {},
   "outputs": [],
   "source": [
    "torch.save(node_embeddings, 'data/input_encodings.pt')"
   ]
  },
  {
   "cell_type": "code",
   "execution_count": 5,
   "metadata": {},
   "outputs": [],
   "source": [
    "node_embeddings = model.load_input_encodings().to(device)\n",
    "emb = model(node_embeddings, g.edge_index)"
   ]
  },
  {
   "cell_type": "code",
   "execution_count": 10,
   "metadata": {},
   "outputs": [
    {
     "data": {
      "text/plain": [
       "tensor([0.5217], device='cuda:0', grad_fn=<SigmoidBackward0>)"
      ]
     },
     "execution_count": 10,
     "metadata": {},
     "output_type": "execute_result"
    }
   ],
   "source": [
    "pred = link_pred(emb[0], emb[1])\n",
    "pred\n"
   ]
  }
 ],
 "metadata": {
  "kernelspec": {
   "display_name": "nlp",
   "language": "python",
   "name": "python3"
  },
  "language_info": {
   "codemirror_mode": {
    "name": "ipython",
    "version": 3
   },
   "file_extension": ".py",
   "mimetype": "text/x-python",
   "name": "python",
   "nbconvert_exporter": "python",
   "pygments_lexer": "ipython3",
   "version": "3.12.4"
  }
 },
 "nbformat": 4,
 "nbformat_minor": 2
}
