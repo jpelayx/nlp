{
 "cells": [
  {
   "cell_type": "code",
   "execution_count": 5,
   "metadata": {},
   "outputs": [],
   "source": [
    "import pandas as pd\n",
    "import numpy as np"
   ]
  },
  {
   "cell_type": "code",
   "execution_count": 6,
   "metadata": {},
   "outputs": [
    {
     "data": {
      "text/html": [
       "<div>\n",
       "<style scoped>\n",
       "    .dataframe tbody tr th:only-of-type {\n",
       "        vertical-align: middle;\n",
       "    }\n",
       "\n",
       "    .dataframe tbody tr th {\n",
       "        vertical-align: top;\n",
       "    }\n",
       "\n",
       "    .dataframe thead th {\n",
       "        text-align: right;\n",
       "    }\n",
       "</style>\n",
       "<table border=\"1\" class=\"dataframe\">\n",
       "  <thead>\n",
       "    <tr style=\"text-align: right;\">\n",
       "      <th></th>\n",
       "      <th>Definição_Synset</th>\n",
       "      <th>ID_Synset</th>\n",
       "      <th>Definição_Relacionada</th>\n",
       "      <th>ID_Relacionada</th>\n",
       "      <th>Relacao</th>\n",
       "    </tr>\n",
       "  </thead>\n",
       "  <tbody>\n",
       "    <tr>\n",
       "      <th>0</th>\n",
       "      <td>an entity that has physical existence</td>\n",
       "      <td>physical_entity.n.01</td>\n",
       "      <td>that which is perceived or known or inferred t...</td>\n",
       "      <td>entity.n.01</td>\n",
       "      <td>Hypernyms</td>\n",
       "    </tr>\n",
       "    <tr>\n",
       "      <th>1</th>\n",
       "      <td>a general concept formed by extracting common ...</td>\n",
       "      <td>abstraction.n.06</td>\n",
       "      <td>that which is perceived or known or inferred t...</td>\n",
       "      <td>entity.n.01</td>\n",
       "      <td>Hypernyms</td>\n",
       "    </tr>\n",
       "    <tr>\n",
       "      <th>2</th>\n",
       "      <td>a separate and self-contained entity</td>\n",
       "      <td>thing.n.12</td>\n",
       "      <td>an entity that has physical existence</td>\n",
       "      <td>physical_entity.n.01</td>\n",
       "      <td>Hypernyms</td>\n",
       "    </tr>\n",
       "    <tr>\n",
       "      <th>3</th>\n",
       "      <td>a tangible and visible entity; an entity that ...</td>\n",
       "      <td>object.n.01</td>\n",
       "      <td>an entity that has physical existence</td>\n",
       "      <td>physical_entity.n.01</td>\n",
       "      <td>Hypernyms</td>\n",
       "    </tr>\n",
       "    <tr>\n",
       "      <th>4</th>\n",
       "      <td>an assemblage of parts that is regarded as a s...</td>\n",
       "      <td>whole.n.02</td>\n",
       "      <td>a tangible and visible entity; an entity that ...</td>\n",
       "      <td>object.n.01</td>\n",
       "      <td>Hypernyms</td>\n",
       "    </tr>\n",
       "    <tr>\n",
       "      <th>...</th>\n",
       "      <td>...</td>\n",
       "      <td>...</td>\n",
       "      <td>...</td>\n",
       "      <td>...</td>\n",
       "      <td>...</td>\n",
       "    </tr>\n",
       "    <tr>\n",
       "      <th>111271</th>\n",
       "      <td>become empty of water</td>\n",
       "      <td>run_dry.v.01</td>\n",
       "      <td>become dry or drier</td>\n",
       "      <td>dry.v.02</td>\n",
       "      <td>Hypernyms</td>\n",
       "    </tr>\n",
       "    <tr>\n",
       "      <th>111272</th>\n",
       "      <td>get foggy</td>\n",
       "      <td>fog_up.v.01</td>\n",
       "      <td>make overcast or cloudy</td>\n",
       "      <td>overcast.v.01</td>\n",
       "      <td>Hypernyms</td>\n",
       "    </tr>\n",
       "    <tr>\n",
       "      <th>111273</th>\n",
       "      <td>burn to charcoal</td>\n",
       "      <td>char.v.01</td>\n",
       "      <td>cause to burn or combust</td>\n",
       "      <td>burn.v.05</td>\n",
       "      <td>Hypernyms</td>\n",
       "    </tr>\n",
       "    <tr>\n",
       "      <th>111274</th>\n",
       "      <td>become hazy, dull, or cloudy</td>\n",
       "      <td>haze.v.01</td>\n",
       "      <td>make overcast or cloudy</td>\n",
       "      <td>overcast.v.01</td>\n",
       "      <td>Hypernyms</td>\n",
       "    </tr>\n",
       "    <tr>\n",
       "      <th>111275</th>\n",
       "      <td>cause to burn rapidly and with great intensity</td>\n",
       "      <td>deflagrate.v.01</td>\n",
       "      <td>cause to burn or combust</td>\n",
       "      <td>burn.v.05</td>\n",
       "      <td>Hypernyms</td>\n",
       "    </tr>\n",
       "  </tbody>\n",
       "</table>\n",
       "<p>111276 rows × 5 columns</p>\n",
       "</div>"
      ],
      "text/plain": [
       "                                         Definição_Synset  ...    Relacao\n",
       "0                   an entity that has physical existence  ...  Hypernyms\n",
       "1       a general concept formed by extracting common ...  ...  Hypernyms\n",
       "2                    a separate and self-contained entity  ...  Hypernyms\n",
       "3       a tangible and visible entity; an entity that ...  ...  Hypernyms\n",
       "4       an assemblage of parts that is regarded as a s...  ...  Hypernyms\n",
       "...                                                   ...  ...        ...\n",
       "111271                              become empty of water  ...  Hypernyms\n",
       "111272                                          get foggy  ...  Hypernyms\n",
       "111273                                   burn to charcoal  ...  Hypernyms\n",
       "111274                       become hazy, dull, or cloudy  ...  Hypernyms\n",
       "111275     cause to burn rapidly and with great intensity  ...  Hypernyms\n",
       "\n",
       "[111276 rows x 5 columns]"
      ]
     },
     "execution_count": 6,
     "metadata": {},
     "output_type": "execute_result"
    }
   ],
   "source": [
    "data = pd.read_csv('data/direct_relations.csv')\n",
    "data"
   ]
  },
  {
   "cell_type": "code",
   "execution_count": 3,
   "metadata": {},
   "outputs": [
    {
     "data": {
      "text/plain": [
       "Relacao\n",
       "Hypernyms    89089\n",
       "Holonyms     22187\n",
       "Name: count, dtype: int64"
      ]
     },
     "execution_count": 3,
     "metadata": {},
     "output_type": "execute_result"
    }
   ],
   "source": [
    "data['Relacao'].value_counts()"
   ]
  },
  {
   "cell_type": "code",
   "execution_count": 3,
   "metadata": {},
   "outputs": [
    {
     "name": "stdout",
     "output_type": "stream",
     "text": [
      "91294 ['physical_entity.n.01' 'abstraction.n.06' 'thing.n.12' ... 'burn.v.05'\n",
      " 'absorb.v.06' 'blow.v.02']\n"
     ]
    }
   ],
   "source": [
    "entities = pd.concat([data['ID_Synset'], data['ID_Relacionada']]).unique()\n",
    "print(entities.shape[0], entities)\n",
    "\n",
    "mapping = {name : i for i, name in enumerate(entities)}"
   ]
  },
  {
   "cell_type": "code",
   "execution_count": 7,
   "metadata": {},
   "outputs": [
    {
     "data": {
      "text/plain": [
       "array(['an entity that has physical existence',\n",
       "       'a general concept formed by extracting common features from specific examples',\n",
       "       'a separate and self-contained entity', ...,\n",
       "       'cause to burn or combust', 'suck or take up or in',\n",
       "       'be blowing or storming'], dtype=object)"
      ]
     },
     "execution_count": 7,
     "metadata": {},
     "output_type": "execute_result"
    }
   ],
   "source": [
    "definitions = pd.concat([data['Definição_Synset'],\n",
    "                         data['Definição_Relacionada']]).unique()\n",
    "definitions"
   ]
  },
  {
   "cell_type": "code",
   "execution_count": 5,
   "metadata": {},
   "outputs": [
    {
     "data": {
      "text/plain": [
       "(2, 111276)"
      ]
     },
     "execution_count": 5,
     "metadata": {},
     "output_type": "execute_result"
    }
   ],
   "source": [
    "edge_index_i =  data['ID_Synset'].map(mapping).to_numpy()\n",
    "edge_index_j =  data['ID_Relacionada'].map(mapping).to_numpy()\n",
    "\n",
    "edge_index = np.stack([edge_index_i, edge_index_j])\n",
    "edge_index.shape"
   ]
  },
  {
   "cell_type": "code",
   "execution_count": 6,
   "metadata": {},
   "outputs": [
    {
     "data": {
      "text/plain": [
       "(111276,)"
      ]
     },
     "execution_count": 6,
     "metadata": {},
     "output_type": "execute_result"
    }
   ],
   "source": [
    "edge2id = {\n",
    "    'Hypernyms': 0,\n",
    "    'Holonyms': 1\n",
    "}\n",
    "edge_attr = data['Relacao'].map(edge2id).to_numpy()\n",
    "edge_attr.shape"
   ]
  },
  {
   "cell_type": "markdown",
   "metadata": {},
   "source": [
    "### Tokenizing definitions "
   ]
  },
  {
   "cell_type": "code",
   "execution_count": 2,
   "metadata": {},
   "outputs": [],
   "source": [
    "import torch\n",
    "from transformers import BertTokenizer, BertConfig, BertModel"
   ]
  },
  {
   "cell_type": "code",
   "execution_count": 8,
   "metadata": {},
   "outputs": [
    {
     "data": {
      "text/plain": [
       "array(['an entity that has physical existence',\n",
       "       'a general concept formed by extracting common features from specific examples',\n",
       "       'a separate and self-contained entity', ...,\n",
       "       'cause to burn or combust', 'suck or take up or in',\n",
       "       'be blowing or storming'], dtype=object)"
      ]
     },
     "execution_count": 8,
     "metadata": {},
     "output_type": "execute_result"
    }
   ],
   "source": [
    "definitions"
   ]
  },
  {
   "cell_type": "code",
   "execution_count": 8,
   "metadata": {},
   "outputs": [],
   "source": [
    "tokenizer = BertTokenizer.from_pretrained('bert-base-uncased') "
   ]
  },
  {
   "cell_type": "code",
   "execution_count": 29,
   "metadata": {},
   "outputs": [],
   "source": [
    "tokens = tokenizer(list(definitions), padding=True, return_tensors='pt')"
   ]
  },
  {
   "cell_type": "code",
   "execution_count": 30,
   "metadata": {},
   "outputs": [
    {
     "data": {
      "text/plain": [
       "{'input_ids': tensor([[  101,  2019,  9178,  ...,     0,     0,     0],\n",
       "        [  101,  1037,  2236,  ...,     0,     0,     0],\n",
       "        [  101,  1037,  3584,  ...,     0,     0,     0],\n",
       "        ...,\n",
       "        [  101,  3426,  2000,  ...,     0,     0,     0],\n",
       "        [  101, 11891,  2030,  ...,     0,     0,     0],\n",
       "        [  101,  2022, 11221,  ...,     0,     0,     0]]), 'token_type_ids': tensor([[0, 0, 0,  ..., 0, 0, 0],\n",
       "        [0, 0, 0,  ..., 0, 0, 0],\n",
       "        [0, 0, 0,  ..., 0, 0, 0],\n",
       "        ...,\n",
       "        [0, 0, 0,  ..., 0, 0, 0],\n",
       "        [0, 0, 0,  ..., 0, 0, 0],\n",
       "        [0, 0, 0,  ..., 0, 0, 0]]), 'attention_mask': tensor([[1, 1, 1,  ..., 0, 0, 0],\n",
       "        [1, 1, 1,  ..., 0, 0, 0],\n",
       "        [1, 1, 1,  ..., 0, 0, 0],\n",
       "        ...,\n",
       "        [1, 1, 1,  ..., 0, 0, 0],\n",
       "        [1, 1, 1,  ..., 0, 0, 0],\n",
       "        [1, 1, 1,  ..., 0, 0, 0]])}"
      ]
     },
     "execution_count": 30,
     "metadata": {},
     "output_type": "execute_result"
    }
   ],
   "source": [
    "tokens"
   ]
  },
  {
   "cell_type": "code",
   "execution_count": 31,
   "metadata": {},
   "outputs": [],
   "source": [
    "token_ids  = tokens.input_ids\n",
    "token_mask = tokens.attention_mask\n",
    "token_type_ids = tokens.token_type_ids"
   ]
  },
  {
   "cell_type": "markdown",
   "metadata": {},
   "source": [
    "## Dataset"
   ]
  },
  {
   "cell_type": "code",
   "execution_count": 1,
   "metadata": {},
   "outputs": [
    {
     "name": "stderr",
     "output_type": "stream",
     "text": [
      "/home/julia/miniconda3/envs/nlp/lib/python3.12/site-packages/torch/cuda/__init__.py:619: UserWarning: Can't initialize NVML\n",
      "  warnings.warn(\"Can't initialize NVML\")\n",
      "Processing...\n",
      "Done!\n"
     ]
    },
    {
     "data": {
      "text/plain": [
       "RelationsDS()"
      ]
     },
     "execution_count": 1,
     "metadata": {},
     "output_type": "execute_result"
    }
   ],
   "source": [
    "from dataset import RelationsDS\n",
    "\n",
    "data = RelationsDS(root='./data')\n",
    "data"
   ]
  },
  {
   "cell_type": "code",
   "execution_count": 2,
   "metadata": {},
   "outputs": [
    {
     "data": {
      "text/plain": [
       "Data(edge_index=[2, 111276], edge_type=[111276], token_ids=[90561, 138], token_mask=[90561, 138], token_type_ids=[90561, 138])"
      ]
     },
     "execution_count": 2,
     "metadata": {},
     "output_type": "execute_result"
    }
   ],
   "source": [
    "data[0]"
   ]
  },
  {
   "cell_type": "markdown",
   "metadata": {},
   "source": [
    "## PyG's Wordnet "
   ]
  },
  {
   "cell_type": "code",
   "execution_count": 4,
   "metadata": {},
   "outputs": [
    {
     "name": "stderr",
     "output_type": "stream",
     "text": [
      "Downloading https://raw.githubusercontent.com/villmow/datasets_knowledge_embedding/master/WN18RR/original/train.txt\n",
      "Downloading https://raw.githubusercontent.com/villmow/datasets_knowledge_embedding/master/WN18RR/original/valid.txt\n",
      "Downloading https://raw.githubusercontent.com/villmow/datasets_knowledge_embedding/master/WN18RR/original/test.txt\n",
      "Processing...\n",
      "Done!\n"
     ]
    }
   ],
   "source": [
    "import torch \n",
    "from torch_geometric.datasets import WordNet18RR\n",
    "\n",
    "wordnet = WordNet18RR(root='data/wordnet18rr', force_reload=True)"
   ]
  },
  {
   "cell_type": "code",
   "execution_count": 5,
   "metadata": {},
   "outputs": [],
   "source": [
    "edge_index = wordnet.edge_index\n",
    "edge_type  = wordnet.edge_type \n",
    "train_mask, val_mask, test_mask = wordnet.train_mask, wordnet.val_mask, wordnet.test_mask"
   ]
  },
  {
   "cell_type": "code",
   "execution_count": 47,
   "metadata": {},
   "outputs": [
    {
     "data": {
      "text/plain": [
       "(torch.Size([93003]), tensor([ 3,  9, 10,  ...,  3,  3,  3]))"
      ]
     },
     "execution_count": 47,
     "metadata": {},
     "output_type": "execute_result"
    }
   ],
   "source": [
    "edge_type.shape, edge_type"
   ]
  },
  {
   "cell_type": "code",
   "execution_count": 6,
   "metadata": {},
   "outputs": [
    {
     "data": {
      "text/plain": [
       "Data(edge_index=[2, 93003], edge_type=[93003], train_mask=[93003], val_mask=[93003], test_mask=[93003], num_nodes=40943)"
      ]
     },
     "execution_count": 6,
     "metadata": {},
     "output_type": "execute_result"
    }
   ],
   "source": [
    "wordnet.get(0)"
   ]
  },
  {
   "cell_type": "code",
   "execution_count": 40,
   "metadata": {},
   "outputs": [
    {
     "data": {
      "text/plain": [
       "{'_also_see': 0,\n",
       " '_derivationally_related_form': 1,\n",
       " '_has_part': 2,\n",
       " '_hypernym': 3,\n",
       " '_instance_hypernym': 4,\n",
       " '_member_meronym': 5,\n",
       " '_member_of_domain_region': 6,\n",
       " '_member_of_domain_usage': 7,\n",
       " '_similar_to': 8,\n",
       " '_synset_domain_topic_of': 9,\n",
       " '_verb_group': 10}"
      ]
     },
     "execution_count": 40,
     "metadata": {},
     "output_type": "execute_result"
    }
   ],
   "source": [
    "wordnet.edge2id"
   ]
  }
 ],
 "metadata": {
  "kernelspec": {
   "display_name": "Python 3",
   "language": "python",
   "name": "python3"
  },
  "language_info": {
   "codemirror_mode": {
    "name": "ipython",
    "version": 3
   },
   "file_extension": ".py",
   "mimetype": "text/x-python",
   "name": "python",
   "nbconvert_exporter": "python",
   "pygments_lexer": "ipython3",
   "version": "3.12.4"
  }
 },
 "nbformat": 4,
 "nbformat_minor": 2
}
