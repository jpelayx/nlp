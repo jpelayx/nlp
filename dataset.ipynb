{
 "cells": [
  {
   "cell_type": "markdown",
   "metadata": {},
   "source": [
    "# Dataset analysis "
   ]
  },
  {
   "cell_type": "code",
   "execution_count": 13,
   "metadata": {},
   "outputs": [],
   "source": [
    "import pandas as pd\n",
    "import numpy as np"
   ]
  },
  {
   "cell_type": "code",
   "execution_count": 14,
   "metadata": {},
   "outputs": [
    {
     "data": {
      "text/html": [
       "<div>\n",
       "<style scoped>\n",
       "    .dataframe tbody tr th:only-of-type {\n",
       "        vertical-align: middle;\n",
       "    }\n",
       "\n",
       "    .dataframe tbody tr th {\n",
       "        vertical-align: top;\n",
       "    }\n",
       "\n",
       "    .dataframe thead th {\n",
       "        text-align: right;\n",
       "    }\n",
       "</style>\n",
       "<table border=\"1\" class=\"dataframe\">\n",
       "  <thead>\n",
       "    <tr style=\"text-align: right;\">\n",
       "      <th></th>\n",
       "      <th>Definição_Synset</th>\n",
       "      <th>ID_Synset</th>\n",
       "      <th>Definição_Relacionada</th>\n",
       "      <th>ID_Relacionada</th>\n",
       "      <th>Relacao</th>\n",
       "    </tr>\n",
       "  </thead>\n",
       "  <tbody>\n",
       "    <tr>\n",
       "      <th>0</th>\n",
       "      <td>an entity that has physical existence</td>\n",
       "      <td>physical_entity.n.01</td>\n",
       "      <td>that which is perceived or known or inferred t...</td>\n",
       "      <td>entity.n.01</td>\n",
       "      <td>Hypernyms</td>\n",
       "    </tr>\n",
       "    <tr>\n",
       "      <th>1</th>\n",
       "      <td>a general concept formed by extracting common ...</td>\n",
       "      <td>abstraction.n.06</td>\n",
       "      <td>that which is perceived or known or inferred t...</td>\n",
       "      <td>entity.n.01</td>\n",
       "      <td>Hypernyms</td>\n",
       "    </tr>\n",
       "    <tr>\n",
       "      <th>2</th>\n",
       "      <td>a separate and self-contained entity</td>\n",
       "      <td>thing.n.12</td>\n",
       "      <td>an entity that has physical existence</td>\n",
       "      <td>physical_entity.n.01</td>\n",
       "      <td>Hypernyms</td>\n",
       "    </tr>\n",
       "    <tr>\n",
       "      <th>3</th>\n",
       "      <td>a tangible and visible entity; an entity that ...</td>\n",
       "      <td>object.n.01</td>\n",
       "      <td>an entity that has physical existence</td>\n",
       "      <td>physical_entity.n.01</td>\n",
       "      <td>Hypernyms</td>\n",
       "    </tr>\n",
       "    <tr>\n",
       "      <th>4</th>\n",
       "      <td>an assemblage of parts that is regarded as a s...</td>\n",
       "      <td>whole.n.02</td>\n",
       "      <td>a tangible and visible entity; an entity that ...</td>\n",
       "      <td>object.n.01</td>\n",
       "      <td>Hypernyms</td>\n",
       "    </tr>\n",
       "    <tr>\n",
       "      <th>...</th>\n",
       "      <td>...</td>\n",
       "      <td>...</td>\n",
       "      <td>...</td>\n",
       "      <td>...</td>\n",
       "      <td>...</td>\n",
       "    </tr>\n",
       "    <tr>\n",
       "      <th>111271</th>\n",
       "      <td>become empty of water</td>\n",
       "      <td>run_dry.v.01</td>\n",
       "      <td>become dry or drier</td>\n",
       "      <td>dry.v.02</td>\n",
       "      <td>Hypernyms</td>\n",
       "    </tr>\n",
       "    <tr>\n",
       "      <th>111272</th>\n",
       "      <td>get foggy</td>\n",
       "      <td>fog_up.v.01</td>\n",
       "      <td>make overcast or cloudy</td>\n",
       "      <td>overcast.v.01</td>\n",
       "      <td>Hypernyms</td>\n",
       "    </tr>\n",
       "    <tr>\n",
       "      <th>111273</th>\n",
       "      <td>burn to charcoal</td>\n",
       "      <td>char.v.01</td>\n",
       "      <td>cause to burn or combust</td>\n",
       "      <td>burn.v.05</td>\n",
       "      <td>Hypernyms</td>\n",
       "    </tr>\n",
       "    <tr>\n",
       "      <th>111274</th>\n",
       "      <td>become hazy, dull, or cloudy</td>\n",
       "      <td>haze.v.01</td>\n",
       "      <td>make overcast or cloudy</td>\n",
       "      <td>overcast.v.01</td>\n",
       "      <td>Hypernyms</td>\n",
       "    </tr>\n",
       "    <tr>\n",
       "      <th>111275</th>\n",
       "      <td>cause to burn rapidly and with great intensity</td>\n",
       "      <td>deflagrate.v.01</td>\n",
       "      <td>cause to burn or combust</td>\n",
       "      <td>burn.v.05</td>\n",
       "      <td>Hypernyms</td>\n",
       "    </tr>\n",
       "  </tbody>\n",
       "</table>\n",
       "<p>111276 rows × 5 columns</p>\n",
       "</div>"
      ],
      "text/plain": [
       "                                         Definição_Synset  \\\n",
       "0                   an entity that has physical existence   \n",
       "1       a general concept formed by extracting common ...   \n",
       "2                    a separate and self-contained entity   \n",
       "3       a tangible and visible entity; an entity that ...   \n",
       "4       an assemblage of parts that is regarded as a s...   \n",
       "...                                                   ...   \n",
       "111271                              become empty of water   \n",
       "111272                                          get foggy   \n",
       "111273                                   burn to charcoal   \n",
       "111274                       become hazy, dull, or cloudy   \n",
       "111275     cause to burn rapidly and with great intensity   \n",
       "\n",
       "                   ID_Synset  \\\n",
       "0       physical_entity.n.01   \n",
       "1           abstraction.n.06   \n",
       "2                 thing.n.12   \n",
       "3                object.n.01   \n",
       "4                 whole.n.02   \n",
       "...                      ...   \n",
       "111271          run_dry.v.01   \n",
       "111272           fog_up.v.01   \n",
       "111273             char.v.01   \n",
       "111274             haze.v.01   \n",
       "111275       deflagrate.v.01   \n",
       "\n",
       "                                    Definição_Relacionada  \\\n",
       "0       that which is perceived or known or inferred t...   \n",
       "1       that which is perceived or known or inferred t...   \n",
       "2                   an entity that has physical existence   \n",
       "3                   an entity that has physical existence   \n",
       "4       a tangible and visible entity; an entity that ...   \n",
       "...                                                   ...   \n",
       "111271                                become dry or drier   \n",
       "111272                            make overcast or cloudy   \n",
       "111273                           cause to burn or combust   \n",
       "111274                            make overcast or cloudy   \n",
       "111275                           cause to burn or combust   \n",
       "\n",
       "              ID_Relacionada    Relacao  \n",
       "0                entity.n.01  Hypernyms  \n",
       "1                entity.n.01  Hypernyms  \n",
       "2       physical_entity.n.01  Hypernyms  \n",
       "3       physical_entity.n.01  Hypernyms  \n",
       "4                object.n.01  Hypernyms  \n",
       "...                      ...        ...  \n",
       "111271              dry.v.02  Hypernyms  \n",
       "111272         overcast.v.01  Hypernyms  \n",
       "111273             burn.v.05  Hypernyms  \n",
       "111274         overcast.v.01  Hypernyms  \n",
       "111275             burn.v.05  Hypernyms  \n",
       "\n",
       "[111276 rows x 5 columns]"
      ]
     },
     "execution_count": 14,
     "metadata": {},
     "output_type": "execute_result"
    }
   ],
   "source": [
    "data = pd.read_csv('data/direct_relations.csv')\n",
    "data"
   ]
  },
  {
   "cell_type": "code",
   "execution_count": 3,
   "metadata": {},
   "outputs": [
    {
     "data": {
      "text/plain": [
       "Relacao\n",
       "Hypernyms    89089\n",
       "Holonyms     22187\n",
       "Name: count, dtype: int64"
      ]
     },
     "execution_count": 3,
     "metadata": {},
     "output_type": "execute_result"
    }
   ],
   "source": [
    "data['Relacao'].value_counts()"
   ]
  },
  {
   "cell_type": "code",
   "execution_count": 15,
   "metadata": {},
   "outputs": [
    {
     "data": {
      "text/html": [
       "<div>\n",
       "<style scoped>\n",
       "    .dataframe tbody tr th:only-of-type {\n",
       "        vertical-align: middle;\n",
       "    }\n",
       "\n",
       "    .dataframe tbody tr th {\n",
       "        vertical-align: top;\n",
       "    }\n",
       "\n",
       "    .dataframe thead th {\n",
       "        text-align: right;\n",
       "    }\n",
       "</style>\n",
       "<table border=\"1\" class=\"dataframe\">\n",
       "  <thead>\n",
       "    <tr style=\"text-align: right;\">\n",
       "      <th></th>\n",
       "      <th>ID</th>\n",
       "      <th>Definição</th>\n",
       "    </tr>\n",
       "  </thead>\n",
       "  <tbody>\n",
       "    <tr>\n",
       "      <th>0</th>\n",
       "      <td>physical_entity.n.01</td>\n",
       "      <td>an entity that has physical existence</td>\n",
       "    </tr>\n",
       "    <tr>\n",
       "      <th>1</th>\n",
       "      <td>abstraction.n.06</td>\n",
       "      <td>a general concept formed by extracting common ...</td>\n",
       "    </tr>\n",
       "    <tr>\n",
       "      <th>2</th>\n",
       "      <td>thing.n.12</td>\n",
       "      <td>a separate and self-contained entity</td>\n",
       "    </tr>\n",
       "    <tr>\n",
       "      <th>3</th>\n",
       "      <td>object.n.01</td>\n",
       "      <td>a tangible and visible entity; an entity that ...</td>\n",
       "    </tr>\n",
       "    <tr>\n",
       "      <th>4</th>\n",
       "      <td>whole.n.02</td>\n",
       "      <td>an assemblage of parts that is regarded as a s...</td>\n",
       "    </tr>\n",
       "    <tr>\n",
       "      <th>...</th>\n",
       "      <td>...</td>\n",
       "      <td>...</td>\n",
       "    </tr>\n",
       "    <tr>\n",
       "      <th>111129</th>\n",
       "      <td>range.v.03</td>\n",
       "      <td>have a range; be capable of projecting over a ...</td>\n",
       "    </tr>\n",
       "    <tr>\n",
       "      <th>111207</th>\n",
       "      <td>precipitate.v.03</td>\n",
       "      <td>fall from clouds</td>\n",
       "    </tr>\n",
       "    <tr>\n",
       "      <th>111221</th>\n",
       "      <td>burn.v.05</td>\n",
       "      <td>cause to burn or combust</td>\n",
       "    </tr>\n",
       "    <tr>\n",
       "      <th>111245</th>\n",
       "      <td>absorb.v.06</td>\n",
       "      <td>suck or take up or in</td>\n",
       "    </tr>\n",
       "    <tr>\n",
       "      <th>111261</th>\n",
       "      <td>blow.v.02</td>\n",
       "      <td>be blowing or storming</td>\n",
       "    </tr>\n",
       "  </tbody>\n",
       "</table>\n",
       "<p>91294 rows × 2 columns</p>\n",
       "</div>"
      ],
      "text/plain": [
       "                          ID  \\\n",
       "0       physical_entity.n.01   \n",
       "1           abstraction.n.06   \n",
       "2                 thing.n.12   \n",
       "3                object.n.01   \n",
       "4                 whole.n.02   \n",
       "...                      ...   \n",
       "111129            range.v.03   \n",
       "111207      precipitate.v.03   \n",
       "111221             burn.v.05   \n",
       "111245           absorb.v.06   \n",
       "111261             blow.v.02   \n",
       "\n",
       "                                                Definição  \n",
       "0                   an entity that has physical existence  \n",
       "1       a general concept formed by extracting common ...  \n",
       "2                    a separate and self-contained entity  \n",
       "3       a tangible and visible entity; an entity that ...  \n",
       "4       an assemblage of parts that is regarded as a s...  \n",
       "...                                                   ...  \n",
       "111129  have a range; be capable of projecting over a ...  \n",
       "111207                                   fall from clouds  \n",
       "111221                           cause to burn or combust  \n",
       "111245                              suck or take up or in  \n",
       "111261                             be blowing or storming  \n",
       "\n",
       "[91294 rows x 2 columns]"
      ]
     },
     "execution_count": 15,
     "metadata": {},
     "output_type": "execute_result"
    }
   ],
   "source": [
    "all_ids = pd.concat([data['ID_Synset'], data['ID_Relacionada']])\n",
    "all_definitions = pd.concat([data['Definição_Synset'], data['Definição_Relacionada']])\n",
    "\n",
    "entities = pd.DataFrame({'ID': all_ids, \n",
    "                         'Definição': all_definitions}).drop_duplicates()\n",
    "entities"
   ]
  },
  {
   "cell_type": "code",
   "execution_count": 34,
   "metadata": {},
   "outputs": [
    {
     "data": {
      "text/plain": [
       "((91294,),\n",
       " array(['physical_entity.n.01', 'abstraction.n.06', 'thing.n.12', ...,\n",
       "        'burn.v.05', 'absorb.v.06', 'blow.v.02'], dtype=object))"
      ]
     },
     "execution_count": 34,
     "metadata": {},
     "output_type": "execute_result"
    }
   ],
   "source": [
    "ids = entities['ID'].to_numpy()\n",
    "mapping = {name : i for i, name in enumerate(ids)}\n",
    "\n",
    "ids.shape, ids"
   ]
  },
  {
   "cell_type": "code",
   "execution_count": 17,
   "metadata": {},
   "outputs": [
    {
     "data": {
      "text/plain": [
       "((91294,),\n",
       " array(['an entity that has physical existence',\n",
       "        'a general concept formed by extracting common features from specific examples',\n",
       "        'a separate and self-contained entity', ...,\n",
       "        'cause to burn or combust', 'suck or take up or in',\n",
       "        'be blowing or storming'], dtype=object))"
      ]
     },
     "execution_count": 17,
     "metadata": {},
     "output_type": "execute_result"
    }
   ],
   "source": [
    "definitions = entities['Definição'].to_numpy()\n",
    "definitions.shape, definitions"
   ]
  },
  {
   "cell_type": "code",
   "execution_count": 69,
   "metadata": {},
   "outputs": [
    {
     "name": "stdout",
     "output_type": "stream",
     "text": [
      "505\n",
      "a war between the Allies (Australia, Belgium, Bolivia, Brazil, Canada, China, Colombia, Costa Rica, Cuba, Czechoslovakia, Dominican Republic, El Salvador, Ethiopia, France, Greece, Guatemala, Haiti, Honduras, India, Iran, Iraq, Luxembourg, Mexico, Netherlands, New Zealand, Nicaragua, Norway, Panama, Philippines, Poland, South Africa, United Kingdom, United States, USSR, Yugoslavia) and the Axis (Albania, Bulgaria, Finland, Germany, Hungary, Italy, Japan, Rumania, Slovakia, Thailand) from 1939 to 1945\n"
     ]
    }
   ],
   "source": [
    "max_len_def = definitions[np.argmax([len(d) for d in definitions])]\n",
    "print(len(max_len_def))\n",
    "print(max_len_def)"
   ]
  },
  {
   "cell_type": "code",
   "execution_count": 7,
   "metadata": {},
   "outputs": [
    {
     "data": {
      "text/plain": [
       "(2, 111276)"
      ]
     },
     "execution_count": 7,
     "metadata": {},
     "output_type": "execute_result"
    }
   ],
   "source": [
    "edge_index_i =  data['ID_Synset'].map(mapping).to_numpy()\n",
    "edge_index_j =  data['ID_Relacionada'].map(mapping).to_numpy()\n",
    "\n",
    "edge_index = np.stack([edge_index_i, edge_index_j])\n",
    "edge_index.shape"
   ]
  },
  {
   "cell_type": "code",
   "execution_count": 42,
   "metadata": {},
   "outputs": [
    {
     "data": {
      "text/plain": [
       "(111276,)"
      ]
     },
     "execution_count": 42,
     "metadata": {},
     "output_type": "execute_result"
    }
   ],
   "source": [
    "edge2id = {\n",
    "    'Hypernyms': 0,\n",
    "    'Holonyms': 1\n",
    "}\n",
    "edge_attr = data['Relacao'].map(edge2id).to_numpy()\n",
    "edge_attr.shape"
   ]
  },
  {
   "cell_type": "markdown",
   "metadata": {},
   "source": [
    "### Repeated definitions"
   ]
  },
  {
   "cell_type": "code",
   "execution_count": 18,
   "metadata": {},
   "outputs": [
    {
     "name": "stdout",
     "output_type": "stream",
     "text": [
      "(90854,)\n",
      "(28041,)\n",
      "(90131,)\n",
      "(27763,)\n"
     ]
    }
   ],
   "source": [
    "print(data['ID_Synset'].unique().shape)\n",
    "print(data['ID_Relacionada'].unique().shape)\n",
    "\n",
    "print(data['Definição_Synset'].unique().shape)\n",
    "print(data['Definição_Relacionada'].unique().shape)"
   ]
  },
  {
   "cell_type": "code",
   "execution_count": 33,
   "metadata": {},
   "outputs": [
    {
     "name": "stdout",
     "output_type": "stream",
     "text": [
      "Definições associadas a mais de um ID:  482\n"
     ]
    },
    {
     "data": {
      "text/html": [
       "<div>\n",
       "<style scoped>\n",
       "    .dataframe tbody tr th:only-of-type {\n",
       "        vertical-align: middle;\n",
       "    }\n",
       "\n",
       "    .dataframe tbody tr th {\n",
       "        vertical-align: top;\n",
       "    }\n",
       "\n",
       "    .dataframe thead th {\n",
       "        text-align: right;\n",
       "    }\n",
       "</style>\n",
       "<table border=\"1\" class=\"dataframe\">\n",
       "  <thead>\n",
       "    <tr style=\"text-align: right;\">\n",
       "      <th></th>\n",
       "      <th>ID</th>\n",
       "      <th>Definição</th>\n",
       "    </tr>\n",
       "  </thead>\n",
       "  <tbody>\n",
       "    <tr>\n",
       "      <th>123</th>\n",
       "      <td>entrance.n.03</td>\n",
       "      <td>the act of entering</td>\n",
       "    </tr>\n",
       "    <tr>\n",
       "      <th>127</th>\n",
       "      <td>entree.n.04</td>\n",
       "      <td>the act of entering</td>\n",
       "    </tr>\n",
       "    <tr>\n",
       "      <th>3618</th>\n",
       "      <td>laser-assisted_subepithelial_keratomileusis.n.01</td>\n",
       "      <td>a refractive surgery procedure that reshapes t...</td>\n",
       "    </tr>\n",
       "    <tr>\n",
       "      <th>3620</th>\n",
       "      <td>laser-assisted_in_situ_keratomileusis.n.01</td>\n",
       "      <td>a refractive surgery procedure that reshapes t...</td>\n",
       "    </tr>\n",
       "    <tr>\n",
       "      <th>3896</th>\n",
       "      <td>fullback.n.02</td>\n",
       "      <td>(American football) the position of a back on ...</td>\n",
       "    </tr>\n",
       "    <tr>\n",
       "      <th>...</th>\n",
       "      <td>...</td>\n",
       "      <td>...</td>\n",
       "    </tr>\n",
       "    <tr>\n",
       "      <th>108792</th>\n",
       "      <td>get_rid_of.v.01</td>\n",
       "      <td>dispose of</td>\n",
       "    </tr>\n",
       "    <tr>\n",
       "      <th>108862</th>\n",
       "      <td>refuse.v.02</td>\n",
       "      <td>refuse to accept</td>\n",
       "    </tr>\n",
       "    <tr>\n",
       "      <th>109755</th>\n",
       "      <td>abolish.v.01</td>\n",
       "      <td>do away with</td>\n",
       "    </tr>\n",
       "    <tr>\n",
       "      <th>110624</th>\n",
       "      <td>originate_in.v.01</td>\n",
       "      <td>come from</td>\n",
       "    </tr>\n",
       "    <tr>\n",
       "      <th>110629</th>\n",
       "      <td>obviate.v.01</td>\n",
       "      <td>do away with</td>\n",
       "    </tr>\n",
       "  </tbody>\n",
       "</table>\n",
       "<p>1215 rows × 2 columns</p>\n",
       "</div>"
      ],
      "text/plain": [
       "                                                      ID  \\\n",
       "123                                        entrance.n.03   \n",
       "127                                          entree.n.04   \n",
       "3618    laser-assisted_subepithelial_keratomileusis.n.01   \n",
       "3620          laser-assisted_in_situ_keratomileusis.n.01   \n",
       "3896                                       fullback.n.02   \n",
       "...                                                  ...   \n",
       "108792                                   get_rid_of.v.01   \n",
       "108862                                       refuse.v.02   \n",
       "109755                                      abolish.v.01   \n",
       "110624                                 originate_in.v.01   \n",
       "110629                                      obviate.v.01   \n",
       "\n",
       "                                                Definição  \n",
       "123                                   the act of entering  \n",
       "127                                   the act of entering  \n",
       "3618    a refractive surgery procedure that reshapes t...  \n",
       "3620    a refractive surgery procedure that reshapes t...  \n",
       "3896    (American football) the position of a back on ...  \n",
       "...                                                   ...  \n",
       "108792                                         dispose of  \n",
       "108862                                   refuse to accept  \n",
       "109755                                       do away with  \n",
       "110624                                          come from  \n",
       "110629                                       do away with  \n",
       "\n",
       "[1215 rows x 2 columns]"
      ]
     },
     "execution_count": 33,
     "metadata": {},
     "output_type": "execute_result"
    }
   ],
   "source": [
    "syn = entities[entities['Definição'].duplicated(keep=False)]\n",
    "syn.to_csv('data/duplicated-defs.csv')\n",
    "\n",
    "print('Definições associadas a mais de um ID: ', len(syn['Definição'].unique()))\n",
    "syn"
   ]
  },
  {
   "cell_type": "code",
   "execution_count": null,
   "metadata": {},
   "outputs": [
    {
     "data": {
      "text/html": [
       "<div>\n",
       "<style scoped>\n",
       "    .dataframe tbody tr th:only-of-type {\n",
       "        vertical-align: middle;\n",
       "    }\n",
       "\n",
       "    .dataframe tbody tr th {\n",
       "        vertical-align: top;\n",
       "    }\n",
       "\n",
       "    .dataframe thead th {\n",
       "        text-align: right;\n",
       "    }\n",
       "</style>\n",
       "<table border=\"1\" class=\"dataframe\">\n",
       "  <thead>\n",
       "    <tr style=\"text-align: right;\">\n",
       "      <th></th>\n",
       "      <th>ID</th>\n",
       "      <th>ID_Relacionada</th>\n",
       "      <th>Relação</th>\n",
       "    </tr>\n",
       "  </thead>\n",
       "  <tbody>\n",
       "    <tr>\n",
       "      <th>7108</th>\n",
       "      <td>bacteria_family.n.01</td>\n",
       "      <td>family.n.06</td>\n",
       "      <td>Hypernyms</td>\n",
       "    </tr>\n",
       "    <tr>\n",
       "      <th>7109</th>\n",
       "      <td>bacteria_family.n.01</td>\n",
       "      <td>division_eubacteria.n.01</td>\n",
       "      <td>Holonyms</td>\n",
       "    </tr>\n",
       "    <tr>\n",
       "      <th>7120</th>\n",
       "      <td>rhizobiaceae.n.01</td>\n",
       "      <td>bacteria_family.n.01</td>\n",
       "      <td>Hypernyms</td>\n",
       "    </tr>\n",
       "    <tr>\n",
       "      <th>7135</th>\n",
       "      <td>bacillaceae.n.01</td>\n",
       "      <td>bacteria_family.n.01</td>\n",
       "      <td>Hypernyms</td>\n",
       "    </tr>\n",
       "    <tr>\n",
       "      <th>7158</th>\n",
       "      <td>myxophyceae.n.01</td>\n",
       "      <td>bacteria_family.n.01</td>\n",
       "      <td>Hypernyms</td>\n",
       "    </tr>\n",
       "    <tr>\n",
       "      <th>7160</th>\n",
       "      <td>nostocaceae.n.01</td>\n",
       "      <td>bacteria_family.n.01</td>\n",
       "      <td>Hypernyms</td>\n",
       "    </tr>\n",
       "    <tr>\n",
       "      <th>7166</th>\n",
       "      <td>oscillatoriaceae.n.01</td>\n",
       "      <td>bacteria_family.n.01</td>\n",
       "      <td>Hypernyms</td>\n",
       "    </tr>\n",
       "    <tr>\n",
       "      <th>7176</th>\n",
       "      <td>pseudomonodaceae.n.01</td>\n",
       "      <td>bacteria_family.n.01</td>\n",
       "      <td>Hypernyms</td>\n",
       "    </tr>\n",
       "    <tr>\n",
       "      <th>7187</th>\n",
       "      <td>athiorhodaceae.n.01</td>\n",
       "      <td>bacteria_family.n.01</td>\n",
       "      <td>Hypernyms</td>\n",
       "    </tr>\n",
       "    <tr>\n",
       "      <th>7199</th>\n",
       "      <td>thiobacteriaceae.n.01</td>\n",
       "      <td>bacteria_family.n.01</td>\n",
       "      <td>Hypernyms</td>\n",
       "    </tr>\n",
       "    <tr>\n",
       "      <th>7206</th>\n",
       "      <td>spirillaceae.n.01</td>\n",
       "      <td>bacteria_family.n.01</td>\n",
       "      <td>Hypernyms</td>\n",
       "    </tr>\n",
       "    <tr>\n",
       "      <th>7221</th>\n",
       "      <td>bacteroidaceae.n.01</td>\n",
       "      <td>bacteria_family.n.01</td>\n",
       "      <td>Hypernyms</td>\n",
       "    </tr>\n",
       "    <tr>\n",
       "      <th>7232</th>\n",
       "      <td>corynebacteriaceae.n.01</td>\n",
       "      <td>bacteria_family.n.01</td>\n",
       "      <td>Hypernyms</td>\n",
       "    </tr>\n",
       "    <tr>\n",
       "      <th>7245</th>\n",
       "      <td>enterobacteriaceae.n.01</td>\n",
       "      <td>bacteria_family.n.01</td>\n",
       "      <td>Hypernyms</td>\n",
       "    </tr>\n",
       "    <tr>\n",
       "      <th>7281</th>\n",
       "      <td>rickettsiaceae.n.01</td>\n",
       "      <td>bacteria_family.n.01</td>\n",
       "      <td>Hypernyms</td>\n",
       "    </tr>\n",
       "    <tr>\n",
       "      <th>7291</th>\n",
       "      <td>chlamydiaceae.n.01</td>\n",
       "      <td>bacteria_family.n.01</td>\n",
       "      <td>Hypernyms</td>\n",
       "    </tr>\n",
       "    <tr>\n",
       "      <th>7301</th>\n",
       "      <td>mycoplasmataceae.n.01</td>\n",
       "      <td>bacteria_family.n.01</td>\n",
       "      <td>Hypernyms</td>\n",
       "    </tr>\n",
       "    <tr>\n",
       "      <th>7316</th>\n",
       "      <td>actinomycetaceae.n.01</td>\n",
       "      <td>bacteria_family.n.01</td>\n",
       "      <td>Hypernyms</td>\n",
       "    </tr>\n",
       "    <tr>\n",
       "      <th>7322</th>\n",
       "      <td>streptomycetaceae.n.01</td>\n",
       "      <td>bacteria_family.n.01</td>\n",
       "      <td>Hypernyms</td>\n",
       "    </tr>\n",
       "    <tr>\n",
       "      <th>7331</th>\n",
       "      <td>mycobacteriaceae.n.01</td>\n",
       "      <td>bacteria_family.n.01</td>\n",
       "      <td>Hypernyms</td>\n",
       "    </tr>\n",
       "    <tr>\n",
       "      <th>7345</th>\n",
       "      <td>polyangiaceae.n.01</td>\n",
       "      <td>bacteria_family.n.01</td>\n",
       "      <td>Hypernyms</td>\n",
       "    </tr>\n",
       "    <tr>\n",
       "      <th>7351</th>\n",
       "      <td>micrococcaceae.n.01</td>\n",
       "      <td>bacteria_family.n.01</td>\n",
       "      <td>Hypernyms</td>\n",
       "    </tr>\n",
       "    <tr>\n",
       "      <th>7359</th>\n",
       "      <td>lactobacillaceae.n.01</td>\n",
       "      <td>bacteria_family.n.01</td>\n",
       "      <td>Hypernyms</td>\n",
       "    </tr>\n",
       "    <tr>\n",
       "      <th>7381</th>\n",
       "      <td>spirochaetaceae.n.01</td>\n",
       "      <td>bacteria_family.n.01</td>\n",
       "      <td>Hypernyms</td>\n",
       "    </tr>\n",
       "    <tr>\n",
       "      <th>7387</th>\n",
       "      <td>treponemataceae.n.01</td>\n",
       "      <td>bacteria_family.n.01</td>\n",
       "      <td>Hypernyms</td>\n",
       "    </tr>\n",
       "  </tbody>\n",
       "</table>\n",
       "</div>"
      ],
      "text/plain": [
       "                           ID            ID_Relacionada    Relação\n",
       "7108     bacteria_family.n.01               family.n.06  Hypernyms\n",
       "7109     bacteria_family.n.01  division_eubacteria.n.01   Holonyms\n",
       "7120        rhizobiaceae.n.01      bacteria_family.n.01  Hypernyms\n",
       "7135         bacillaceae.n.01      bacteria_family.n.01  Hypernyms\n",
       "7158         myxophyceae.n.01      bacteria_family.n.01  Hypernyms\n",
       "7160         nostocaceae.n.01      bacteria_family.n.01  Hypernyms\n",
       "7166    oscillatoriaceae.n.01      bacteria_family.n.01  Hypernyms\n",
       "7176    pseudomonodaceae.n.01      bacteria_family.n.01  Hypernyms\n",
       "7187      athiorhodaceae.n.01      bacteria_family.n.01  Hypernyms\n",
       "7199    thiobacteriaceae.n.01      bacteria_family.n.01  Hypernyms\n",
       "7206        spirillaceae.n.01      bacteria_family.n.01  Hypernyms\n",
       "7221      bacteroidaceae.n.01      bacteria_family.n.01  Hypernyms\n",
       "7232  corynebacteriaceae.n.01      bacteria_family.n.01  Hypernyms\n",
       "7245  enterobacteriaceae.n.01      bacteria_family.n.01  Hypernyms\n",
       "7281      rickettsiaceae.n.01      bacteria_family.n.01  Hypernyms\n",
       "7291       chlamydiaceae.n.01      bacteria_family.n.01  Hypernyms\n",
       "7301    mycoplasmataceae.n.01      bacteria_family.n.01  Hypernyms\n",
       "7316    actinomycetaceae.n.01      bacteria_family.n.01  Hypernyms\n",
       "7322   streptomycetaceae.n.01      bacteria_family.n.01  Hypernyms\n",
       "7331    mycobacteriaceae.n.01      bacteria_family.n.01  Hypernyms\n",
       "7345       polyangiaceae.n.01      bacteria_family.n.01  Hypernyms\n",
       "7351      micrococcaceae.n.01      bacteria_family.n.01  Hypernyms\n",
       "7359    lactobacillaceae.n.01      bacteria_family.n.01  Hypernyms\n",
       "7381     spirochaetaceae.n.01      bacteria_family.n.01  Hypernyms\n",
       "7387     treponemataceae.n.01      bacteria_family.n.01  Hypernyms"
      ]
     },
     "metadata": {},
     "output_type": "display_data"
    }
   ],
   "source": [
    "id = mapping['bacteria_family.n.01']\n",
    "indexes = np.logical_or(edge_index_i == id, edge_index_j == id)\n",
    "bacteria_family_rel = edge_index[:, indexes]\n",
    "bfd = pd.DataFrame({'ID': ids[bacteria_family_rel[0,:]],\n",
    "                    'ID_Relacionada': ids[bacteria_family_rel[1,:]],\n",
    "                    'Relação': data['Relacao'][indexes]})\n",
    "bfd"
   ]
  },
  {
   "cell_type": "markdown",
   "metadata": {},
   "source": [
    "### Tokenizing definitions "
   ]
  },
  {
   "cell_type": "code",
   "execution_count": 9,
   "metadata": {},
   "outputs": [],
   "source": [
    "import torch\n",
    "from transformers import BertTokenizer, BertConfig, BertModel"
   ]
  },
  {
   "cell_type": "code",
   "execution_count": 8,
   "metadata": {},
   "outputs": [
    {
     "data": {
      "text/plain": [
       "array(['an entity that has physical existence',\n",
       "       'a general concept formed by extracting common features from specific examples',\n",
       "       'a separate and self-contained entity', ...,\n",
       "       'cause to burn or combust', 'suck or take up or in',\n",
       "       'be blowing or storming'], dtype=object)"
      ]
     },
     "execution_count": 8,
     "metadata": {},
     "output_type": "execute_result"
    }
   ],
   "source": [
    "definitions"
   ]
  },
  {
   "cell_type": "code",
   "execution_count": 10,
   "metadata": {},
   "outputs": [],
   "source": [
    "tokenizer = BertTokenizer.from_pretrained('bert-base-uncased') "
   ]
  },
  {
   "cell_type": "code",
   "execution_count": 11,
   "metadata": {},
   "outputs": [],
   "source": [
    "tokens = tokenizer(list(definitions), padding=True, return_tensors='pt', add_special_tokens=True)"
   ]
  },
  {
   "cell_type": "code",
   "execution_count": 26,
   "metadata": {},
   "outputs": [
    {
     "data": {
      "text/plain": [
       "90561"
      ]
     },
     "execution_count": 26,
     "metadata": {},
     "output_type": "execute_result"
    }
   ],
   "source": [
    "len(definitions)"
   ]
  },
  {
   "cell_type": "code",
   "execution_count": 30,
   "metadata": {},
   "outputs": [
    {
     "data": {
      "text/plain": [
       "{'input_ids': tensor([[  101,  2019,  9178,  ...,     0,     0,     0],\n",
       "        [  101,  1037,  2236,  ...,     0,     0,     0],\n",
       "        [  101,  1037,  3584,  ...,     0,     0,     0],\n",
       "        ...,\n",
       "        [  101,  3426,  2000,  ...,     0,     0,     0],\n",
       "        [  101, 11891,  2030,  ...,     0,     0,     0],\n",
       "        [  101,  2022, 11221,  ...,     0,     0,     0]]), 'token_type_ids': tensor([[0, 0, 0,  ..., 0, 0, 0],\n",
       "        [0, 0, 0,  ..., 0, 0, 0],\n",
       "        [0, 0, 0,  ..., 0, 0, 0],\n",
       "        ...,\n",
       "        [0, 0, 0,  ..., 0, 0, 0],\n",
       "        [0, 0, 0,  ..., 0, 0, 0],\n",
       "        [0, 0, 0,  ..., 0, 0, 0]]), 'attention_mask': tensor([[1, 1, 1,  ..., 0, 0, 0],\n",
       "        [1, 1, 1,  ..., 0, 0, 0],\n",
       "        [1, 1, 1,  ..., 0, 0, 0],\n",
       "        ...,\n",
       "        [1, 1, 1,  ..., 0, 0, 0],\n",
       "        [1, 1, 1,  ..., 0, 0, 0],\n",
       "        [1, 1, 1,  ..., 0, 0, 0]])}"
      ]
     },
     "execution_count": 30,
     "metadata": {},
     "output_type": "execute_result"
    }
   ],
   "source": [
    "tokens"
   ]
  },
  {
   "cell_type": "code",
   "execution_count": 24,
   "metadata": {},
   "outputs": [
    {
     "data": {
      "text/plain": [
       "torch.Size([90561, 138])"
      ]
     },
     "execution_count": 24,
     "metadata": {},
     "output_type": "execute_result"
    }
   ],
   "source": [
    "token_ids  = tokens.input_ids\n",
    "token_mask = tokens.attention_mask\n",
    "token_type_ids = tokens.token_type_ids\n",
    "\n",
    "token_ids.shape"
   ]
  },
  {
   "cell_type": "code",
   "execution_count": 12,
   "metadata": {},
   "outputs": [
    {
     "data": {
      "text/plain": [
       "torch.Size([91294, 138])"
      ]
     },
     "execution_count": 12,
     "metadata": {},
     "output_type": "execute_result"
    }
   ],
   "source": [
    "token_ids  = tokens.input_ids\n",
    "token_mask = tokens.attention_mask\n",
    "token_type_ids = tokens.token_type_ids\n",
    "\n",
    "token_ids.shape"
   ]
  },
  {
   "cell_type": "code",
   "execution_count": 30,
   "metadata": {},
   "outputs": [],
   "source": [
    "tokens_not_padded = tokenizer(list(definitions), padding=False)"
   ]
  },
  {
   "cell_type": "code",
   "execution_count": 34,
   "metadata": {},
   "outputs": [],
   "source": [
    "token_ids  = tokens_not_padded.input_ids\n",
    "token_mask = tokens_not_padded.attention_mask\n",
    "token_type_ids = tokens_not_padded.token_type_ids"
   ]
  },
  {
   "cell_type": "code",
   "execution_count": 36,
   "metadata": {},
   "outputs": [
    {
     "name": "stdout",
     "output_type": "stream",
     "text": [
      "138\n",
      "plants having naked seeds not enclosed in an ovary; in some systems considered a class (Gymnospermae) and in others a division (Gymnospermophyta); comprises three subdivisions (or classes): Cycadophytina (class Cycadopsida) and Gnetophytina (class Gnetopsida) and Coniferophytina (class Coniferopsida); in some classifications the Coniferophytina are divided into three groups: Pinophytina (class Pinopsida) and Ginkgophytina (class Ginkgopsida) and Taxophytina (class Taxopsida)\n"
     ]
    }
   ],
   "source": [
    "max_len_def = definitions[np.argmax([len(seq) for seq in token_ids])]\n",
    "print(np.max([len(seq) for seq in token_ids]))\n",
    "print(max_len_def)"
   ]
  },
  {
   "cell_type": "markdown",
   "metadata": {},
   "source": [
    "# Dataset"
   ]
  },
  {
   "cell_type": "code",
   "execution_count": 5,
   "metadata": {},
   "outputs": [],
   "source": [
    "import torch \n",
    "from torch_geometric.data import Data"
   ]
  },
  {
   "cell_type": "code",
   "execution_count": 2,
   "metadata": {},
   "outputs": [
    {
     "name": "stderr",
     "output_type": "stream",
     "text": [
      "Processing...\n",
      "Done!\n"
     ]
    },
    {
     "data": {
      "text/plain": [
       "RelationsDS()"
      ]
     },
     "execution_count": 2,
     "metadata": {},
     "output_type": "execute_result"
    }
   ],
   "source": [
    "from dataset import RelationsDS\n",
    "\n",
    "data = RelationsDS(root='./data')\n",
    "data"
   ]
  },
  {
   "cell_type": "code",
   "execution_count": 3,
   "metadata": {},
   "outputs": [
    {
     "data": {
      "text/plain": [
       "Data(edge_index=[2, 111276], edge_type=[111276], token_ids=[91294, 138], token_mask=[91294, 138], token_type_ids=[91294, 138])"
      ]
     },
     "execution_count": 3,
     "metadata": {},
     "output_type": "execute_result"
    }
   ],
   "source": [
    "edge2id = data.edge2id\n",
    "data = data[0]\n",
    "data"
   ]
  },
  {
   "cell_type": "markdown",
   "metadata": {},
   "source": [
    "## Sampling, etc"
   ]
  },
  {
   "cell_type": "code",
   "execution_count": 8,
   "metadata": {},
   "outputs": [],
   "source": [
    "from torch_geometric.utils import structured_negative_sampling"
   ]
  },
  {
   "cell_type": "code",
   "execution_count": 7,
   "metadata": {},
   "outputs": [
    {
     "data": {
      "text/plain": [
       "Data(edge_index=[2, 89089], token_ids=[87943, 138], token_mask=[87943, 138], token_type_ids=[87943, 138])"
      ]
     },
     "execution_count": 7,
     "metadata": {},
     "output_type": "execute_result"
    }
   ],
   "source": [
    "# Selecting only hypernyms\n",
    "\n",
    "edge_index = data.edge_index[:, data.edge_type == edge2id['Hypernyms']]\n",
    "\n",
    "nodes_index = torch.concat([edge_index[0,:], edge_index[1,:]]).unique()\n",
    "token_ids = data.token_ids[nodes_index]\n",
    "token_mask = data.token_mask[nodes_index]\n",
    "token_type_ids = data.token_type_ids[nodes_index]\n",
    "\n",
    "hypernyms = Data()\n",
    "hypernyms.edge_index = edge_index\n",
    "hypernyms.token_ids = token_ids\n",
    "hypernyms.token_mask = token_mask\n",
    "hypernyms.token_type_ids = token_type_ids\n",
    "hypernyms"
   ]
  },
  {
   "cell_type": "markdown",
   "metadata": {},
   "source": [
    "### Edge sampling\n",
    "\n",
    "from [Using Graph Neural Networks to Predict & Analyze Links in Friendship Networks](https://medium.com/@patwei/using-graph-neural-networks-to-predict-analyze-links-in-friendship-networks-5df020830ced)"
   ]
  },
  {
   "cell_type": "code",
   "execution_count": 10,
   "metadata": {},
   "outputs": [],
   "source": [
    "# shuffle edges \n",
    "idx = torch.randperm(hypernyms.edge_index.shape[1])\n",
    "hypernyms.edge_index = hypernyms.edge_index[:,idx]"
   ]
  },
  {
   "cell_type": "code",
   "execution_count": 12,
   "metadata": {},
   "outputs": [],
   "source": [
    "# negative sampling\n",
    "src, tar, neg = structured_negative_sampling(hypernyms.edge_index)"
   ]
  },
  {
   "cell_type": "code",
   "execution_count": 17,
   "metadata": {},
   "outputs": [],
   "source": [
    "train_size = int(hypernyms.edge_index.shape[1] * 0.8)\n",
    "val_size = int(hypernyms.edge_index.shape[1] * 0.1)\n",
    "test_size = hypernyms.edge_index.shape[1] - train_size - val_size\n",
    "\n",
    "hypernyms.pos_train_edge_index = torch.stack([src[:train_size], tar[:train_size]])\n",
    "hypernyms.pos_val_edge_index = torch.stack([src[train_size:train_size+val_size], tar[train_size:train_size+val_size]])\n",
    "hypernyms.pos_test_edge_index = torch.stack([src[train_size+val_size:], tar[train_size+val_size:]])\n",
    "hypernyms.neg_train_edge_index = torch.stack([src[:train_size], neg[:train_size]])\n",
    "hypernyms.neg_val_edge_index = torch.stack([src[train_size:train_size+val_size], neg[train_size:train_size+val_size]])\n",
    "hypernyms.neg_test_edge_index = torch.stack([src[train_size+val_size:], neg[train_size+val_size:]])"
   ]
  },
  {
   "cell_type": "markdown",
   "metadata": {},
   "source": [
    "### Subgraph sampling\n",
    "\n",
    "like in [SEAL](https://arxiv.org/abs/1802.09691)"
   ]
  },
  {
   "cell_type": "markdown",
   "metadata": {},
   "source": [
    "# PyG's Wordnet "
   ]
  },
  {
   "cell_type": "code",
   "execution_count": 4,
   "metadata": {},
   "outputs": [
    {
     "name": "stderr",
     "output_type": "stream",
     "text": [
      "Downloading https://raw.githubusercontent.com/villmow/datasets_knowledge_embedding/master/WN18RR/original/train.txt\n",
      "Downloading https://raw.githubusercontent.com/villmow/datasets_knowledge_embedding/master/WN18RR/original/valid.txt\n",
      "Downloading https://raw.githubusercontent.com/villmow/datasets_knowledge_embedding/master/WN18RR/original/test.txt\n",
      "Processing...\n",
      "Done!\n"
     ]
    }
   ],
   "source": [
    "import torch \n",
    "from torch_geometric.datasets import WordNet18RR\n",
    "\n",
    "wordnet = WordNet18RR(root='data/wordnet18rr', force_reload=True)"
   ]
  },
  {
   "cell_type": "code",
   "execution_count": 5,
   "metadata": {},
   "outputs": [],
   "source": [
    "edge_index = wordnet.edge_index\n",
    "edge_type  = wordnet.edge_type \n",
    "train_mask, val_mask, test_mask = wordnet.train_mask, wordnet.val_mask, wordnet.test_mask"
   ]
  },
  {
   "cell_type": "code",
   "execution_count": 47,
   "metadata": {},
   "outputs": [
    {
     "data": {
      "text/plain": [
       "(torch.Size([93003]), tensor([ 3,  9, 10,  ...,  3,  3,  3]))"
      ]
     },
     "execution_count": 47,
     "metadata": {},
     "output_type": "execute_result"
    }
   ],
   "source": [
    "edge_type.shape, edge_type"
   ]
  },
  {
   "cell_type": "code",
   "execution_count": 6,
   "metadata": {},
   "outputs": [
    {
     "data": {
      "text/plain": [
       "Data(edge_index=[2, 93003], edge_type=[93003], train_mask=[93003], val_mask=[93003], test_mask=[93003], num_nodes=40943)"
      ]
     },
     "execution_count": 6,
     "metadata": {},
     "output_type": "execute_result"
    }
   ],
   "source": [
    "wordnet.get(0)"
   ]
  },
  {
   "cell_type": "code",
   "execution_count": 40,
   "metadata": {},
   "outputs": [
    {
     "data": {
      "text/plain": [
       "{'_also_see': 0,\n",
       " '_derivationally_related_form': 1,\n",
       " '_has_part': 2,\n",
       " '_hypernym': 3,\n",
       " '_instance_hypernym': 4,\n",
       " '_member_meronym': 5,\n",
       " '_member_of_domain_region': 6,\n",
       " '_member_of_domain_usage': 7,\n",
       " '_similar_to': 8,\n",
       " '_synset_domain_topic_of': 9,\n",
       " '_verb_group': 10}"
      ]
     },
     "execution_count": 40,
     "metadata": {},
     "output_type": "execute_result"
    }
   ],
   "source": [
    "wordnet.edge2id"
   ]
  }
 ],
 "metadata": {
  "kernelspec": {
   "display_name": "Python 3",
   "language": "python",
   "name": "python3"
  },
  "language_info": {
   "codemirror_mode": {
    "name": "ipython",
    "version": 3
   },
   "file_extension": ".py",
   "mimetype": "text/x-python",
   "name": "python",
   "nbconvert_exporter": "python",
   "pygments_lexer": "ipython3",
   "version": "3.12.4"
  }
 },
 "nbformat": 4,
 "nbformat_minor": 2
}
